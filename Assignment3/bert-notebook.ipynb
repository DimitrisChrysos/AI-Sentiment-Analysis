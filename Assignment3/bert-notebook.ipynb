{
 "cells": [
  {
   "cell_type": "markdown",
   "id": "5c7e22e7",
   "metadata": {
    "_cell_guid": "f73b31a0-b2cf-4385-b33c-c9012ab732da",
    "_uuid": "0d651e07-b13b-4015-a2b1-1f28aec0a128",
    "collapsed": false,
    "jupyter": {
     "outputs_hidden": false
    },
    "papermill": {
     "duration": 0.013011,
     "end_time": "2025-05-14T10:39:35.518991",
     "exception": false,
     "start_time": "2025-05-14T10:39:35.505980",
     "status": "completed"
    },
    "tags": []
   },
   "source": [
    "# Libraries"
   ]
  },
  {
   "cell_type": "code",
   "execution_count": 1,
   "id": "19a892ac",
   "metadata": {
    "_cell_guid": "8f006357-8b16-4ce7-a0ba-57ad1e5187aa",
    "_uuid": "fee0ed37-3604-45f9-ab65-0ea81a999012",
    "collapsed": false,
    "execution": {
     "iopub.execute_input": "2025-05-14T10:39:35.544014Z",
     "iopub.status.busy": "2025-05-14T10:39:35.543754Z",
     "iopub.status.idle": "2025-05-14T10:40:02.506473Z",
     "shell.execute_reply": "2025-05-14T10:40:02.505891Z"
    },
    "jupyter": {
     "outputs_hidden": false
    },
    "papermill": {
     "duration": 26.976861,
     "end_time": "2025-05-14T10:40:02.507938",
     "exception": false,
     "start_time": "2025-05-14T10:39:35.531077",
     "status": "completed"
    },
    "tags": []
   },
   "outputs": [
    {
     "name": "stderr",
     "output_type": "stream",
     "text": [
      "2025-05-14 10:39:40.572276: E external/local_xla/xla/stream_executor/cuda/cuda_fft.cc:477] Unable to register cuFFT factory: Attempting to register factory for plugin cuFFT when one has already been registered\n",
      "WARNING: All log messages before absl::InitializeLog() is called are written to STDERR\n",
      "E0000 00:00:1747219180.751944      19 cuda_dnn.cc:8310] Unable to register cuDNN factory: Attempting to register factory for plugin cuDNN when one has already been registered\n",
      "E0000 00:00:1747219180.803800      19 cuda_blas.cc:1418] Unable to register cuBLAS factory: Attempting to register factory for plugin cuBLAS when one has already been registered\n"
     ]
    }
   ],
   "source": [
    "from collections import Counter\n",
    "import datetime\n",
    "import itertools\n",
    "import matplotlib.pyplot as plt\n",
    "from nltk.tokenize import word_tokenize\n",
    "import numpy as np\n",
    "import optuna\n",
    "import pandas as pd\n",
    "import random\n",
    "import re\n",
    "import seaborn as sns\n",
    "from sklearn.metrics import accuracy_score, classification_report, confusion_matrix\n",
    "from sklearn.metrics import roc_curve, auc\n",
    "import tensorflow as tf\n",
    "import time\n",
    "import torch\n",
    "from torch.optim import AdamW\n",
    "from torch.utils.data import TensorDataset, random_split\n",
    "from torch.utils.data import DataLoader, RandomSampler, SequentialSampler\n",
    "from transformers import BertConfig\n",
    "from transformers import BertTokenizer\n",
    "from transformers import BertForSequenceClassification, BertConfig\n",
    "from transformers import get_linear_schedule_with_warmup"
   ]
  },
  {
   "cell_type": "markdown",
   "id": "3099e049",
   "metadata": {
    "_cell_guid": "24998a09-14fb-45df-ab7d-6e46e2b85219",
    "_uuid": "740866e8-24f4-4251-a8c9-20735e060c02",
    "collapsed": false,
    "jupyter": {
     "outputs_hidden": false
    },
    "papermill": {
     "duration": 0.01102,
     "end_time": "2025-05-14T10:40:02.531281",
     "exception": false,
     "start_time": "2025-05-14T10:40:02.520261",
     "status": "completed"
    },
    "tags": []
   },
   "source": [
    "# Utils"
   ]
  },
  {
   "cell_type": "markdown",
   "id": "aed99385",
   "metadata": {
    "_cell_guid": "bd490f3c-3106-4ece-b915-adb883091346",
    "_uuid": "1daa7fdb-7cfb-41c6-994e-9ac14fe2c85e",
    "collapsed": false,
    "jupyter": {
     "outputs_hidden": false
    },
    "papermill": {
     "duration": 0.011372,
     "end_time": "2025-05-14T10:40:02.553884",
     "exception": false,
     "start_time": "2025-05-14T10:40:02.542512",
     "status": "completed"
    },
    "tags": []
   },
   "source": [
    "## Random Seed"
   ]
  },
  {
   "cell_type": "code",
   "execution_count": 2,
   "id": "e3b838b1",
   "metadata": {
    "_cell_guid": "bc974099-32f7-4af9-bfd1-aead5579cfef",
    "_uuid": "7dcad6f9-a563-4eb1-a754-e8bded21c59e",
    "collapsed": false,
    "execution": {
     "iopub.execute_input": "2025-05-14T10:40:02.578208Z",
     "iopub.status.busy": "2025-05-14T10:40:02.577743Z",
     "iopub.status.idle": "2025-05-14T10:40:02.584951Z",
     "shell.execute_reply": "2025-05-14T10:40:02.584440Z"
    },
    "jupyter": {
     "outputs_hidden": false
    },
    "papermill": {
     "duration": 0.020524,
     "end_time": "2025-05-14T10:40:02.586009",
     "exception": false,
     "start_time": "2025-05-14T10:40:02.565485",
     "status": "completed"
    },
    "tags": []
   },
   "outputs": [],
   "source": [
    "# Set seed for reproducibility\n",
    "seed = 42\n",
    "random.seed(seed)\n",
    "np.random.seed(seed)\n",
    "torch.manual_seed(seed)\n",
    "torch.cuda.manual_seed_all(seed)"
   ]
  },
  {
   "cell_type": "markdown",
   "id": "10c5d5eb",
   "metadata": {
    "papermill": {
     "duration": 0.010851,
     "end_time": "2025-05-14T10:40:02.608516",
     "exception": false,
     "start_time": "2025-05-14T10:40:02.597665",
     "status": "completed"
    },
    "tags": []
   },
   "source": [
    "## Preprocessing Functions"
   ]
  },
  {
   "cell_type": "code",
   "execution_count": 3,
   "id": "75c479f4",
   "metadata": {
    "_cell_guid": "254f024b-6c12-4007-b02e-5eb80f1cb59d",
    "_uuid": "ad9b0440-43b7-405e-880f-337d572f9a4a",
    "collapsed": false,
    "execution": {
     "iopub.execute_input": "2025-05-14T10:40:02.631850Z",
     "iopub.status.busy": "2025-05-14T10:40:02.631654Z",
     "iopub.status.idle": "2025-05-14T10:40:02.641538Z",
     "shell.execute_reply": "2025-05-14T10:40:02.641010Z"
    },
    "jupyter": {
     "outputs_hidden": false
    },
    "papermill": {
     "duration": 0.023147,
     "end_time": "2025-05-14T10:40:02.642615",
     "exception": false,
     "start_time": "2025-05-14T10:40:02.619468",
     "status": "completed"
    },
    "tags": []
   },
   "outputs": [],
   "source": [
    "# Preprocessing functions\n",
    "\n",
    "def preprocess_text_for_bert(text):\n",
    "    text = text.lower()\n",
    "    text = re.sub(r\"http\\S+|www\\S+\", \"\", text) # Remove URLs\n",
    "    text = re.sub(r\"@\\w+\", \"\", text) # Remove mentions\n",
    "    text = re.sub(r\"#\", \"\", text) # Keep hashtags (remove only '#')\n",
    "    text = re.sub(r\"[^\\x00-\\x7F]+\", \"\", text) # Remove non-ASCII\n",
    "    text = re.sub(r\"\\s+\", \" \", text) # Remove excess spaces\n",
    "    return text.strip()\n",
    "\n",
    "def preprocess_text(text):\n",
    "    text = text.lower() # Convert to lowercase\n",
    "    \n",
    "    # Correct the spelling mistakes\n",
    "    text = re.sub(r\" \\b(luv) \\b\", \"love\", text)\n",
    "    text = re.sub(r\"\\b(amzing) \\b\", \"amazing\", text)\n",
    "    text = re.sub(r\"\\b(terible) \\b\", \"terrible\", text)\n",
    "    text = re.sub(r\"\\b(excelent) \\b\", \"excellent\", text)\n",
    "    text = re.sub(r\"\\b(performnce) \\b\", \"performance\", text)\n",
    "    text = re.sub(r\"\\b(gud)\\b\", \"good\", text)\n",
    "    text = re.sub(r\"\\b(vry)\\b\", \"very\", text)\n",
    "    text = re.sub(r\"\\b(fantstic)\\b\", \"fantastic\", text)\n",
    "    text = re.sub(r\"\\b(gr8)\\b\", \"great\", text)\n",
    "    text = re.sub(r\"\\b(i'm)\\b\", \"i am\", text)\n",
    "    text = re.sub(r\"\\b(horrble)\\b\", \"horrible\", text)\n",
    "    text = re.sub(r\"\\b(don't)\\b\", \"do not\", text)\n",
    "    text = re.sub(r\"\\b(did't)\\b\", \"did not\", text)\n",
    "    text = re.sub(r\"\\b(dont)\\b\", \"do not\", text)\n",
    "    text = re.sub(r\"\\b(didnt)\\b\", \"did not\", text)\n",
    "    text = re.sub(r\"\\b(gotta)\\b\", \"got to\", text)\n",
    "    text = re.sub(r\"\\b(waitin)\\b\", \"waiting\", text)\n",
    "    text = re.sub(r\"\\b(thru)\\b\", \"through\", text)\n",
    "    text = re.sub(r\"\\b('re)\\b\", \"are\", text)\n",
    "    text = re.sub(r\"\\b(sis)\\b\", \"sister\", text)\n",
    "    text = re.sub(r\"\\b(u)\\b\", \"you\", text)\n",
    "    text = re.sub(r\"\\b(yeah)\\b\", \"yes\", text)\n",
    "    text = re.sub(r\"\\b(yeh)\\b\", \"yes\", text)\n",
    "    text = re.sub(r\"\\b(outta)\\b\", \"out of\", text)\n",
    "    text = re.sub(r\"\\b(yah)\\b\", \"you\", text)\n",
    "    text = re.sub(r\"\\b(foun)\\b\", \"found\", text)\n",
    "    text = re.sub(r\"\\b(yah)\\b\", \"you\", text)\n",
    "    text = re.sub(r\"\\b(ur)\\b\", \"you are\", text)\n",
    "    text = re.sub(r\"\\b(sumtimes)\\b\", \"sometimes\", text)\n",
    "    text = re.sub(r\"\\b(can't)\\b\", \"can not\", text)\n",
    "    text = re.sub(r\"\\b(cannot)\\b\", \"can not\", text)\n",
    "    text = re.sub(r\"\\b(commin)\\b\", \"comming\", text)\n",
    "    text = re.sub(r\"\\b(gonna)\\b\", \"going to\", text)\n",
    "    text = re.sub(r\"\\b(btw)\\b\", \"by the way\", text)\n",
    "    text = re.sub(r\"\\b(at the moment)\\b\", \"atm\", text)\n",
    "    text = re.sub(r\"\\b(oh my god)\\b\", \"omg\", text)\n",
    "    text = re.sub(r\"\\b(laugh out loud)\\b\", \"lol\", text)\n",
    "    text = re.sub(r\"\\b(it's)\\b\", \"it is\", text)\n",
    "    text = re.sub(r\"\\b(its)\\b\", \"it is\", text)\n",
    "    text = re.sub(r\"\\b('s)\\b\", \" \", text)\n",
    "    \n",
    "    # Remove links\n",
    "    text = re.sub(r'http\\S+|www\\S+|https\\S+', '', text)\n",
    "\n",
    "    # Remove hashtags\n",
    "    text = re.sub(r'\\#\\w+', '', text)\n",
    "\n",
    "    # Remove emails\n",
    "    text = re.sub(r'\\b[A-Za-z0-9._%+-]+@[A-Za-z0-9.-]+\\.[A-Za-z]{2,}\\b', '', text)\n",
    "\n",
    "    # Remove mentions/tags\n",
    "    text = re.sub(r'@\\w+', '', text)\n",
    "\n",
    "     # Remove numbers\n",
    "    text = re.sub(r'\\d+', '', text)\n",
    "\n",
    "    # Remove emojis\n",
    "    text = re.sub(r'[^\\w\\s,;!?\\'\\\"`~\\-\\.:]', '', text)\n",
    "\n",
    "    # Replace words with 3 or more consecutive identical letters with just the first 3 letters\n",
    "    text = re.sub(r'(\\b\\w*?)(\\w)\\2{2,}(\\w*)\\b', r'\\1\\2\\3', text)\n",
    "\n",
    "    # Remove non-ASCII characters (weird characters like ã, â, etc.)\n",
    "    text = re.sub(r'[^\\x00-\\x7F]+', '', text)\n",
    "\n",
    "    # Remove words that have only one letter\n",
    "    text = re.sub(r'\\b\\w\\b', '', text)\n",
    "    \n",
    "    # Remove special characters\n",
    "    text = re.sub(r\"[^\\w\\s]\", \" \", text)\n",
    "\n",
    "    # Replace multiple spaces, tabs, or other whitespace with a single space\n",
    "    text = re.sub(r'\\s+', ' ', text)\n",
    "    \n",
    "    # Remove whitespace from the start and end\n",
    "    text = text.strip()\n",
    "\n",
    "    return text"
   ]
  },
  {
   "cell_type": "markdown",
   "id": "63f65764",
   "metadata": {
    "_cell_guid": "7896df62-83fe-4e08-9a08-2bc0e93b19e4",
    "_uuid": "6d6afe1c-b90d-4b59-9035-6e23baae15fc",
    "collapsed": false,
    "jupyter": {
     "outputs_hidden": false
    },
    "papermill": {
     "duration": 0.010863,
     "end_time": "2025-05-14T10:40:02.664629",
     "exception": false,
     "start_time": "2025-05-14T10:40:02.653766",
     "status": "completed"
    },
    "tags": []
   },
   "source": [
    "## Print Confusion Matrix Function"
   ]
  },
  {
   "cell_type": "code",
   "execution_count": 4,
   "id": "29fb4d26",
   "metadata": {
    "_cell_guid": "26feffe6-c60c-40e7-ba64-aa14b8fabffb",
    "_uuid": "2c3340ec-54ef-4fb6-8ff4-146869bc8189",
    "collapsed": false,
    "execution": {
     "iopub.execute_input": "2025-05-14T10:40:02.729088Z",
     "iopub.status.busy": "2025-05-14T10:40:02.728839Z",
     "iopub.status.idle": "2025-05-14T10:40:02.732968Z",
     "shell.execute_reply": "2025-05-14T10:40:02.732430Z"
    },
    "jupyter": {
     "outputs_hidden": false
    },
    "papermill": {
     "duration": 0.017319,
     "end_time": "2025-05-14T10:40:02.733956",
     "exception": false,
     "start_time": "2025-05-14T10:40:02.716637",
     "status": "completed"
    },
    "tags": []
   },
   "outputs": [],
   "source": [
    "# Compute and generate confusion matrix\n",
    "def print_confusion_matrix(y_val, y_pred):\n",
    "    cm = confusion_matrix(y_val, y_pred)\n",
    "    plt.figure(figsize=(6, 5))\n",
    "    sns.heatmap(cm, annot=True, fmt='d', linewidths=2, cbar=False)\n",
    "    plt.xlabel(\"Predicted Label\", fontsize=14)\n",
    "    plt.ylabel(\"True Label\", fontsize=14)\n",
    "    plt.title(\"Confusion Matrix\", fontsize=16)\n",
    "    plt.show()"
   ]
  },
  {
   "cell_type": "markdown",
   "id": "360e3888",
   "metadata": {
    "_cell_guid": "31841e5f-ddfa-4277-b717-80854bd39bba",
    "_uuid": "944c09ce-a18a-4bd7-b5ad-e45517db29ed",
    "collapsed": false,
    "jupyter": {
     "outputs_hidden": false
    },
    "papermill": {
     "duration": 0.011048,
     "end_time": "2025-05-14T10:40:02.756079",
     "exception": false,
     "start_time": "2025-05-14T10:40:02.745031",
     "status": "completed"
    },
    "tags": []
   },
   "source": [
    "## Print ROC curve function"
   ]
  },
  {
   "cell_type": "code",
   "execution_count": 5,
   "id": "1263c2ac",
   "metadata": {
    "_cell_guid": "f1dd6857-739d-45b5-ae15-a292b2b955cb",
    "_uuid": "dafffa68-7622-4aab-98b9-73e4689f5fed",
    "collapsed": false,
    "execution": {
     "iopub.execute_input": "2025-05-14T10:40:02.779214Z",
     "iopub.status.busy": "2025-05-14T10:40:02.779006Z",
     "iopub.status.idle": "2025-05-14T10:40:02.783994Z",
     "shell.execute_reply": "2025-05-14T10:40:02.783309Z"
    },
    "jupyter": {
     "outputs_hidden": false
    },
    "papermill": {
     "duration": 0.017859,
     "end_time": "2025-05-14T10:40:02.785111",
     "exception": false,
     "start_time": "2025-05-14T10:40:02.767252",
     "status": "completed"
    },
    "tags": []
   },
   "outputs": [],
   "source": [
    "# Compute and generate the ROC \n",
    "def print_roc(y_val, y_probs):\n",
    "    # Get False Positive and True Positive Rates\n",
    "    fpr, tpr, thresholds = roc_curve(y_val, y_probs)\n",
    "    \n",
    "    # Get the Area Under the Curve score\n",
    "    roc_auc = auc(fpr, tpr)\n",
    "    \n",
    "    # Plot the ROC curve\n",
    "    plt.figure(figsize=(8, 6))\n",
    "    plt.plot(fpr, tpr, color='darkorange', lw=2, label=f'ROC curve (AUC = {roc_auc:0.2f})')\n",
    "    plt.plot([0, 1], [0, 1], color='red', lw=2, linestyle='--', label='Random Classifier')\n",
    "    plt.xlim([0.0, 1.0])\n",
    "    plt.ylim([0.0, 1.05])\n",
    "    plt.xlabel('False Positive Rate')\n",
    "    plt.ylabel('True Positive Rate')\n",
    "    plt.title('ROC Curve')\n",
    "    plt.legend(loc=\"lower right\")\n",
    "    plt.grid(True)\n",
    "    plt.show()"
   ]
  },
  {
   "cell_type": "markdown",
   "id": "56a54400",
   "metadata": {
    "_cell_guid": "8276ff59-4b3b-41cf-ae76-5ed7cab808c4",
    "_uuid": "d1a9785d-f7f1-47c4-be57-fee23ef821a5",
    "collapsed": false,
    "jupyter": {
     "outputs_hidden": false
    },
    "papermill": {
     "duration": 0.010922,
     "end_time": "2025-05-14T10:40:02.807300",
     "exception": false,
     "start_time": "2025-05-14T10:40:02.796378",
     "status": "completed"
    },
    "tags": []
   },
   "source": [
    "## Helper Functions"
   ]
  },
  {
   "cell_type": "code",
   "execution_count": 6,
   "id": "60dd755b",
   "metadata": {
    "_cell_guid": "08e82717-254d-4047-9d9c-7a885bd568a2",
    "_uuid": "55e900c2-c79f-4739-8ba6-c4b0edb7862b",
    "collapsed": false,
    "execution": {
     "iopub.execute_input": "2025-05-14T10:40:02.830204Z",
     "iopub.status.busy": "2025-05-14T10:40:02.830006Z",
     "iopub.status.idle": "2025-05-14T10:40:02.833916Z",
     "shell.execute_reply": "2025-05-14T10:40:02.833407Z"
    },
    "jupyter": {
     "outputs_hidden": false
    },
    "papermill": {
     "duration": 0.016583,
     "end_time": "2025-05-14T10:40:02.834993",
     "exception": false,
     "start_time": "2025-05-14T10:40:02.818410",
     "status": "completed"
    },
    "tags": []
   },
   "outputs": [],
   "source": [
    "# Function to calculate the accuracy of our predictions vs labels\n",
    "def flat_accuracy(preds, labels):\n",
    "    pred_flat = np.argmax(preds, axis=1).flatten()\n",
    "    labels_flat = labels.flatten()\n",
    "    return np.sum(pred_flat == labels_flat) / len(labels_flat)\n",
    "\n",
    "# Helper function for formatting elapsed times as `hh:mm:ss`\n",
    "def format_time(elapsed):\n",
    "    '''\n",
    "    Takes a time in seconds and returns a string hh:mm:ss\n",
    "    '''\n",
    "    # Round to the nearest second.\n",
    "    elapsed_rounded = int(round((elapsed)))\n",
    "\n",
    "    # Format as hh:mm:ss\n",
    "    return str(datetime.timedelta(seconds=elapsed_rounded))"
   ]
  },
  {
   "cell_type": "markdown",
   "id": "15e20d6d",
   "metadata": {
    "_cell_guid": "924d6b7c-8366-41b8-9328-15894373ad5e",
    "_uuid": "7e965746-874b-4b52-849f-c9d0703f4c1e",
    "collapsed": false,
    "jupyter": {
     "outputs_hidden": false
    },
    "papermill": {
     "duration": 0.011197,
     "end_time": "2025-05-14T10:40:02.857464",
     "exception": false,
     "start_time": "2025-05-14T10:40:02.846267",
     "status": "completed"
    },
    "tags": []
   },
   "source": [
    "# Use GPU"
   ]
  },
  {
   "cell_type": "code",
   "execution_count": 7,
   "id": "90a1c787",
   "metadata": {
    "_cell_guid": "3724b3bd-e828-4d2f-ade7-34968086d302",
    "_uuid": "c107455c-4f92-4800-8629-ab5bda821c30",
    "collapsed": false,
    "execution": {
     "iopub.execute_input": "2025-05-14T10:40:02.880264Z",
     "iopub.status.busy": "2025-05-14T10:40:02.880067Z",
     "iopub.status.idle": "2025-05-14T10:40:03.155629Z",
     "shell.execute_reply": "2025-05-14T10:40:03.154812Z"
    },
    "jupyter": {
     "outputs_hidden": false
    },
    "papermill": {
     "duration": 0.290873,
     "end_time": "2025-05-14T10:40:03.159475",
     "exception": false,
     "start_time": "2025-05-14T10:40:02.868602",
     "status": "completed"
    },
    "tags": []
   },
   "outputs": [
    {
     "name": "stdout",
     "output_type": "stream",
     "text": [
      "Found GPU at: /device:GPU:0\n"
     ]
    },
    {
     "name": "stderr",
     "output_type": "stream",
     "text": [
      "I0000 00:00:1747219203.148996      19 gpu_device.cc:2022] Created device /device:GPU:0 with 13942 MB memory:  -> device: 0, name: Tesla T4, pci bus id: 0000:00:04.0, compute capability: 7.5\n",
      "I0000 00:00:1747219203.149693      19 gpu_device.cc:2022] Created device /device:GPU:1 with 13942 MB memory:  -> device: 1, name: Tesla T4, pci bus id: 0000:00:05.0, compute capability: 7.5\n"
     ]
    }
   ],
   "source": [
    "# Get the GPU device name.\n",
    "device_name = tf.test.gpu_device_name()\n",
    "\n",
    "# The device name should look like the following:\n",
    "if device_name == '/device:GPU:0':\n",
    "    print('Found GPU at: {}'.format(device_name))\n",
    "else:\n",
    "    raise SystemError('GPU device not found')"
   ]
  },
  {
   "cell_type": "code",
   "execution_count": 8,
   "id": "5f847d6b",
   "metadata": {
    "_cell_guid": "d0da40df-d7b7-4776-bc61-836df655d78b",
    "_uuid": "9280568b-4999-4b81-a048-2119186588df",
    "collapsed": false,
    "execution": {
     "iopub.execute_input": "2025-05-14T10:40:03.184163Z",
     "iopub.status.busy": "2025-05-14T10:40:03.183926Z",
     "iopub.status.idle": "2025-05-14T10:40:03.188503Z",
     "shell.execute_reply": "2025-05-14T10:40:03.187795Z"
    },
    "jupyter": {
     "outputs_hidden": false
    },
    "papermill": {
     "duration": 0.017829,
     "end_time": "2025-05-14T10:40:03.189668",
     "exception": false,
     "start_time": "2025-05-14T10:40:03.171839",
     "status": "completed"
    },
    "tags": []
   },
   "outputs": [
    {
     "name": "stdout",
     "output_type": "stream",
     "text": [
      "There are 2 GPU(s) available.\n",
      "We will use the GPU: Tesla T4\n"
     ]
    }
   ],
   "source": [
    "# If there's a GPU available...\n",
    "if torch.cuda.is_available():\n",
    "\n",
    "    # Tell PyTorch to use the GPU.\n",
    "    device = torch.device(\"cuda\")\n",
    "\n",
    "    print('There are %d GPU(s) available.' % torch.cuda.device_count())\n",
    "\n",
    "    print('We will use the GPU:', torch.cuda.get_device_name(0))\n",
    "\n",
    "# If not...\n",
    "else:\n",
    "    print('No GPU available, using the CPU instead.')\n",
    "    device = torch.device(\"cpu\")"
   ]
  },
  {
   "cell_type": "markdown",
   "id": "eae05974",
   "metadata": {
    "_cell_guid": "c1e05cc0-934b-4d5c-8727-76f595c586eb",
    "_uuid": "f003bf66-faa5-40d0-8e9e-3aad1a95d525",
    "collapsed": false,
    "jupyter": {
     "outputs_hidden": false
    },
    "papermill": {
     "duration": 0.01218,
     "end_time": "2025-05-14T10:40:03.213447",
     "exception": false,
     "start_time": "2025-05-14T10:40:03.201267",
     "status": "completed"
    },
    "tags": []
   },
   "source": [
    "# Make Installations"
   ]
  },
  {
   "cell_type": "code",
   "execution_count": 9,
   "id": "503c2442",
   "metadata": {
    "_cell_guid": "f9a7d148-593a-4821-8ecf-49c52fa5b92b",
    "_uuid": "558f6953-d755-460e-ba24-06f4c525284e",
    "collapsed": false,
    "execution": {
     "iopub.execute_input": "2025-05-14T10:40:03.237747Z",
     "iopub.status.busy": "2025-05-14T10:40:03.237494Z",
     "iopub.status.idle": "2025-05-14T10:40:11.593154Z",
     "shell.execute_reply": "2025-05-14T10:40:11.592411Z"
    },
    "jupyter": {
     "outputs_hidden": false
    },
    "papermill": {
     "duration": 8.369179,
     "end_time": "2025-05-14T10:40:11.594460",
     "exception": false,
     "start_time": "2025-05-14T10:40:03.225281",
     "status": "completed"
    },
    "tags": []
   },
   "outputs": [
    {
     "name": "stdout",
     "output_type": "stream",
     "text": [
      "Requirement already satisfied: transformers in /usr/local/lib/python3.11/dist-packages (4.51.1)\r\n",
      "Requirement already satisfied: filelock in /usr/local/lib/python3.11/dist-packages (from transformers) (3.18.0)\r\n",
      "Requirement already satisfied: huggingface-hub<1.0,>=0.30.0 in /usr/local/lib/python3.11/dist-packages (from transformers) (0.30.2)\r\n",
      "Requirement already satisfied: numpy>=1.17 in /usr/local/lib/python3.11/dist-packages (from transformers) (1.26.4)\r\n",
      "Requirement already satisfied: packaging>=20.0 in /usr/local/lib/python3.11/dist-packages (from transformers) (24.2)\r\n",
      "Requirement already satisfied: pyyaml>=5.1 in /usr/local/lib/python3.11/dist-packages (from transformers) (6.0.2)\r\n",
      "Requirement already satisfied: regex!=2019.12.17 in /usr/local/lib/python3.11/dist-packages (from transformers) (2024.11.6)\r\n",
      "Requirement already satisfied: requests in /usr/local/lib/python3.11/dist-packages (from transformers) (2.32.3)\r\n",
      "Requirement already satisfied: tokenizers<0.22,>=0.21 in /usr/local/lib/python3.11/dist-packages (from transformers) (0.21.0)\r\n",
      "Requirement already satisfied: safetensors>=0.4.3 in /usr/local/lib/python3.11/dist-packages (from transformers) (0.5.2)\r\n",
      "Requirement already satisfied: tqdm>=4.27 in /usr/local/lib/python3.11/dist-packages (from transformers) (4.67.1)\r\n",
      "Requirement already satisfied: fsspec>=2023.5.0 in /usr/local/lib/python3.11/dist-packages (from huggingface-hub<1.0,>=0.30.0->transformers) (2025.3.2)\r\n",
      "Requirement already satisfied: typing-extensions>=3.7.4.3 in /usr/local/lib/python3.11/dist-packages (from huggingface-hub<1.0,>=0.30.0->transformers) (4.13.1)\r\n",
      "Requirement already satisfied: mkl_fft in /usr/local/lib/python3.11/dist-packages (from numpy>=1.17->transformers) (1.3.8)\r\n",
      "Requirement already satisfied: mkl_random in /usr/local/lib/python3.11/dist-packages (from numpy>=1.17->transformers) (1.2.4)\r\n",
      "Requirement already satisfied: mkl_umath in /usr/local/lib/python3.11/dist-packages (from numpy>=1.17->transformers) (0.1.1)\r\n",
      "Requirement already satisfied: mkl in /usr/local/lib/python3.11/dist-packages (from numpy>=1.17->transformers) (2025.1.0)\r\n",
      "Requirement already satisfied: tbb4py in /usr/local/lib/python3.11/dist-packages (from numpy>=1.17->transformers) (2022.1.0)\r\n",
      "Requirement already satisfied: mkl-service in /usr/local/lib/python3.11/dist-packages (from numpy>=1.17->transformers) (2.4.1)\r\n",
      "Requirement already satisfied: charset-normalizer<4,>=2 in /usr/local/lib/python3.11/dist-packages (from requests->transformers) (3.4.1)\r\n",
      "Requirement already satisfied: idna<4,>=2.5 in /usr/local/lib/python3.11/dist-packages (from requests->transformers) (3.10)\r\n",
      "Requirement already satisfied: urllib3<3,>=1.21.1 in /usr/local/lib/python3.11/dist-packages (from requests->transformers) (2.3.0)\r\n",
      "Requirement already satisfied: certifi>=2017.4.17 in /usr/local/lib/python3.11/dist-packages (from requests->transformers) (2025.1.31)\r\n",
      "Requirement already satisfied: intel-openmp<2026,>=2024 in /usr/local/lib/python3.11/dist-packages (from mkl->numpy>=1.17->transformers) (2024.2.0)\r\n",
      "Requirement already satisfied: tbb==2022.* in /usr/local/lib/python3.11/dist-packages (from mkl->numpy>=1.17->transformers) (2022.1.0)\r\n",
      "Requirement already satisfied: tcmlib==1.* in /usr/local/lib/python3.11/dist-packages (from tbb==2022.*->mkl->numpy>=1.17->transformers) (1.2.0)\r\n",
      "Requirement already satisfied: intel-cmplr-lib-rt in /usr/local/lib/python3.11/dist-packages (from mkl_umath->numpy>=1.17->transformers) (2024.2.0)\r\n",
      "Requirement already satisfied: intel-cmplr-lib-ur==2024.2.0 in /usr/local/lib/python3.11/dist-packages (from intel-openmp<2026,>=2024->mkl->numpy>=1.17->transformers) (2024.2.0)\r\n",
      "Collecting wget\r\n",
      "  Downloading wget-3.2.zip (10 kB)\r\n",
      "  Preparing metadata (setup.py) ... \u001b[?25l\u001b[?25hdone\r\n",
      "Building wheels for collected packages: wget\r\n",
      "  Building wheel for wget (setup.py) ... \u001b[?25l\u001b[?25hdone\r\n",
      "  Created wheel for wget: filename=wget-3.2-py3-none-any.whl size=9656 sha256=8fa7039190cceac6e8288c2ed8c2936a881b15653e93e384c2a92360aff96e96\r\n",
      "  Stored in directory: /root/.cache/pip/wheels/40/b3/0f/a40dbd1c6861731779f62cc4babcb234387e11d697df70ee97\r\n",
      "Successfully built wget\r\n",
      "Installing collected packages: wget\r\n",
      "Successfully installed wget-3.2\r\n"
     ]
    }
   ],
   "source": [
    "!pip install transformers\n",
    "!pip install wget"
   ]
  },
  {
   "cell_type": "markdown",
   "id": "5c30eaa1",
   "metadata": {
    "_cell_guid": "e93d70a6-6d0d-4c7a-a408-6c324479565c",
    "_uuid": "f3fcc3f1-70a0-45b7-9403-3c7d5c47069a",
    "collapsed": false,
    "jupyter": {
     "outputs_hidden": false
    },
    "papermill": {
     "duration": 0.011664,
     "end_time": "2025-05-14T10:40:11.618678",
     "exception": false,
     "start_time": "2025-05-14T10:40:11.607014",
     "status": "completed"
    },
    "tags": []
   },
   "source": [
    "# Get Dataset"
   ]
  },
  {
   "cell_type": "markdown",
   "id": "bad63254",
   "metadata": {
    "_cell_guid": "0ba42358-89ca-4845-a039-44665b371b5d",
    "_uuid": "fd6d7fab-c66e-4b32-8714-1e20fda3479b",
    "collapsed": false,
    "jupyter": {
     "outputs_hidden": false
    },
    "papermill": {
     "duration": 0.011739,
     "end_time": "2025-05-14T10:40:11.642113",
     "exception": false,
     "start_time": "2025-05-14T10:40:11.630374",
     "status": "completed"
    },
    "tags": []
   },
   "source": [
    "## Create and Preprocess DataFrames"
   ]
  },
  {
   "cell_type": "code",
   "execution_count": 10,
   "id": "56587865",
   "metadata": {
    "_cell_guid": "1176ca7c-ada6-487a-83f8-49c57fab6727",
    "_uuid": "68606733-1b07-43af-9157-64001522adb4",
    "collapsed": false,
    "execution": {
     "iopub.execute_input": "2025-05-14T10:40:11.666732Z",
     "iopub.status.busy": "2025-05-14T10:40:11.666464Z",
     "iopub.status.idle": "2025-05-14T10:40:12.307574Z",
     "shell.execute_reply": "2025-05-14T10:40:12.306976Z"
    },
    "jupyter": {
     "outputs_hidden": false
    },
    "papermill": {
     "duration": 0.655099,
     "end_time": "2025-05-14T10:40:12.309023",
     "exception": false,
     "start_time": "2025-05-14T10:40:11.653924",
     "status": "completed"
    },
    "tags": []
   },
   "outputs": [],
   "source": [
    "# Read CSVs to dfs\n",
    "df_train = pd.read_csv('/kaggle/input/ai-2-dl-for-nlp-2025-homework-3/train_dataset.csv')\n",
    "df_val = pd.read_csv('/kaggle/input/ai-2-dl-for-nlp-2025-homework-3/val_dataset.csv')\n",
    "df_test = pd.read_csv('/kaggle/input/ai-2-dl-for-nlp-2025-homework-3/test_dataset.csv')"
   ]
  },
  {
   "cell_type": "code",
   "execution_count": 11,
   "id": "adf193a0",
   "metadata": {
    "_cell_guid": "37627d1c-13f6-47d6-904b-b62edadcf7e8",
    "_uuid": "05ec88f8-8dfc-4907-ab76-d85d41934087",
    "collapsed": false,
    "execution": {
     "iopub.execute_input": "2025-05-14T10:40:12.334242Z",
     "iopub.status.busy": "2025-05-14T10:40:12.334012Z",
     "iopub.status.idle": "2025-05-14T10:40:14.355166Z",
     "shell.execute_reply": "2025-05-14T10:40:14.354468Z"
    },
    "jupyter": {
     "outputs_hidden": false
    },
    "papermill": {
     "duration": 2.034582,
     "end_time": "2025-05-14T10:40:14.356196",
     "exception": false,
     "start_time": "2025-05-14T10:40:12.321614",
     "status": "completed"
    },
    "tags": []
   },
   "outputs": [
    {
     "name": "stdout",
     "output_type": "stream",
     "text": [
      "Create and Preprocess dataframes - Finished\n"
     ]
    }
   ],
   "source": [
    "# Preprocess dfs\n",
    "df_train_preprocessed = df_train.copy() \n",
    "df_train_preprocessed[\"Text\"] = df_train_preprocessed[\"Text\"].apply(preprocess_text_for_bert)\n",
    "df_val_preprocessed = df_val.copy()\n",
    "df_val_preprocessed[\"Text\"] = df_val_preprocessed[\"Text\"].apply(preprocess_text_for_bert)\n",
    "df_test_preprocessed = df_test.copy()\n",
    "df_test_preprocessed[\"Text\"] = df_test_preprocessed[\"Text\"].apply(preprocess_text_for_bert)\n",
    "\n",
    "print(\"Create and Preprocess dataframes - Finished\")"
   ]
  },
  {
   "cell_type": "markdown",
   "id": "b62831ba",
   "metadata": {
    "_cell_guid": "314515d4-bab9-452b-bb38-930c95d8168b",
    "_uuid": "d62ba72b-9964-4f5a-933b-9eb2cef16d55",
    "collapsed": false,
    "jupyter": {
     "outputs_hidden": false
    },
    "papermill": {
     "duration": 0.0119,
     "end_time": "2025-05-14T10:40:14.380144",
     "exception": false,
     "start_time": "2025-05-14T10:40:14.368244",
     "status": "completed"
    },
    "tags": []
   },
   "source": [
    "## Get Sentences and Labels for Train Dataset"
   ]
  },
  {
   "cell_type": "code",
   "execution_count": 12,
   "id": "c470eed1",
   "metadata": {
    "_cell_guid": "66c160a3-2387-47b8-b9ef-e19e5556ff5f",
    "_uuid": "10ba7bd7-327c-4bb4-ae58-a6a6ae2e36fd",
    "collapsed": false,
    "execution": {
     "iopub.execute_input": "2025-05-14T10:40:14.405244Z",
     "iopub.status.busy": "2025-05-14T10:40:14.404535Z",
     "iopub.status.idle": "2025-05-14T10:40:14.409100Z",
     "shell.execute_reply": "2025-05-14T10:40:14.408374Z"
    },
    "jupyter": {
     "outputs_hidden": false
    },
    "papermill": {
     "duration": 0.018195,
     "end_time": "2025-05-14T10:40:14.410095",
     "exception": false,
     "start_time": "2025-05-14T10:40:14.391900",
     "status": "completed"
    },
    "tags": []
   },
   "outputs": [],
   "source": [
    "# Train Dataset\n",
    "sentences_train = df_train_preprocessed.Text.values\n",
    "labels_train = df_train_preprocessed.Label.values\n",
    "\n",
    "# Validation Dataset\n",
    "sentences_val = df_val_preprocessed.Text.values\n",
    "labels_val = df_val_preprocessed.Label.values\n",
    "\n",
    "# Test Dataset\n",
    "sentences_test = df_test_preprocessed.Text.values"
   ]
  },
  {
   "cell_type": "markdown",
   "id": "3e99bfde",
   "metadata": {
    "_cell_guid": "be16a023-9cd1-4227-9841-036138737ea6",
    "_uuid": "c49e1b6b-fb62-4a1c-808c-8580a64496cf",
    "collapsed": false,
    "jupyter": {
     "outputs_hidden": false
    },
    "papermill": {
     "duration": 0.011723,
     "end_time": "2025-05-14T10:40:14.433723",
     "exception": false,
     "start_time": "2025-05-14T10:40:14.422000",
     "status": "completed"
    },
    "tags": []
   },
   "source": [
    "# Tokenization & Input Formatting"
   ]
  },
  {
   "cell_type": "markdown",
   "id": "4b27aa68",
   "metadata": {
    "_cell_guid": "3dc00772-357b-452a-bb38-8788a1e8c2c8",
    "_uuid": "5f11b221-ac3f-4b35-aca8-4e0c20c60899",
    "collapsed": false,
    "jupyter": {
     "outputs_hidden": false
    },
    "papermill": {
     "duration": 0.011558,
     "end_time": "2025-05-14T10:40:14.457350",
     "exception": false,
     "start_time": "2025-05-14T10:40:14.445792",
     "status": "completed"
    },
    "tags": []
   },
   "source": [
    "### Load the BERT tokenizer."
   ]
  },
  {
   "cell_type": "code",
   "execution_count": 13,
   "id": "551c4da2",
   "metadata": {
    "_cell_guid": "a43f8c2c-a6ff-4957-a12d-8ebfed9e11a2",
    "_uuid": "e209ded3-49fc-4eab-bc4e-75b115e3fd9f",
    "collapsed": false,
    "execution": {
     "iopub.execute_input": "2025-05-14T10:40:14.481697Z",
     "iopub.status.busy": "2025-05-14T10:40:14.481323Z",
     "iopub.status.idle": "2025-05-14T10:40:15.421481Z",
     "shell.execute_reply": "2025-05-14T10:40:15.420746Z"
    },
    "jupyter": {
     "outputs_hidden": false
    },
    "papermill": {
     "duration": 0.953709,
     "end_time": "2025-05-14T10:40:15.422856",
     "exception": false,
     "start_time": "2025-05-14T10:40:14.469147",
     "status": "completed"
    },
    "tags": []
   },
   "outputs": [
    {
     "name": "stdout",
     "output_type": "stream",
     "text": [
      "Loading BERT tokenizer...\n"
     ]
    },
    {
     "data": {
      "application/vnd.jupyter.widget-view+json": {
       "model_id": "873c149f1f05421c9d070780f6811fa3",
       "version_major": 2,
       "version_minor": 0
      },
      "text/plain": [
       "tokenizer_config.json:   0%|          | 0.00/48.0 [00:00<?, ?B/s]"
      ]
     },
     "metadata": {},
     "output_type": "display_data"
    },
    {
     "data": {
      "application/vnd.jupyter.widget-view+json": {
       "model_id": "6e1c2f94df104236a304d264bc471ade",
       "version_major": 2,
       "version_minor": 0
      },
      "text/plain": [
       "vocab.txt:   0%|          | 0.00/232k [00:00<?, ?B/s]"
      ]
     },
     "metadata": {},
     "output_type": "display_data"
    },
    {
     "data": {
      "application/vnd.jupyter.widget-view+json": {
       "model_id": "9a92be1b58f941a984e252db75e22591",
       "version_major": 2,
       "version_minor": 0
      },
      "text/plain": [
       "tokenizer.json:   0%|          | 0.00/466k [00:00<?, ?B/s]"
      ]
     },
     "metadata": {},
     "output_type": "display_data"
    },
    {
     "data": {
      "application/vnd.jupyter.widget-view+json": {
       "model_id": "c9ba87ba0e7246ecb47f9f2a40dc3d5f",
       "version_major": 2,
       "version_minor": 0
      },
      "text/plain": [
       "config.json:   0%|          | 0.00/570 [00:00<?, ?B/s]"
      ]
     },
     "metadata": {},
     "output_type": "display_data"
    }
   ],
   "source": [
    "print('Loading BERT tokenizer...')\n",
    "tokenizer = BertTokenizer.from_pretrained('bert-base-uncased', do_lower_case=True)"
   ]
  },
  {
   "cell_type": "markdown",
   "id": "d9e98bcb",
   "metadata": {
    "_cell_guid": "9728fc90-68c0-4668-bf13-47d4f5399cb8",
    "_uuid": "0cde7941-48fb-44bf-a635-f2d480ed474f",
    "collapsed": false,
    "jupyter": {
     "outputs_hidden": false
    },
    "papermill": {
     "duration": 0.01204,
     "end_time": "2025-05-14T10:40:15.447721",
     "exception": false,
     "start_time": "2025-05-14T10:40:15.435681",
     "status": "completed"
    },
    "tags": []
   },
   "source": [
    "## Get Max Sentence Length"
   ]
  },
  {
   "cell_type": "code",
   "execution_count": 14,
   "id": "06f54be9",
   "metadata": {
    "_cell_guid": "5159664f-5d84-4b9b-b729-692b05c07bb8",
    "_uuid": "ff69a462-31d6-491f-85d9-63db7f9dc8ce",
    "collapsed": false,
    "execution": {
     "iopub.execute_input": "2025-05-14T10:40:15.473348Z",
     "iopub.status.busy": "2025-05-14T10:40:15.472877Z",
     "iopub.status.idle": "2025-05-14T10:41:16.009397Z",
     "shell.execute_reply": "2025-05-14T10:41:16.008735Z"
    },
    "jupyter": {
     "outputs_hidden": false
    },
    "papermill": {
     "duration": 60.563051,
     "end_time": "2025-05-14T10:41:16.023099",
     "exception": false,
     "start_time": "2025-05-14T10:40:15.460048",
     "status": "completed"
    },
    "tags": []
   },
   "outputs": [
    {
     "name": "stdout",
     "output_type": "stream",
     "text": [
      "Max sentence length:  118\n"
     ]
    }
   ],
   "source": [
    "max_len = 0\n",
    "\n",
    "# For every sentence...\n",
    "for sent in sentences_train:\n",
    "\n",
    "    # Tokenize the text and add `[CLS]` and `[SEP]` tokens.\n",
    "    input_ids = tokenizer.encode(sent, add_special_tokens=True)\n",
    "\n",
    "    # Update the maximum sentence length.\n",
    "    max_len = max(max_len, len(input_ids))\n",
    "\n",
    "for sent in sentences_val:\n",
    "\n",
    "    # Tokenize the text and add `[CLS]` and `[SEP]` tokens.\n",
    "    input_ids = tokenizer.encode(sent, add_special_tokens=True)\n",
    "\n",
    "    # Update the maximum sentence length.\n",
    "    max_len = max(max_len, len(input_ids))\n",
    "\n",
    "for sent in sentences_test:\n",
    "\n",
    "    # Tokenize the text and add `[CLS]` and `[SEP]` tokens.\n",
    "    input_ids = tokenizer.encode(sent, add_special_tokens=True)\n",
    "\n",
    "    # Update the maximum sentence length.\n",
    "    max_len = max(max_len, len(input_ids))\n",
    "\n",
    "print('Max sentence length: ', max_len)"
   ]
  },
  {
   "cell_type": "markdown",
   "id": "84138837",
   "metadata": {
    "papermill": {
     "duration": 0.011795,
     "end_time": "2025-05-14T10:41:16.046979",
     "exception": false,
     "start_time": "2025-05-14T10:41:16.035184",
     "status": "completed"
    },
    "tags": []
   },
   "source": [
    "## Tokenize Dataset Function"
   ]
  },
  {
   "cell_type": "code",
   "execution_count": 15,
   "id": "8193f847",
   "metadata": {
    "execution": {
     "iopub.execute_input": "2025-05-14T10:41:16.073050Z",
     "iopub.status.busy": "2025-05-14T10:41:16.072569Z",
     "iopub.status.idle": "2025-05-14T10:41:16.077927Z",
     "shell.execute_reply": "2025-05-14T10:41:16.077320Z"
    },
    "papermill": {
     "duration": 0.020012,
     "end_time": "2025-05-14T10:41:16.078882",
     "exception": false,
     "start_time": "2025-05-14T10:41:16.058870",
     "status": "completed"
    },
    "tags": []
   },
   "outputs": [],
   "source": [
    "def tokenize_dataset(sentences, labels = None):\n",
    "    \n",
    "    # Tokenize all of the sentences and map the tokens to their word IDs.\n",
    "    input_ids = []\n",
    "    attention_masks = []\n",
    "    \n",
    "    # For every sentence...\n",
    "    for sent in sentences:\n",
    "        # `encode_plus` will:\n",
    "        #   (1) Tokenize the sentence.\n",
    "        #   (2) Prepend the `[CLS]` token to the start.\n",
    "        #   (3) Append the `[SEP]` token to the end.\n",
    "        #   (4) Map tokens to their IDs.\n",
    "        #   (5) Pad or truncate the sentence to `max_length`\n",
    "        #   (6) Create attention masks for [PAD] tokens.\n",
    "        encoded_dict = tokenizer.encode_plus(\n",
    "                            sent,                      # Sentence to encode.\n",
    "                            add_special_tokens = True, # Add '[CLS]' and '[SEP]'\n",
    "                            max_length = max_len,           # Pad & truncate all sentences.\n",
    "                            pad_to_max_length = True,\n",
    "                            return_attention_mask = True,   # Construct attn. masks.\n",
    "                            return_tensors = 'pt',     # Return pytorch tensors.\n",
    "                       )\n",
    "    \n",
    "        # Add the encoded sentence to the list.\n",
    "        input_ids.append(encoded_dict['input_ids'])\n",
    "    \n",
    "        # And its attention mask (simply differentiates padding from non-padding).\n",
    "        attention_masks.append(encoded_dict['attention_mask'])\n",
    "    \n",
    "    # Convert the lists into tensors.\n",
    "    input_ids = torch.cat(input_ids, dim=0)\n",
    "    attention_masks = torch.cat(attention_masks, dim=0)\n",
    "    if labels is not None:\n",
    "        labels = torch.tensor(labels)\n",
    "\n",
    "    # Combine inputs into a TensorDataset\n",
    "    if labels is not None:\n",
    "        dataset = TensorDataset(input_ids, attention_masks, labels)\n",
    "    else:\n",
    "        dataset = TensorDataset(input_ids, attention_masks)\n",
    "    \n",
    "    return dataset "
   ]
  },
  {
   "cell_type": "markdown",
   "id": "bc80ac1c",
   "metadata": {
    "papermill": {
     "duration": 0.012882,
     "end_time": "2025-05-14T10:41:16.103852",
     "exception": false,
     "start_time": "2025-05-14T10:41:16.090970",
     "status": "completed"
    },
    "tags": []
   },
   "source": [
    "## Sample Dataset Function"
   ]
  },
  {
   "cell_type": "code",
   "execution_count": 16,
   "id": "653e74ad",
   "metadata": {
    "execution": {
     "iopub.execute_input": "2025-05-14T10:41:16.128860Z",
     "iopub.status.busy": "2025-05-14T10:41:16.128673Z",
     "iopub.status.idle": "2025-05-14T10:41:16.132194Z",
     "shell.execute_reply": "2025-05-14T10:41:16.131733Z"
    },
    "papermill": {
     "duration": 0.017323,
     "end_time": "2025-05-14T10:41:16.133135",
     "exception": false,
     "start_time": "2025-05-14T10:41:16.115812",
     "status": "completed"
    },
    "tags": []
   },
   "outputs": [],
   "source": [
    "# Used for large datasets, randomly takes a sample (sample_size should be values between 0 and 1)\n",
    "\n",
    "def get_sample_from_dataset(dataset, sample_size):\n",
    "    \n",
    "    total_size = len(dataset)\n",
    "    sample_size = int(sample_size * total_size)\n",
    "    rest_size = total_size - sample_size\n",
    "    sampled_dataset, rest_dataset = random_split(dataset, [sample_size, rest_size], generator=torch.Generator().manual_seed(seed))\n",
    "    \n",
    "    return sampled_dataset"
   ]
  },
  {
   "cell_type": "markdown",
   "id": "79297287",
   "metadata": {
    "_cell_guid": "1735eed6-8ece-4187-990e-72e26e9146b5",
    "_uuid": "6d3a9cb7-17e9-441c-b371-ec7ad777814e",
    "collapsed": false,
    "jupyter": {
     "outputs_hidden": false
    },
    "papermill": {
     "duration": 0.011832,
     "end_time": "2025-05-14T10:41:16.157694",
     "exception": false,
     "start_time": "2025-05-14T10:41:16.145862",
     "status": "completed"
    },
    "tags": []
   },
   "source": [
    "## Create Dataloaders Function"
   ]
  },
  {
   "cell_type": "markdown",
   "id": "8dd5c10a",
   "metadata": {
    "_cell_guid": "14adb2be-b1d4-4543-81b4-445582c2ed17",
    "_uuid": "ff096f29-840b-4d67-80b5-f7acd08cfdcf",
    "collapsed": false,
    "jupyter": {
     "outputs_hidden": false
    },
    "papermill": {
     "duration": 0.012339,
     "end_time": "2025-05-14T10:41:16.181920",
     "exception": false,
     "start_time": "2025-05-14T10:41:16.169581",
     "status": "completed"
    },
    "tags": []
   },
   "source": [
    "```We'll also create an iterator for our dataset using the torch DataLoader class. This helps save on memory during training because, unlike a for loop, with an iterator the entire dataset does not need to be loaded into memory.```"
   ]
  },
  {
   "cell_type": "code",
   "execution_count": 17,
   "id": "b86fb528",
   "metadata": {
    "execution": {
     "iopub.execute_input": "2025-05-14T10:41:16.206586Z",
     "iopub.status.busy": "2025-05-14T10:41:16.206372Z",
     "iopub.status.idle": "2025-05-14T10:41:16.209972Z",
     "shell.execute_reply": "2025-05-14T10:41:16.209480Z"
    },
    "papermill": {
     "duration": 0.017162,
     "end_time": "2025-05-14T10:41:16.211043",
     "exception": false,
     "start_time": "2025-05-14T10:41:16.193881",
     "status": "completed"
    },
    "tags": []
   },
   "outputs": [],
   "source": [
    "# The DataLoaders needs to know our batch size for training, so we specify it\n",
    "# here. For fine-tuning BERT on a specific task, the authors recommend a batch\n",
    "# size of 16 or 32.\n",
    "def get_dataloaders(batch_size):\n",
    "    \n",
    "    # Create the DataLoaders for our training and validation sets.\n",
    "    # We'll take training samples in random order.\n",
    "    train_dataloader = DataLoader(\n",
    "                train_dataset,  # The training samples.\n",
    "                sampler = RandomSampler(train_dataset), # Select batches randomly\n",
    "                batch_size = batch_size # Trains with this batch size.\n",
    "            )\n",
    "    \n",
    "    # For validation the order doesn't matter, so we'll just read them sequentially.\n",
    "    validation_dataloader = DataLoader(\n",
    "                val_dataset, # The validation samples.\n",
    "                sampler = SequentialSampler(val_dataset), # Pull out batches sequentially.\n",
    "                batch_size = batch_size # Evaluate with this batch size.\n",
    "            )\n",
    "\n",
    "    return train_dataloader, validation_dataloader"
   ]
  },
  {
   "cell_type": "markdown",
   "id": "f8afac40",
   "metadata": {
    "papermill": {
     "duration": 0.011796,
     "end_time": "2025-05-14T10:41:16.234962",
     "exception": false,
     "start_time": "2025-05-14T10:41:16.223166",
     "status": "completed"
    },
    "tags": []
   },
   "source": [
    "# Train Model functions"
   ]
  },
  {
   "cell_type": "markdown",
   "id": "27069216",
   "metadata": {
    "_cell_guid": "c4625794-4e7f-457c-a2de-e592a269d265",
    "_uuid": "4dfa2fa3-e5f0-48cb-9dd6-b75759cfd7ed",
    "collapsed": false,
    "jupyter": {
     "outputs_hidden": false
    },
    "papermill": {
     "duration": 0.012013,
     "end_time": "2025-05-14T10:41:16.259298",
     "exception": false,
     "start_time": "2025-05-14T10:41:16.247285",
     "status": "completed"
    },
    "tags": []
   },
   "source": [
    "## Initialize Model BertForSequenceClassification Function"
   ]
  },
  {
   "cell_type": "code",
   "execution_count": 18,
   "id": "65293f5d",
   "metadata": {
    "execution": {
     "iopub.execute_input": "2025-05-14T10:41:16.283883Z",
     "iopub.status.busy": "2025-05-14T10:41:16.283673Z",
     "iopub.status.idle": "2025-05-14T10:41:16.287144Z",
     "shell.execute_reply": "2025-05-14T10:41:16.286687Z"
    },
    "papermill": {
     "duration": 0.016853,
     "end_time": "2025-05-14T10:41:16.288089",
     "exception": false,
     "start_time": "2025-05-14T10:41:16.271236",
     "status": "completed"
    },
    "tags": []
   },
   "outputs": [],
   "source": [
    "# Load BertForSequenceClassification, the pretrained BERT model with a single linear classification layer on top.\n",
    "def model_init(hidden_dropout = 0.1, attention_dropout = 0.1):\n",
    "    config = BertConfig.from_pretrained(\n",
    "        \"bert-base-uncased\", # Use the 12-layer BERT model, with an uncased vocab.\n",
    "        num_labels = 2, # The number of output labels--2 for binary classification. You can increase this for multi-class tasks\n",
    "        hidden_dropout_prob = hidden_dropout,\n",
    "        attention_probs_dropout_prob = attention_dropout,\n",
    "        output_attentions = False, # Whether the model returns attentions weights.\n",
    "        output_hidden_states = False # Whether the model returns all hidden-states.\n",
    "    )\n",
    "    return BertForSequenceClassification.from_pretrained(\"bert-base-uncased\", config=config)\n",
    "\n",
    "# The following code shoes how to init the model properly\n",
    "# model = model_init().cuda()"
   ]
  },
  {
   "cell_type": "markdown",
   "id": "5526d6b9",
   "metadata": {
    "papermill": {
     "duration": 0.011925,
     "end_time": "2025-05-14T10:41:16.312049",
     "exception": false,
     "start_time": "2025-05-14T10:41:16.300124",
     "status": "completed"
    },
    "tags": []
   },
   "source": [
    "## Train and Evaluate Model Function"
   ]
  },
  {
   "cell_type": "code",
   "execution_count": 19,
   "id": "86fe69c8",
   "metadata": {
    "execution": {
     "iopub.execute_input": "2025-05-14T10:41:16.337298Z",
     "iopub.status.busy": "2025-05-14T10:41:16.337120Z",
     "iopub.status.idle": "2025-05-14T10:41:16.350188Z",
     "shell.execute_reply": "2025-05-14T10:41:16.349729Z"
    },
    "papermill": {
     "duration": 0.026935,
     "end_time": "2025-05-14T10:41:16.351189",
     "exception": false,
     "start_time": "2025-05-14T10:41:16.324254",
     "status": "completed"
    },
    "tags": []
   },
   "outputs": [],
   "source": [
    "# Train And Evaluate Model Function\n",
    "\n",
    "def train_and_evaluate_model(epochs, total_steps, learning_rate, eps, num_warmup_steps, \n",
    "                             hidden_dropout = 0.1, attention_dropout = 0.1, weight_decay = 0.0):\n",
    "    \n",
    "    # We'll store a number of quantities.\n",
    "    training_stats = []\n",
    "    \n",
    "    # Reinitialize the model for each trial and tell pytorch to run this model on the GPU.\n",
    "    model = model_init(hidden_dropout = hidden_dropout, attention_dropout = attention_dropout).cuda()\n",
    "    \n",
    "    # Initialize Optimizer.\n",
    "    optimizer = AdamW(model.parameters(), lr=learning_rate, eps = eps, weight_decay = weight_decay)\n",
    "    \n",
    "    # Create the learning rate scheduler to dynamically adjust the learning rate.\n",
    "    scheduler = get_linear_schedule_with_warmup(optimizer,\n",
    "                                            num_warmup_steps = num_warmup_steps,\n",
    "                                            num_training_steps = total_steps)\n",
    "    \n",
    "    # Measure the total training time for the whole run.\n",
    "    total_t0 = time.time()\n",
    "    \n",
    "    # For each epoch...\n",
    "    for epoch_i in range(epochs):\n",
    "    \n",
    "        # ========================================\n",
    "        #               Training\n",
    "        # ========================================\n",
    "        \n",
    "        print(\"\")\n",
    "        print('======== Epoch {:} / {:} ========'.format(epoch_i + 1, epochs))\n",
    "        print('Training...')\n",
    "    \n",
    "        t0 = time.time() # Measure how long the training epoch takes.\n",
    "        total_train_loss = 0 # Reset the total loss for this epoch.\n",
    "        model.train() # Put the model into training mode.\n",
    "    \n",
    "        # For each batch of training data...\n",
    "        for step, batch in enumerate(train_dataloader):\n",
    "    \n",
    "            # Progress update every 40 batches.\n",
    "            if step % 40 == 0 and not step == 0:\n",
    "                elapsed = format_time(time.time() - t0) # Calculate elapsed time in minutes.\n",
    "                print('  Batch {:>5,}  of  {:>5,}.    Elapsed: {:}.'.format(step, len(train_dataloader), elapsed))\n",
    "    \n",
    "            # Unpack this training batch from our dataloader and copy each tensor to the GPU with \"to\"\n",
    "            b_input_ids = batch[0].to(device)\n",
    "            b_input_mask = batch[1].to(device)\n",
    "            b_labels = batch[2].to(device)\n",
    "    \n",
    "            # Clear any previously calculated gradients before performing a backward pass.\n",
    "            model.zero_grad()\n",
    "    \n",
    "            # Perform a forward pass (evaluate the model on this training batch).\n",
    "            result = model(\n",
    "                b_input_ids,\n",
    "                token_type_ids=None,\n",
    "                attention_mask=b_input_mask,\n",
    "                labels=b_labels,\n",
    "                return_dict=True\n",
    "            )\n",
    "            loss = result.loss\n",
    "            logits = result.logits\n",
    "    \n",
    "            # Accumulate the training loss over all of the batches\n",
    "            total_train_loss += loss.item()\n",
    "            \n",
    "            # Perform a backward pass to calculate the gradients.\n",
    "            loss.backward()\n",
    "    \n",
    "            # Clip the norm of the gradients to 1.0.\n",
    "            torch.nn.utils.clip_grad_norm_(model.parameters(), 1.0)\n",
    "    \n",
    "            # Update parameters and take a step using the computed gradient.\n",
    "            optimizer.step()\n",
    "    \n",
    "            # Update the learning rate.\n",
    "            scheduler.step()\n",
    "    \n",
    "        # Calculate the average loss over all of the batches.\n",
    "        avg_train_loss = total_train_loss / len(train_dataloader)\n",
    "    \n",
    "        # Measure how long this epoch took.\n",
    "        training_time = format_time(time.time() - t0)\n",
    "    \n",
    "        print(\"\")\n",
    "        print(\"  Average training loss: {0:.2f}\".format(avg_train_loss))\n",
    "        print(\"  Training epcoh took: {:}\".format(training_time))\n",
    "    \n",
    "        \n",
    "        # ========================================\n",
    "        #               Validation\n",
    "        # ========================================\n",
    "        \n",
    "        print(\"Running Validation...\")\n",
    "    \n",
    "        t0 = time.time()\n",
    "    \n",
    "        # Put the model in evaluation mode\n",
    "        model.eval()\n",
    "    \n",
    "        # Tracking variables\n",
    "        total_eval_accuracy = 0\n",
    "        total_eval_loss = 0\n",
    "        nb_eval_steps = 0\n",
    "    \n",
    "        # Create empty lists to store predictions and true labels\n",
    "        all_preds = []\n",
    "        all_labels = []\n",
    "        all_probs = []\n",
    "        \n",
    "        # Evaluate data for one epoch\n",
    "        for batch in validation_dataloader:\n",
    "    \n",
    "            # Unpack this validation batch from our dataloader and copy each tensor to the GPU with \"to\"\n",
    "            b_input_ids = batch[0].to(device)\n",
    "            b_input_mask = batch[1].to(device)\n",
    "            b_labels = batch[2].to(device)\n",
    "    \n",
    "            # Tell pytorch not to bother with constructing the compute graph during the forward pass, since this is only needed for backprop (training).\n",
    "            with torch.no_grad():\n",
    "                # Forward pass, calculate logit predictions.\n",
    "                result = model(\n",
    "                    b_input_ids,\n",
    "                    token_type_ids=None,\n",
    "                    attention_mask=b_input_mask,\n",
    "                    labels=b_labels,\n",
    "                    return_dict=True\n",
    "                )\n",
    "    \n",
    "            # Get the loss and \"logits\" output by the model.\n",
    "            loss = result.loss\n",
    "            logits = result.logits # The output values prior to applying an activation function like the softmax\n",
    "    \n",
    "            # Accumulate the validation loss.\n",
    "            total_eval_loss += loss.item()\n",
    "    \n",
    "            # Move logits and labels to CPU\n",
    "            logits = logits.detach().cpu().numpy()\n",
    "            probs = torch.nn.functional.softmax(torch.tensor(logits), dim=1).numpy()  # Convert logits to probs\n",
    "            label_ids = b_labels.to('cpu').numpy()\n",
    "    \n",
    "            # Get predicted labels (argmax over logits)\n",
    "            preds = np.argmax(logits, axis=1)\n",
    "    \n",
    "            # For binary classification, keep the probability of class 1\n",
    "            class1_probs = probs[:, 1]\n",
    "            \n",
    "            # Store predictions and true labels\n",
    "            all_probs.extend(class1_probs)\n",
    "            all_preds.extend(preds)\n",
    "            all_labels.extend(label_ids)\n",
    "    \n",
    "            # Calculate the accuracy for this batch of test sentences, and accumulate it over all batches.\n",
    "            total_eval_accuracy += flat_accuracy(logits, label_ids)\n",
    "    \n",
    "        # Save validation results from final epoch\n",
    "        if epoch_i == epochs - 1:\n",
    "            final_labels = all_labels\n",
    "            final_preds = all_preds\n",
    "            final_probs = all_probs\n",
    "        \n",
    "         # Report the final accuracy for this validation run.\n",
    "        avg_val_accuracy = total_eval_accuracy / len(validation_dataloader)\n",
    "        print(\"  Accuracy: {0:.4f}\".format(avg_val_accuracy))\n",
    "    \n",
    "        # Calculate the average loss over all of the batches.\n",
    "        avg_val_loss = total_eval_loss / len(validation_dataloader)\n",
    "        print(\"  Validation Loss: {0:.2f}\".format(avg_val_loss))\n",
    "    \n",
    "        # Measure how long the validation run took.\n",
    "        validation_time = format_time(time.time() - t0)\n",
    "        print(\"  Validation took: {:}\".format(validation_time))\n",
    "    \n",
    "        # Record all statistics from this epoch.\n",
    "        training_stats.append(\n",
    "            {\n",
    "                'epoch': epoch_i + 1,\n",
    "                'Training Loss': avg_train_loss,\n",
    "                'Valid. Loss': avg_val_loss,\n",
    "                'Valid. Accur.': avg_val_accuracy,\n",
    "                'Training Time': training_time,\n",
    "                'Validation Time': validation_time\n",
    "            }\n",
    "        )\n",
    "    \n",
    "    # Training Complete\n",
    "    print(\"\")\n",
    "    print(\"Training complete!\")\n",
    "    print(\"Total training took {:} (h:mm:ss)\".format(format_time(time.time()-total_t0)))\n",
    "        \n",
    "    return final_labels, final_preds, final_probs, training_stats, model, avg_val_loss"
   ]
  },
  {
   "cell_type": "markdown",
   "id": "e63f5729",
   "metadata": {
    "papermill": {
     "duration": 0.012032,
     "end_time": "2025-05-14T10:41:16.375490",
     "exception": false,
     "start_time": "2025-05-14T10:41:16.363458",
     "status": "completed"
    },
    "tags": []
   },
   "source": [
    "## Print evaluation function"
   ]
  },
  {
   "cell_type": "code",
   "execution_count": 20,
   "id": "c068e863",
   "metadata": {
    "execution": {
     "iopub.execute_input": "2025-05-14T10:41:16.400300Z",
     "iopub.status.busy": "2025-05-14T10:41:16.400127Z",
     "iopub.status.idle": "2025-05-14T10:41:16.406183Z",
     "shell.execute_reply": "2025-05-14T10:41:16.405482Z"
    },
    "papermill": {
     "duration": 0.019617,
     "end_time": "2025-05-14T10:41:16.407194",
     "exception": false,
     "start_time": "2025-05-14T10:41:16.387577",
     "status": "completed"
    },
    "tags": []
   },
   "outputs": [],
   "source": [
    "def print_evaluate(final_labels, final_preds, final_probs, training_stats):\n",
    "\n",
    "    # Print the Accuracy\n",
    "    print(\"Validation Accuracy: {0:.4f}\".format(training_stats[-1]['Valid. Accur.']))\n",
    "    \n",
    "    # Print the Classification Report\n",
    "    print(\"\\nClassification Report:\")\n",
    "    print(classification_report(final_labels, final_preds))\n",
    "    \n",
    "    # Display floats with two decimal places.\n",
    "    pd.options.display.precision = 2\n",
    "    \n",
    "    # Create a DataFrame from our training statistics.\n",
    "    df_stats = pd.DataFrame(data=training_stats)\n",
    "    df_stats = df_stats.set_index('epoch') # Use the 'epoch' as the row index.\n",
    "    df_stats # Display the table.\n",
    "    \n",
    "    # Plot the learning curve.\n",
    "    sns.set(style='darkgrid') # Use plot styling from seaborn. \n",
    "    sns.set(font_scale=1.5) # Increase the plot size and font size.\n",
    "    plt.rcParams[\"figure.figsize\"] = (8,4)\n",
    "    plt.plot(df_stats['Training Loss'], 'b-o', label=\"Training\")\n",
    "    plt.plot(df_stats['Valid. Loss'], 'g-o', label=\"Validation\")\n",
    "    plt.title(\"Training & Validation Loss\")\n",
    "    plt.xlabel(\"Epoch\")\n",
    "    plt.ylabel(\"Loss\")\n",
    "    plt.legend()\n",
    "    plt.xticks(df_stats.index)\n",
    "    plt.show()\n",
    "\n",
    "    # Plot the validation accuracy.\n",
    "    sns.set(style='darkgrid')\n",
    "    sns.set(font_scale=1.5)\n",
    "    plt.rcParams[\"figure.figsize\"] = (8, 4)\n",
    "    plt.plot(df_stats['Valid. Accur.'], 'r-o', label=\"Validation Accuracy\")\n",
    "    plt.title(\"Validation Accuracy Across Epochs\")\n",
    "    plt.xlabel(\"Epoch\")\n",
    "    plt.ylabel(\"Accuracy\")\n",
    "    plt.legend()\n",
    "    plt.xticks(df_stats.index)\n",
    "    plt.show()\n",
    "\n",
    "    # Print Confusion Matrix and ROC Curve\n",
    "    print_confusion_matrix(final_labels, final_preds)\n",
    "    print_roc(final_labels, final_probs)"
   ]
  },
  {
   "cell_type": "markdown",
   "id": "a93582d3",
   "metadata": {
    "_cell_guid": "2d207108-be4e-486d-963b-81d50c2a7dd2",
    "_uuid": "da0cff60-9c02-41e8-98eb-a9280c68223f",
    "collapsed": false,
    "jupyter": {
     "outputs_hidden": false
    },
    "papermill": {
     "duration": 0.011891,
     "end_time": "2025-05-14T10:41:16.431079",
     "exception": false,
     "start_time": "2025-05-14T10:41:16.419188",
     "status": "completed"
    },
    "tags": []
   },
   "source": [
    "# Final Model"
   ]
  },
  {
   "cell_type": "markdown",
   "id": "53251422",
   "metadata": {
    "papermill": {
     "duration": 0.012007,
     "end_time": "2025-05-14T10:41:16.455195",
     "exception": false,
     "start_time": "2025-05-14T10:41:16.443188",
     "status": "completed"
    },
    "tags": []
   },
   "source": [
    "## Get Dataloaders"
   ]
  },
  {
   "cell_type": "code",
   "execution_count": 21,
   "id": "9c02a5c9",
   "metadata": {
    "execution": {
     "iopub.execute_input": "2025-05-14T10:41:16.480844Z",
     "iopub.status.busy": "2025-05-14T10:41:16.480627Z",
     "iopub.status.idle": "2025-05-14T10:42:38.164310Z",
     "shell.execute_reply": "2025-05-14T10:42:38.163350Z"
    },
    "papermill": {
     "duration": 81.697886,
     "end_time": "2025-05-14T10:42:38.165654",
     "exception": false,
     "start_time": "2025-05-14T10:41:16.467768",
     "status": "completed"
    },
    "tags": []
   },
   "outputs": [
    {
     "name": "stderr",
     "output_type": "stream",
     "text": [
      "Truncation was not explicitly activated but `max_length` is provided a specific value, please use `truncation=True` to explicitly truncate examples to max length. Defaulting to 'longest_first' truncation strategy. If you encode pairs of sequences (GLUE-style) with the tokenizer you can select this strategy more precisely by providing a specific strategy to `truncation`.\n",
      "/usr/local/lib/python3.11/dist-packages/transformers/tokenization_utils_base.py:2700: FutureWarning: The `pad_to_max_length` argument is deprecated and will be removed in a future version, use `padding=True` or `padding='longest'` to pad to the longest sequence in the batch, or use `padding='max_length'` to pad to a max length. In this case, you can give a specific length with `max_length` (e.g. `max_length=45`) or leave max_length to None to pad to the maximal input size of the model (e.g. 512 for Bert).\n",
      "  warnings.warn(\n"
     ]
    },
    {
     "name": "stdout",
     "output_type": "stream",
     "text": [
      "Generated Train Dataset\n",
      "Generated Validation Dataset\n",
      "Generated Dataloaders\n"
     ]
    }
   ],
   "source": [
    "# Get train dataset\n",
    "train_dataset = tokenize_dataset(sentences_train, labels_train)\n",
    "print(\"Generated Train Dataset\")\n",
    "\n",
    "# Get validation dataset\n",
    "val_dataset = tokenize_dataset(sentences_val, labels_val)\n",
    "print(\"Generated Validation Dataset\")\n",
    "\n",
    "# Get dataloaders\n",
    "batch_size = 32\n",
    "train_dataloader, validation_dataloader = get_dataloaders(batch_size)\n",
    "print(\"Generated Dataloaders\")"
   ]
  },
  {
   "cell_type": "markdown",
   "id": "bac03c2e",
   "metadata": {
    "_cell_guid": "c8a0761a-a5fa-4a98-825e-c5e0daed64c9",
    "_uuid": "16befcb3-fb7f-4b2f-b40f-e64a8ff72b8f",
    "collapsed": false,
    "jupyter": {
     "outputs_hidden": false
    },
    "papermill": {
     "duration": 0.012742,
     "end_time": "2025-05-14T10:42:38.192393",
     "exception": false,
     "start_time": "2025-05-14T10:42:38.179651",
     "status": "completed"
    },
    "tags": []
   },
   "source": [
    "## Train best Model"
   ]
  },
  {
   "cell_type": "code",
   "execution_count": 22,
   "id": "faea12ef",
   "metadata": {
    "_cell_guid": "b04908f8-2dc6-4354-ab13-816aa2b8c5be",
    "_uuid": "2cdf9952-6f53-4f53-b554-bcbb6ab8b95d",
    "collapsed": false,
    "execution": {
     "iopub.execute_input": "2025-05-14T10:42:38.219607Z",
     "iopub.status.busy": "2025-05-14T10:42:38.219050Z",
     "iopub.status.idle": "2025-05-14T12:20:43.089727Z",
     "shell.execute_reply": "2025-05-14T12:20:43.088863Z"
    },
    "jupyter": {
     "outputs_hidden": false
    },
    "papermill": {
     "duration": 5884.909463,
     "end_time": "2025-05-14T12:20:43.114820",
     "exception": false,
     "start_time": "2025-05-14T10:42:38.205357",
     "status": "completed"
    },
    "tags": []
   },
   "outputs": [
    {
     "name": "stderr",
     "output_type": "stream",
     "text": [
      "Xet Storage is enabled for this repo, but the 'hf_xet' package is not installed. Falling back to regular HTTP download. For better performance, install the package with: `pip install huggingface_hub[hf_xet]` or `pip install hf_xet`\n"
     ]
    },
    {
     "data": {
      "application/vnd.jupyter.widget-view+json": {
       "model_id": "2bff75fdf20f49e99db95cebff295acc",
       "version_major": 2,
       "version_minor": 0
      },
      "text/plain": [
       "model.safetensors:   0%|          | 0.00/440M [00:00<?, ?B/s]"
      ]
     },
     "metadata": {},
     "output_type": "display_data"
    },
    {
     "name": "stderr",
     "output_type": "stream",
     "text": [
      "Some weights of BertForSequenceClassification were not initialized from the model checkpoint at bert-base-uncased and are newly initialized: ['classifier.bias', 'classifier.weight']\n",
      "You should probably TRAIN this model on a down-stream task to be able to use it for predictions and inference.\n"
     ]
    },
    {
     "name": "stdout",
     "output_type": "stream",
     "text": [
      "\n",
      "======== Epoch 1 / 2 ========\n",
      "Training...\n",
      "  Batch    40  of  4,638.    Elapsed: 0:00:21.\n",
      "  Batch    80  of  4,638.    Elapsed: 0:00:42.\n",
      "  Batch   120  of  4,638.    Elapsed: 0:01:03.\n",
      "  Batch   160  of  4,638.    Elapsed: 0:01:25.\n",
      "  Batch   200  of  4,638.    Elapsed: 0:01:46.\n",
      "  Batch   240  of  4,638.    Elapsed: 0:02:08.\n",
      "  Batch   280  of  4,638.    Elapsed: 0:02:31.\n",
      "  Batch   320  of  4,638.    Elapsed: 0:02:53.\n",
      "  Batch   360  of  4,638.    Elapsed: 0:03:15.\n",
      "  Batch   400  of  4,638.    Elapsed: 0:03:38.\n",
      "  Batch   440  of  4,638.    Elapsed: 0:04:01.\n",
      "  Batch   480  of  4,638.    Elapsed: 0:04:24.\n",
      "  Batch   520  of  4,638.    Elapsed: 0:04:47.\n",
      "  Batch   560  of  4,638.    Elapsed: 0:05:11.\n",
      "  Batch   600  of  4,638.    Elapsed: 0:05:34.\n",
      "  Batch   640  of  4,638.    Elapsed: 0:05:58.\n",
      "  Batch   680  of  4,638.    Elapsed: 0:06:21.\n",
      "  Batch   720  of  4,638.    Elapsed: 0:06:45.\n",
      "  Batch   760  of  4,638.    Elapsed: 0:07:08.\n",
      "  Batch   800  of  4,638.    Elapsed: 0:07:31.\n",
      "  Batch   840  of  4,638.    Elapsed: 0:07:55.\n",
      "  Batch   880  of  4,638.    Elapsed: 0:08:18.\n",
      "  Batch   920  of  4,638.    Elapsed: 0:08:42.\n",
      "  Batch   960  of  4,638.    Elapsed: 0:09:05.\n",
      "  Batch 1,000  of  4,638.    Elapsed: 0:09:29.\n",
      "  Batch 1,040  of  4,638.    Elapsed: 0:09:52.\n",
      "  Batch 1,080  of  4,638.    Elapsed: 0:10:16.\n",
      "  Batch 1,120  of  4,638.    Elapsed: 0:10:39.\n",
      "  Batch 1,160  of  4,638.    Elapsed: 0:11:03.\n",
      "  Batch 1,200  of  4,638.    Elapsed: 0:11:26.\n",
      "  Batch 1,240  of  4,638.    Elapsed: 0:11:49.\n",
      "  Batch 1,280  of  4,638.    Elapsed: 0:12:13.\n",
      "  Batch 1,320  of  4,638.    Elapsed: 0:12:36.\n",
      "  Batch 1,360  of  4,638.    Elapsed: 0:13:00.\n",
      "  Batch 1,400  of  4,638.    Elapsed: 0:13:23.\n",
      "  Batch 1,440  of  4,638.    Elapsed: 0:13:47.\n",
      "  Batch 1,480  of  4,638.    Elapsed: 0:14:10.\n",
      "  Batch 1,520  of  4,638.    Elapsed: 0:14:33.\n",
      "  Batch 1,560  of  4,638.    Elapsed: 0:14:57.\n",
      "  Batch 1,600  of  4,638.    Elapsed: 0:15:20.\n",
      "  Batch 1,640  of  4,638.    Elapsed: 0:15:44.\n",
      "  Batch 1,680  of  4,638.    Elapsed: 0:16:07.\n",
      "  Batch 1,720  of  4,638.    Elapsed: 0:16:31.\n",
      "  Batch 1,760  of  4,638.    Elapsed: 0:16:54.\n",
      "  Batch 1,800  of  4,638.    Elapsed: 0:17:18.\n",
      "  Batch 1,840  of  4,638.    Elapsed: 0:17:41.\n",
      "  Batch 1,880  of  4,638.    Elapsed: 0:18:05.\n",
      "  Batch 1,920  of  4,638.    Elapsed: 0:18:28.\n",
      "  Batch 1,960  of  4,638.    Elapsed: 0:18:51.\n",
      "  Batch 2,000  of  4,638.    Elapsed: 0:19:15.\n",
      "  Batch 2,040  of  4,638.    Elapsed: 0:19:38.\n",
      "  Batch 2,080  of  4,638.    Elapsed: 0:20:02.\n",
      "  Batch 2,120  of  4,638.    Elapsed: 0:20:25.\n",
      "  Batch 2,160  of  4,638.    Elapsed: 0:20:49.\n",
      "  Batch 2,200  of  4,638.    Elapsed: 0:21:12.\n",
      "  Batch 2,240  of  4,638.    Elapsed: 0:21:35.\n",
      "  Batch 2,280  of  4,638.    Elapsed: 0:21:59.\n",
      "  Batch 2,320  of  4,638.    Elapsed: 0:22:22.\n",
      "  Batch 2,360  of  4,638.    Elapsed: 0:22:46.\n",
      "  Batch 2,400  of  4,638.    Elapsed: 0:23:09.\n",
      "  Batch 2,440  of  4,638.    Elapsed: 0:23:32.\n",
      "  Batch 2,480  of  4,638.    Elapsed: 0:23:55.\n",
      "  Batch 2,520  of  4,638.    Elapsed: 0:24:18.\n",
      "  Batch 2,560  of  4,638.    Elapsed: 0:24:41.\n",
      "  Batch 2,600  of  4,638.    Elapsed: 0:25:04.\n",
      "  Batch 2,640  of  4,638.    Elapsed: 0:25:27.\n",
      "  Batch 2,680  of  4,638.    Elapsed: 0:25:50.\n",
      "  Batch 2,720  of  4,638.    Elapsed: 0:26:13.\n",
      "  Batch 2,760  of  4,638.    Elapsed: 0:26:36.\n",
      "  Batch 2,800  of  4,638.    Elapsed: 0:26:59.\n",
      "  Batch 2,840  of  4,638.    Elapsed: 0:27:22.\n",
      "  Batch 2,880  of  4,638.    Elapsed: 0:27:45.\n",
      "  Batch 2,920  of  4,638.    Elapsed: 0:28:08.\n",
      "  Batch 2,960  of  4,638.    Elapsed: 0:28:32.\n",
      "  Batch 3,000  of  4,638.    Elapsed: 0:28:55.\n",
      "  Batch 3,040  of  4,638.    Elapsed: 0:29:18.\n",
      "  Batch 3,080  of  4,638.    Elapsed: 0:29:41.\n",
      "  Batch 3,120  of  4,638.    Elapsed: 0:30:04.\n",
      "  Batch 3,160  of  4,638.    Elapsed: 0:30:27.\n",
      "  Batch 3,200  of  4,638.    Elapsed: 0:30:50.\n",
      "  Batch 3,240  of  4,638.    Elapsed: 0:31:13.\n",
      "  Batch 3,280  of  4,638.    Elapsed: 0:31:36.\n",
      "  Batch 3,320  of  4,638.    Elapsed: 0:31:59.\n",
      "  Batch 3,360  of  4,638.    Elapsed: 0:32:22.\n",
      "  Batch 3,400  of  4,638.    Elapsed: 0:32:45.\n",
      "  Batch 3,440  of  4,638.    Elapsed: 0:33:08.\n",
      "  Batch 3,480  of  4,638.    Elapsed: 0:33:31.\n",
      "  Batch 3,520  of  4,638.    Elapsed: 0:33:54.\n",
      "  Batch 3,560  of  4,638.    Elapsed: 0:34:17.\n",
      "  Batch 3,600  of  4,638.    Elapsed: 0:34:40.\n",
      "  Batch 3,640  of  4,638.    Elapsed: 0:35:03.\n",
      "  Batch 3,680  of  4,638.    Elapsed: 0:35:26.\n",
      "  Batch 3,720  of  4,638.    Elapsed: 0:35:49.\n",
      "  Batch 3,760  of  4,638.    Elapsed: 0:36:12.\n",
      "  Batch 3,800  of  4,638.    Elapsed: 0:36:35.\n",
      "  Batch 3,840  of  4,638.    Elapsed: 0:36:58.\n",
      "  Batch 3,880  of  4,638.    Elapsed: 0:37:21.\n",
      "  Batch 3,920  of  4,638.    Elapsed: 0:37:44.\n",
      "  Batch 3,960  of  4,638.    Elapsed: 0:38:07.\n",
      "  Batch 4,000  of  4,638.    Elapsed: 0:38:30.\n",
      "  Batch 4,040  of  4,638.    Elapsed: 0:38:53.\n",
      "  Batch 4,080  of  4,638.    Elapsed: 0:39:16.\n",
      "  Batch 4,120  of  4,638.    Elapsed: 0:39:39.\n",
      "  Batch 4,160  of  4,638.    Elapsed: 0:40:02.\n",
      "  Batch 4,200  of  4,638.    Elapsed: 0:40:25.\n",
      "  Batch 4,240  of  4,638.    Elapsed: 0:40:49.\n",
      "  Batch 4,280  of  4,638.    Elapsed: 0:41:12.\n",
      "  Batch 4,320  of  4,638.    Elapsed: 0:41:35.\n",
      "  Batch 4,360  of  4,638.    Elapsed: 0:41:58.\n",
      "  Batch 4,400  of  4,638.    Elapsed: 0:42:21.\n",
      "  Batch 4,440  of  4,638.    Elapsed: 0:42:44.\n",
      "  Batch 4,480  of  4,638.    Elapsed: 0:43:06.\n",
      "  Batch 4,520  of  4,638.    Elapsed: 0:43:29.\n",
      "  Batch 4,560  of  4,638.    Elapsed: 0:43:52.\n",
      "  Batch 4,600  of  4,638.    Elapsed: 0:44:15.\n",
      "\n",
      "  Average training loss: 0.38\n",
      "  Training epcoh took: 0:44:37\n",
      "Running Validation...\n",
      "  Accuracy: 0.8514\n",
      "  Validation Loss: 0.34\n",
      "  Validation took: 0:04:17\n",
      "\n",
      "======== Epoch 2 / 2 ========\n",
      "Training...\n",
      "  Batch    40  of  4,638.    Elapsed: 0:00:23.\n",
      "  Batch    80  of  4,638.    Elapsed: 0:00:46.\n",
      "  Batch   120  of  4,638.    Elapsed: 0:01:09.\n",
      "  Batch   160  of  4,638.    Elapsed: 0:01:32.\n",
      "  Batch   200  of  4,638.    Elapsed: 0:01:55.\n",
      "  Batch   240  of  4,638.    Elapsed: 0:02:18.\n",
      "  Batch   280  of  4,638.    Elapsed: 0:02:41.\n",
      "  Batch   320  of  4,638.    Elapsed: 0:03:04.\n",
      "  Batch   360  of  4,638.    Elapsed: 0:03:27.\n",
      "  Batch   400  of  4,638.    Elapsed: 0:03:50.\n",
      "  Batch   440  of  4,638.    Elapsed: 0:04:13.\n",
      "  Batch   480  of  4,638.    Elapsed: 0:04:36.\n",
      "  Batch   520  of  4,638.    Elapsed: 0:04:59.\n",
      "  Batch   560  of  4,638.    Elapsed: 0:05:22.\n",
      "  Batch   600  of  4,638.    Elapsed: 0:05:45.\n",
      "  Batch   640  of  4,638.    Elapsed: 0:06:08.\n",
      "  Batch   680  of  4,638.    Elapsed: 0:06:31.\n",
      "  Batch   720  of  4,638.    Elapsed: 0:06:54.\n",
      "  Batch   760  of  4,638.    Elapsed: 0:07:17.\n",
      "  Batch   800  of  4,638.    Elapsed: 0:07:40.\n",
      "  Batch   840  of  4,638.    Elapsed: 0:08:03.\n",
      "  Batch   880  of  4,638.    Elapsed: 0:08:26.\n",
      "  Batch   920  of  4,638.    Elapsed: 0:08:49.\n",
      "  Batch   960  of  4,638.    Elapsed: 0:09:12.\n",
      "  Batch 1,000  of  4,638.    Elapsed: 0:09:35.\n",
      "  Batch 1,040  of  4,638.    Elapsed: 0:09:58.\n",
      "  Batch 1,080  of  4,638.    Elapsed: 0:10:21.\n",
      "  Batch 1,120  of  4,638.    Elapsed: 0:10:44.\n",
      "  Batch 1,160  of  4,638.    Elapsed: 0:11:07.\n",
      "  Batch 1,200  of  4,638.    Elapsed: 0:11:30.\n",
      "  Batch 1,240  of  4,638.    Elapsed: 0:11:52.\n",
      "  Batch 1,280  of  4,638.    Elapsed: 0:12:15.\n",
      "  Batch 1,320  of  4,638.    Elapsed: 0:12:38.\n",
      "  Batch 1,360  of  4,638.    Elapsed: 0:13:01.\n",
      "  Batch 1,400  of  4,638.    Elapsed: 0:13:24.\n",
      "  Batch 1,440  of  4,638.    Elapsed: 0:13:48.\n",
      "  Batch 1,480  of  4,638.    Elapsed: 0:14:11.\n",
      "  Batch 1,520  of  4,638.    Elapsed: 0:14:34.\n",
      "  Batch 1,560  of  4,638.    Elapsed: 0:14:57.\n",
      "  Batch 1,600  of  4,638.    Elapsed: 0:15:20.\n",
      "  Batch 1,640  of  4,638.    Elapsed: 0:15:44.\n",
      "  Batch 1,680  of  4,638.    Elapsed: 0:16:07.\n",
      "  Batch 1,720  of  4,638.    Elapsed: 0:16:31.\n",
      "  Batch 1,760  of  4,638.    Elapsed: 0:16:54.\n",
      "  Batch 1,800  of  4,638.    Elapsed: 0:17:18.\n",
      "  Batch 1,840  of  4,638.    Elapsed: 0:17:41.\n",
      "  Batch 1,880  of  4,638.    Elapsed: 0:18:05.\n",
      "  Batch 1,920  of  4,638.    Elapsed: 0:18:28.\n",
      "  Batch 1,960  of  4,638.    Elapsed: 0:18:51.\n",
      "  Batch 2,000  of  4,638.    Elapsed: 0:19:15.\n",
      "  Batch 2,040  of  4,638.    Elapsed: 0:19:38.\n",
      "  Batch 2,080  of  4,638.    Elapsed: 0:20:02.\n",
      "  Batch 2,120  of  4,638.    Elapsed: 0:20:25.\n",
      "  Batch 2,160  of  4,638.    Elapsed: 0:20:49.\n",
      "  Batch 2,200  of  4,638.    Elapsed: 0:21:12.\n",
      "  Batch 2,240  of  4,638.    Elapsed: 0:21:36.\n",
      "  Batch 2,280  of  4,638.    Elapsed: 0:21:59.\n",
      "  Batch 2,320  of  4,638.    Elapsed: 0:22:23.\n",
      "  Batch 2,360  of  4,638.    Elapsed: 0:22:46.\n",
      "  Batch 2,400  of  4,638.    Elapsed: 0:23:10.\n",
      "  Batch 2,440  of  4,638.    Elapsed: 0:23:33.\n",
      "  Batch 2,480  of  4,638.    Elapsed: 0:23:56.\n",
      "  Batch 2,520  of  4,638.    Elapsed: 0:24:20.\n",
      "  Batch 2,560  of  4,638.    Elapsed: 0:24:43.\n",
      "  Batch 2,600  of  4,638.    Elapsed: 0:25:07.\n",
      "  Batch 2,640  of  4,638.    Elapsed: 0:25:30.\n",
      "  Batch 2,680  of  4,638.    Elapsed: 0:25:54.\n",
      "  Batch 2,720  of  4,638.    Elapsed: 0:26:17.\n",
      "  Batch 2,760  of  4,638.    Elapsed: 0:26:40.\n",
      "  Batch 2,800  of  4,638.    Elapsed: 0:27:04.\n",
      "  Batch 2,840  of  4,638.    Elapsed: 0:27:27.\n",
      "  Batch 2,880  of  4,638.    Elapsed: 0:27:51.\n",
      "  Batch 2,920  of  4,638.    Elapsed: 0:28:14.\n",
      "  Batch 2,960  of  4,638.    Elapsed: 0:28:38.\n",
      "  Batch 3,000  of  4,638.    Elapsed: 0:29:01.\n",
      "  Batch 3,040  of  4,638.    Elapsed: 0:29:25.\n",
      "  Batch 3,080  of  4,638.    Elapsed: 0:29:48.\n",
      "  Batch 3,120  of  4,638.    Elapsed: 0:30:12.\n",
      "  Batch 3,160  of  4,638.    Elapsed: 0:30:35.\n",
      "  Batch 3,200  of  4,638.    Elapsed: 0:30:59.\n",
      "  Batch 3,240  of  4,638.    Elapsed: 0:31:22.\n",
      "  Batch 3,280  of  4,638.    Elapsed: 0:31:45.\n",
      "  Batch 3,320  of  4,638.    Elapsed: 0:32:09.\n",
      "  Batch 3,360  of  4,638.    Elapsed: 0:32:32.\n",
      "  Batch 3,400  of  4,638.    Elapsed: 0:32:56.\n",
      "  Batch 3,440  of  4,638.    Elapsed: 0:33:19.\n",
      "  Batch 3,480  of  4,638.    Elapsed: 0:33:43.\n",
      "  Batch 3,520  of  4,638.    Elapsed: 0:34:06.\n",
      "  Batch 3,560  of  4,638.    Elapsed: 0:34:29.\n",
      "  Batch 3,600  of  4,638.    Elapsed: 0:34:52.\n",
      "  Batch 3,640  of  4,638.    Elapsed: 0:35:15.\n",
      "  Batch 3,680  of  4,638.    Elapsed: 0:35:38.\n",
      "  Batch 3,720  of  4,638.    Elapsed: 0:36:01.\n",
      "  Batch 3,760  of  4,638.    Elapsed: 0:36:25.\n",
      "  Batch 3,800  of  4,638.    Elapsed: 0:36:48.\n",
      "  Batch 3,840  of  4,638.    Elapsed: 0:37:11.\n",
      "  Batch 3,880  of  4,638.    Elapsed: 0:37:34.\n",
      "  Batch 3,920  of  4,638.    Elapsed: 0:37:57.\n",
      "  Batch 3,960  of  4,638.    Elapsed: 0:38:20.\n",
      "  Batch 4,000  of  4,638.    Elapsed: 0:38:43.\n",
      "  Batch 4,040  of  4,638.    Elapsed: 0:39:06.\n",
      "  Batch 4,080  of  4,638.    Elapsed: 0:39:29.\n",
      "  Batch 4,120  of  4,638.    Elapsed: 0:39:52.\n",
      "  Batch 4,160  of  4,638.    Elapsed: 0:40:15.\n",
      "  Batch 4,200  of  4,638.    Elapsed: 0:40:38.\n",
      "  Batch 4,240  of  4,638.    Elapsed: 0:41:01.\n",
      "  Batch 4,280  of  4,638.    Elapsed: 0:41:24.\n",
      "  Batch 4,320  of  4,638.    Elapsed: 0:41:47.\n",
      "  Batch 4,360  of  4,638.    Elapsed: 0:42:10.\n",
      "  Batch 4,400  of  4,638.    Elapsed: 0:42:33.\n",
      "  Batch 4,440  of  4,638.    Elapsed: 0:42:57.\n",
      "  Batch 4,480  of  4,638.    Elapsed: 0:43:20.\n",
      "  Batch 4,520  of  4,638.    Elapsed: 0:43:43.\n",
      "  Batch 4,560  of  4,638.    Elapsed: 0:44:06.\n",
      "  Batch 4,600  of  4,638.    Elapsed: 0:44:29.\n",
      "\n",
      "  Average training loss: 0.27\n",
      "  Training epcoh took: 0:44:50\n",
      "Running Validation...\n",
      "  Accuracy: 0.8564\n",
      "  Validation Loss: 0.35\n",
      "  Validation took: 0:04:17\n",
      "\n",
      "Training complete!\n",
      "Total training took 1:38:01 (h:mm:ss)\n"
     ]
    }
   ],
   "source": [
    "# Configure Hyper Parameters\n",
    "epochs = 2\n",
    "total_steps = len(train_dataloader) * epochs\n",
    "learning_rate = 2e-5\n",
    "eps = 1e-8\n",
    "num_warmup_steps = 0\n",
    "\n",
    "# Train\n",
    "results = train_and_evaluate_model(epochs, total_steps, learning_rate, eps, num_warmup_steps)\n",
    "final_labels, final_preds, final_probs, training_stats, model, avg_val_loss = results"
   ]
  },
  {
   "cell_type": "markdown",
   "id": "a72dbb84",
   "metadata": {
    "papermill": {
     "duration": 0.021839,
     "end_time": "2025-05-14T12:20:43.158223",
     "exception": false,
     "start_time": "2025-05-14T12:20:43.136384",
     "status": "completed"
    },
    "tags": []
   },
   "source": [
    "## Evaluatation"
   ]
  },
  {
   "cell_type": "code",
   "execution_count": 23,
   "id": "bf383aab",
   "metadata": {
    "_cell_guid": "63405aa6-cafb-4c13-a812-d50fbe2b53fa",
    "_uuid": "4648a156-15b7-4be4-9ebd-358ada37ec65",
    "collapsed": false,
    "execution": {
     "iopub.execute_input": "2025-05-14T12:20:43.203089Z",
     "iopub.status.busy": "2025-05-14T12:20:43.202295Z",
     "iopub.status.idle": "2025-05-14T12:20:43.991443Z",
     "shell.execute_reply": "2025-05-14T12:20:43.990732Z"
    },
    "jupyter": {
     "outputs_hidden": false
    },
    "papermill": {
     "duration": 0.812476,
     "end_time": "2025-05-14T12:20:43.992657",
     "exception": false,
     "start_time": "2025-05-14T12:20:43.180181",
     "status": "completed"
    },
    "tags": []
   },
   "outputs": [
    {
     "name": "stdout",
     "output_type": "stream",
     "text": [
      "Validation Accuracy: 0.8564\n",
      "\n",
      "Classification Report:\n",
      "              precision    recall  f1-score   support\n",
      "\n",
      "           0       0.85      0.86      0.86     21197\n",
      "           1       0.86      0.85      0.86     21199\n",
      "\n",
      "    accuracy                           0.86     42396\n",
      "   macro avg       0.86      0.86      0.86     42396\n",
      "weighted avg       0.86      0.86      0.86     42396\n",
      "\n"
     ]
    },
    {
     "data": {
      "image/png": "[encoded data removed]",
      "text/plain": [
       "<Figure size 800x400 with 1 Axes>"
      ]
     },
     "metadata": {},
     "output_type": "display_data"
    },
    {
     "data": {
      "image/png": "[encoded data removed]",
      "text/plain": [
       "<Figure size 800x400 with 1 Axes>"
      ]
     },
     "metadata": {},
     "output_type": "display_data"
    },
    {
     "data": {
      "image/png": "[encoded data removed]",
      "text/plain": [
       "<Figure size 600x500 with 1 Axes>"
      ]
     },
     "metadata": {},
     "output_type": "display_data"
    },
    {
     "data": {
      "image/png": "[encoded data removed]",
      "text/plain": [
       "<Figure size 800x600 with 1 Axes>"
      ]
     },
     "metadata": {},
     "output_type": "display_data"
    }
   ],
   "source": [
    "# Evaluation\n",
    "print_evaluate(final_labels, final_preds, final_probs, training_stats)"
   ]
  },
  {
   "cell_type": "markdown",
   "id": "bc5ecb11",
   "metadata": {
    "_cell_guid": "84ea5fec-2fe7-4a7e-a930-2bde2bba059c",
    "_uuid": "2dd4c394-bc41-4d85-9b72-e71578773ef8",
    "collapsed": false,
    "jupyter": {
     "outputs_hidden": false
    },
    "papermill": {
     "duration": 0.024995,
     "end_time": "2025-05-14T12:20:44.043662",
     "exception": false,
     "start_time": "2025-05-14T12:20:44.018667",
     "status": "completed"
    },
    "tags": []
   },
   "source": [
    "# Performance on the Test Set"
   ]
  },
  {
   "cell_type": "markdown",
   "id": "1434096e",
   "metadata": {
    "_cell_guid": "1a2431a1-96e1-4cb5-9843-1d823cf8fef6",
    "_uuid": "0785513c-9ed0-48a1-8d53-f03b2444978f",
    "collapsed": false,
    "jupyter": {
     "outputs_hidden": false
    },
    "papermill": {
     "duration": 0.02399,
     "end_time": "2025-05-14T12:20:44.091394",
     "exception": false,
     "start_time": "2025-05-14T12:20:44.067404",
     "status": "completed"
    },
    "tags": []
   },
   "source": [
    "## Data Preparation"
   ]
  },
  {
   "cell_type": "code",
   "execution_count": 24,
   "id": "e370af46",
   "metadata": {
    "execution": {
     "iopub.execute_input": "2025-05-14T12:20:44.141639Z",
     "iopub.status.busy": "2025-05-14T12:20:44.141367Z",
     "iopub.status.idle": "2025-05-14T12:20:53.223212Z",
     "shell.execute_reply": "2025-05-14T12:20:53.222381Z"
    },
    "papermill": {
     "duration": 9.109446,
     "end_time": "2025-05-14T12:20:53.224604",
     "exception": false,
     "start_time": "2025-05-14T12:20:44.115158",
     "status": "completed"
    },
    "tags": []
   },
   "outputs": [
    {
     "name": "stderr",
     "output_type": "stream",
     "text": [
      "/usr/local/lib/python3.11/dist-packages/transformers/tokenization_utils_base.py:2700: FutureWarning: The `pad_to_max_length` argument is deprecated and will be removed in a future version, use `padding=True` or `padding='longest'` to pad to the longest sequence in the batch, or use `padding='max_length'` to pad to a max length. In this case, you can give a specific length with `max_length` (e.g. `max_length=45`) or leave max_length to None to pad to the maximal input size of the model (e.g. 512 for Bert).\n",
      "  warnings.warn(\n"
     ]
    }
   ],
   "source": [
    "test_dataset = tokenize_dataset(sentences_test)\n",
    "prediction_sampler = SequentialSampler(test_dataset)\n",
    "prediction_dataloader = DataLoader(test_dataset, sampler=prediction_sampler, batch_size=batch_size)"
   ]
  },
  {
   "cell_type": "markdown",
   "id": "0df3c47b",
   "metadata": {
    "_cell_guid": "f99cdf5b-80d4-4c25-8fc7-a27dd580780f",
    "_uuid": "898c9629-fe00-4e63-ac45-4013b60c4e2a",
    "collapsed": false,
    "jupyter": {
     "outputs_hidden": false
    },
    "papermill": {
     "duration": 0.024022,
     "end_time": "2025-05-14T12:20:53.273948",
     "exception": false,
     "start_time": "2025-05-14T12:20:53.249926",
     "status": "completed"
    },
    "tags": []
   },
   "source": [
    "## Evaluate on Test Set"
   ]
  },
  {
   "cell_type": "code",
   "execution_count": 25,
   "id": "c0557d44",
   "metadata": {
    "_cell_guid": "55c42856-6f6d-4637-a7c7-e78a899e2767",
    "_uuid": "93f51d9c-3c0c-46e7-92ca-979578184b40",
    "collapsed": false,
    "execution": {
     "iopub.execute_input": "2025-05-14T12:20:53.323047Z",
     "iopub.status.busy": "2025-05-14T12:20:53.322430Z",
     "iopub.status.idle": "2025-05-14T12:23:00.461256Z",
     "shell.execute_reply": "2025-05-14T12:23:00.460467Z"
    },
    "jupyter": {
     "outputs_hidden": false
    },
    "papermill": {
     "duration": 127.189187,
     "end_time": "2025-05-14T12:23:00.486990",
     "exception": false,
     "start_time": "2025-05-14T12:20:53.297803",
     "status": "completed"
    },
    "tags": []
   },
   "outputs": [
    {
     "name": "stdout",
     "output_type": "stream",
     "text": [
      "Predicting labels for 37 test sentences...\n",
      "    DONE.\n"
     ]
    }
   ],
   "source": [
    "# Prediction on test set\n",
    "\n",
    "print('Predicting labels for {:,} test sentences...'.format(len(input_ids)))\n",
    "\n",
    "# Put model in evaluation mode\n",
    "model.eval()\n",
    "\n",
    "# Tracking variables\n",
    "predictions , true_labels = [], []\n",
    "\n",
    "# Predict\n",
    "for batch in prediction_dataloader:\n",
    "  # Add batch to GPU\n",
    "  batch = tuple(t.to(device) for t in batch)\n",
    "\n",
    "  # Unpack the inputs from our dataloader\n",
    "  # b_input_ids, b_input_mask, b_labels = batch\n",
    "  b_input_ids, b_input_mask = batch\n",
    "\n",
    "  # Telling the model not to compute or store gradients, saving memory and\n",
    "  # speeding up prediction\n",
    "  with torch.no_grad():\n",
    "      # Forward pass, calculate logit predictions.\n",
    "      result = model(b_input_ids,\n",
    "                     token_type_ids=None,\n",
    "                     attention_mask=b_input_mask,\n",
    "                     return_dict=True)\n",
    "\n",
    "  logits = result.logits\n",
    "\n",
    "  # Move logits and labels to CPU\n",
    "  logits = logits.detach().cpu().numpy()\n",
    "  # label_ids = b_labels.to('cpu').numpy()\n",
    "\n",
    "  # Store predictions and true labels\n",
    "  predictions.append(logits)\n",
    "  # true_labels.append(label_ids)\n",
    "\n",
    "print('    DONE.')"
   ]
  },
  {
   "cell_type": "code",
   "execution_count": 26,
   "id": "77ecbfcf",
   "metadata": {
    "_cell_guid": "fc105ac0-c4b4-4c4a-b066-fc84dfcc3a88",
    "_uuid": "45487b0d-3f78-4c93-86f4-cf5b01bedea1",
    "collapsed": false,
    "execution": {
     "iopub.execute_input": "2025-05-14T12:23:00.535712Z",
     "iopub.status.busy": "2025-05-14T12:23:00.535199Z",
     "iopub.status.idle": "2025-05-14T12:23:00.539953Z",
     "shell.execute_reply": "2025-05-14T12:23:00.539209Z"
    },
    "jupyter": {
     "outputs_hidden": false
    },
    "papermill": {
     "duration": 0.030266,
     "end_time": "2025-05-14T12:23:00.541050",
     "exception": false,
     "start_time": "2025-05-14T12:23:00.510784",
     "status": "completed"
    },
    "tags": []
   },
   "outputs": [],
   "source": [
    "# Flatten predictions and true labels\n",
    "flat_predictions = np.concatenate(predictions, axis=0)\n",
    "flat_predictions = np.argmax(flat_predictions, axis=1).flatten()"
   ]
  },
  {
   "cell_type": "markdown",
   "id": "0d95cccf",
   "metadata": {
    "_cell_guid": "4301068f-7640-40d5-b069-c0be4807db07",
    "_uuid": "11023e16-9e7f-4bae-b45b-67a1d49e716b",
    "collapsed": false,
    "jupyter": {
     "outputs_hidden": false
    },
    "papermill": {
     "duration": 0.023426,
     "end_time": "2025-05-14T12:23:00.588306",
     "exception": false,
     "start_time": "2025-05-14T12:23:00.564880",
     "status": "completed"
    },
    "tags": []
   },
   "source": [
    "# Submission"
   ]
  },
  {
   "cell_type": "code",
   "execution_count": 27,
   "id": "c61c7b53",
   "metadata": {
    "_cell_guid": "36c6de6f-fb7c-4b3c-95e6-b8b58d60cc29",
    "_uuid": "76bb69e6-8399-4455-a20c-8e61f17ae04d",
    "collapsed": false,
    "execution": {
     "iopub.execute_input": "2025-05-14T12:23:00.636434Z",
     "iopub.status.busy": "2025-05-14T12:23:00.636231Z",
     "iopub.status.idle": "2025-05-14T12:23:00.658649Z",
     "shell.execute_reply": "2025-05-14T12:23:00.657867Z"
    },
    "jupyter": {
     "outputs_hidden": false
    },
    "papermill": {
     "duration": 0.048147,
     "end_time": "2025-05-14T12:23:00.659903",
     "exception": false,
     "start_time": "2025-05-14T12:23:00.611756",
     "status": "completed"
    },
    "tags": []
   },
   "outputs": [],
   "source": [
    "submission = pd.DataFrame({\n",
    "    'ID': df_test_preprocessed['ID'],\n",
    "    'Label': flat_predictions\n",
    "})\n",
    "\n",
    "submission.to_csv(\"/kaggle/working/submission.csv\", index=False)"
   ]
  },
  {
   "cell_type": "markdown",
   "id": "58b4435e",
   "metadata": {
    "_cell_guid": "8679cae8-c1b3-46d6-8649-13482065df18",
    "_uuid": "d9a88b06-60a5-4b51-a348-d71aaa41f9e3",
    "collapsed": false,
    "jupyter": {
     "outputs_hidden": false
    },
    "papermill": {
     "duration": 0.023862,
     "end_time": "2025-05-14T12:23:00.708064",
     "exception": false,
     "start_time": "2025-05-14T12:23:00.684202",
     "status": "completed"
    },
    "tags": []
   },
   "source": [
    "# Appendix"
   ]
  },
  {
   "cell_type": "markdown",
   "id": "c82043e8",
   "metadata": {
    "papermill": {
     "duration": 0.0237,
     "end_time": "2025-05-14T12:23:00.755870",
     "exception": false,
     "start_time": "2025-05-14T12:23:00.732170",
     "status": "completed"
    },
    "tags": []
   },
   "source": [
    "## Notes\n",
    "- ### Experiments 1 to 5, used the ```preprocess_text``` preprocessing function while the rest used the ```preprocess_text_for_bert```"
   ]
  },
  {
   "cell_type": "markdown",
   "id": "b56744d0",
   "metadata": {
    "papermill": {
     "duration": 0.023604,
     "end_time": "2025-05-14T12:23:00.803490",
     "exception": false,
     "start_time": "2025-05-14T12:23:00.779886",
     "status": "completed"
    },
    "tags": []
   },
   "source": [
    "## Prepare Data - Experiments 1-5"
   ]
  },
  {
   "cell_type": "code",
   "execution_count": 28,
   "id": "7a59f788",
   "metadata": {
    "execution": {
     "iopub.execute_input": "2025-05-14T12:23:00.851749Z",
     "iopub.status.busy": "2025-05-14T12:23:00.851499Z",
     "iopub.status.idle": "2025-05-14T12:23:00.855104Z",
     "shell.execute_reply": "2025-05-14T12:23:00.854585Z"
    },
    "papermill": {
     "duration": 0.028859,
     "end_time": "2025-05-14T12:23:00.856082",
     "exception": false,
     "start_time": "2025-05-14T12:23:00.827223",
     "status": "completed"
    },
    "tags": []
   },
   "outputs": [],
   "source": [
    "# # Prepare data for experiments 1 to 5\n",
    "\n",
    "# # Preprocess dfs\n",
    "# df_train_preprocessed = df_train.copy() \n",
    "# df_train_preprocessed[\"Text\"] = df_train_preprocessed[\"Text\"].apply(preprocess_text)\n",
    "# df_val_preprocessed = df_val.copy()\n",
    "# df_val_preprocessed[\"Text\"] = df_val_preprocessed[\"Text\"].apply(preprocess_text)\n",
    "# df_test_preprocessed = df_test.copy()\n",
    "# df_test_preprocessed[\"Text\"] = df_test_preprocessed[\"Text\"].apply(preprocess_text)\n",
    "\n",
    "# # Sentences and Labels\n",
    "# sentences_train = df_train_preprocessed.Text.values # Train Dataset\n",
    "# labels_train = df_train_preprocessed.Label.values\n",
    "# sentences_val = df_val_preprocessed.Text.values # Validation Dataset\n",
    "# labels_val = df_val_preprocessed.Label.values\n",
    "# sentences_test = df_test_preprocessed.Text.values # Test Dataset\n",
    "\n",
    "# # Find max length\n",
    "# max_len = 0\n",
    "# for sent in sentences_train:\n",
    "\n",
    "#     # Tokenize the text and add `[CLS]` and `[SEP]` tokens.\n",
    "#     input_ids = tokenizer.encode(sent, add_special_tokens=True)\n",
    "\n",
    "#     # Update the maximum sentence length.\n",
    "#     max_len = max(max_len, len(input_ids))\n",
    "# print(\"max_len for train sentences: \", max_len)\n",
    "\n",
    "# for sent in sentences_val:\n",
    "\n",
    "#     # Tokenize the text and add `[CLS]` and `[SEP]` tokens.\n",
    "#     input_ids = tokenizer.encode(sent, add_special_tokens=True)\n",
    "\n",
    "#     # Update the maximum sentence length.\n",
    "#     max_len = max(max_len, len(input_ids))\n",
    "# print(\"max_len for validation sentences: \", max_len)\n",
    "\n",
    "# for sent in sentences_test:\n",
    "\n",
    "#     # Tokenize the text and add `[CLS]` and `[SEP]` tokens.\n",
    "#     input_ids = tokenizer.encode(sent, add_special_tokens=True)\n",
    "\n",
    "#     # Update the maximum sentence length.\n",
    "#     max_len = max(max_len, len(input_ids))\n",
    "# print(\"max_len for test sentences: \", max_len)\n",
    "\n",
    "# print('Max sentence length: ', max_len)"
   ]
  },
  {
   "cell_type": "markdown",
   "id": "5150ee19",
   "metadata": {
    "_cell_guid": "5e0cec3e-3b5f-4fbe-af31-e80d86a81cba",
    "_uuid": "8688f8f9-4c9c-4b0e-80d2-2e1428095914",
    "collapsed": false,
    "jupyter": {
     "outputs_hidden": false
    },
    "papermill": {
     "duration": 0.023821,
     "end_time": "2025-05-14T12:23:00.903868",
     "exception": false,
     "start_time": "2025-05-14T12:23:00.880047",
     "status": "completed"
    },
    "tags": []
   },
   "source": [
    "## Experiment 1 - Instructor's Values"
   ]
  },
  {
   "cell_type": "code",
   "execution_count": 29,
   "id": "5e2a8c34",
   "metadata": {
    "execution": {
     "iopub.execute_input": "2025-05-14T12:23:00.952794Z",
     "iopub.status.busy": "2025-05-14T12:23:00.952608Z",
     "iopub.status.idle": "2025-05-14T12:23:00.955803Z",
     "shell.execute_reply": "2025-05-14T12:23:00.955111Z"
    },
    "papermill": {
     "duration": 0.029434,
     "end_time": "2025-05-14T12:23:00.956966",
     "exception": false,
     "start_time": "2025-05-14T12:23:00.927532",
     "status": "completed"
    },
    "tags": []
   },
   "outputs": [],
   "source": [
    "# # Get train dataset\n",
    "# train_dataset = tokenize_dataset(sentences_train, labels_train)\n",
    "# # sample_size = 0.2 # Run the study for 20% of the training dataset \n",
    "# # train_dataset = get_sample_from_dataset(train_dataset, sample_size)\n",
    "# print(\"Generated Train Dataset\")\n",
    "\n",
    "# # Get validation dataset\n",
    "# val_dataset = tokenize_dataset(sentences_val, labels_val)\n",
    "# print(\"Generated Validation Dataset\")\n",
    "\n",
    "# # Get dataloaders\n",
    "# batch_size = 32\n",
    "# train_dataloader, validation_dataloader = get_dataloaders(batch_size)\n",
    "# print(\"Generated Dataloaders\")"
   ]
  },
  {
   "cell_type": "code",
   "execution_count": 30,
   "id": "facc398e",
   "metadata": {
    "execution": {
     "iopub.execute_input": "2025-05-14T12:23:01.006769Z",
     "iopub.status.busy": "2025-05-14T12:23:01.006530Z",
     "iopub.status.idle": "2025-05-14T12:23:01.009621Z",
     "shell.execute_reply": "2025-05-14T12:23:01.008933Z"
    },
    "papermill": {
     "duration": 0.029809,
     "end_time": "2025-05-14T12:23:01.010774",
     "exception": false,
     "start_time": "2025-05-14T12:23:00.980965",
     "status": "completed"
    },
    "tags": []
   },
   "outputs": [],
   "source": [
    "# # Configure Hyper Parameters\n",
    "# epochs = 4\n",
    "# total_steps = len(train_dataloader) * epochs\n",
    "# learning_rate = 2e-5\n",
    "# eps = 1e-8\n",
    "# num_warmup_steps = 0\n",
    "\n",
    "# # Train\n",
    "# results = train_and_evaluate_model(epochs, total_steps, learning_rate, eps, num_warmup_steps)\n",
    "# final_labels, final_preds, final_probs, training_stats, model, avg_val_loss = results"
   ]
  },
  {
   "cell_type": "code",
   "execution_count": 31,
   "id": "3b3f06df",
   "metadata": {
    "execution": {
     "iopub.execute_input": "2025-05-14T12:23:01.059417Z",
     "iopub.status.busy": "2025-05-14T12:23:01.059247Z",
     "iopub.status.idle": "2025-05-14T12:23:01.062212Z",
     "shell.execute_reply": "2025-05-14T12:23:01.061537Z"
    },
    "papermill": {
     "duration": 0.028593,
     "end_time": "2025-05-14T12:23:01.063263",
     "exception": false,
     "start_time": "2025-05-14T12:23:01.034670",
     "status": "completed"
    },
    "tags": []
   },
   "outputs": [],
   "source": [
    "# # Evaluation\n",
    "# print_evaluate(final_labels, final_preds, final_probs, training_stats)"
   ]
  },
  {
   "cell_type": "markdown",
   "id": "bb705914",
   "metadata": {
    "papermill": {
     "duration": 0.023998,
     "end_time": "2025-05-14T12:23:01.111421",
     "exception": false,
     "start_time": "2025-05-14T12:23:01.087423",
     "status": "completed"
    },
    "tags": []
   },
   "source": [
    "## Experiment 2 - Optuna (20% of training dataset, batch_size = 32)"
   ]
  },
  {
   "cell_type": "code",
   "execution_count": 32,
   "id": "6c0c21f5",
   "metadata": {
    "execution": {
     "iopub.execute_input": "2025-05-14T12:23:01.161447Z",
     "iopub.status.busy": "2025-05-14T12:23:01.160917Z",
     "iopub.status.idle": "2025-05-14T12:23:01.164194Z",
     "shell.execute_reply": "2025-05-14T12:23:01.163711Z"
    },
    "papermill": {
     "duration": 0.030085,
     "end_time": "2025-05-14T12:23:01.165223",
     "exception": false,
     "start_time": "2025-05-14T12:23:01.135138",
     "status": "completed"
    },
    "tags": []
   },
   "outputs": [],
   "source": [
    "# # Suggest Hyper Parameters\n",
    "# def suggest_hyperparameters(trial):\n",
    "\n",
    "#     # Suggest epochs\n",
    "#     epochs = trial.suggest_categorical('epoch', [2, 3, 4])\n",
    "    \n",
    "#     # Suggest learning rate\n",
    "#     learning_rate = trial.suggest_categorical('learning_rate', [5e-5, 3e-5, 2e-5])\n",
    "    \n",
    "#     return epochs, learning_rate \n",
    "\n",
    "# # Objective Function\n",
    "# def objective(trial):\n",
    "\n",
    "#     # Sample hyperparameters\n",
    "#     epochs, learning_rate = suggest_hyperparameters(trial)\n",
    "\n",
    "#     # Total number of training steps is [number of batches] x [number of epochs].\n",
    "#     # (Note that this is not the same as the number of training samples).\n",
    "#     total_steps = len(train_dataloader) * epochs\n",
    "\n",
    "#     # Set num_warmup_steps to zero (default value in run_glue.py)\n",
    "#     num_warmup_steps = 0\n",
    "    \n",
    "#     # Set eps\n",
    "#     eps = 1e-8\n",
    "\n",
    "#     # Do the training and evaluation\n",
    "#     results = train_and_evaluate_model(epochs, total_steps, learning_rate, eps, num_warmup_steps)\n",
    "#     final_labels, final_preds, final_probs, training_stats, model, avg_val_loss = results\n",
    "\n",
    "#     return avg_val_loss  # minimize average validation loss"
   ]
  },
  {
   "cell_type": "code",
   "execution_count": 33,
   "id": "f2c0ffb8",
   "metadata": {
    "execution": {
     "iopub.execute_input": "2025-05-14T12:23:01.215479Z",
     "iopub.status.busy": "2025-05-14T12:23:01.215306Z",
     "iopub.status.idle": "2025-05-14T12:23:01.218453Z",
     "shell.execute_reply": "2025-05-14T12:23:01.217788Z"
    },
    "papermill": {
     "duration": 0.028751,
     "end_time": "2025-05-14T12:23:01.219564",
     "exception": false,
     "start_time": "2025-05-14T12:23:01.190813",
     "status": "completed"
    },
    "tags": []
   },
   "outputs": [],
   "source": [
    "# # Get train dataset\n",
    "# train_dataset = tokenize_dataset(sentences_train, labels_train)\n",
    "# sample_size = 0.2 # Run the study for 20% of the training dataset \n",
    "# train_dataset = get_sample_from_dataset(train_dataset, sample_size)\n",
    "# print(\"Generated Train Dataset\")\n",
    "\n",
    "# # Get validation dataset\n",
    "# val_dataset = tokenize_dataset(sentences_val, labels_val)\n",
    "# print(\"Generated Validation Dataset\")\n",
    "\n",
    "# # Get dataloaders\n",
    "# batch_size = 32\n",
    "# train_dataloader, validation_dataloader = get_dataloaders(batch_size)\n",
    "# print(\"Generated Dataloaders\")"
   ]
  },
  {
   "cell_type": "markdown",
   "id": "da265773",
   "metadata": {
    "papermill": {
     "duration": 0.023824,
     "end_time": "2025-05-14T12:23:01.267475",
     "exception": false,
     "start_time": "2025-05-14T12:23:01.243651",
     "status": "completed"
    },
    "tags": []
   },
   "source": [
    "### Run optuna study"
   ]
  },
  {
   "cell_type": "code",
   "execution_count": 34,
   "id": "4bee61c1",
   "metadata": {
    "execution": {
     "iopub.execute_input": "2025-05-14T12:23:01.316041Z",
     "iopub.status.busy": "2025-05-14T12:23:01.315582Z",
     "iopub.status.idle": "2025-05-14T12:23:01.319021Z",
     "shell.execute_reply": "2025-05-14T12:23:01.318495Z"
    },
    "papermill": {
     "duration": 0.028715,
     "end_time": "2025-05-14T12:23:01.319999",
     "exception": false,
     "start_time": "2025-05-14T12:23:01.291284",
     "status": "completed"
    },
    "tags": []
   },
   "outputs": [],
   "source": [
    "# # Run optuna study\n",
    "\n",
    "# # Get the start time of the study\n",
    "# study_start_time = time.time()\n",
    "\n",
    "# # Define the search space for the grid search\n",
    "# search_space = {\n",
    "#     \"epoch\": [2, 3, 4],\n",
    "#     \"learning_rate\": [5e-5, 3e-5, 2e-5]\n",
    "# }\n",
    "\n",
    "# # Create a GridSampler that will exhaustively try every combination of the search space\n",
    "# sampler = optuna.samplers.GridSampler(search_space)\n",
    "\n",
    "# # Compute the number of grid combinations\n",
    "# n_trials = len(list(itertools.product(*search_space.values())))\n",
    "\n",
    "# # Create the Optuna study using the grid sampler\n",
    "# study = optuna.create_study(direction = 'minimize', sampler=sampler, study_name = 'optimize_bert')\n",
    "\n",
    "# # Run the study using the exact number of grid combinations\n",
    "# study.optimize(objective, n_trials=n_trials)\n",
    "\n",
    "# # Print study results\n",
    "# print(\"The study took {:} (h:mm:ss)\".format(format_time(time.time()-study_start_time)))\n",
    "# print(\"\")\n",
    "\n",
    "# print('Number of finished trials:' , len(study.trials))\n",
    "# print(\"\")\n",
    "\n",
    "# best_trial = study.best_trial\n",
    "# print(\"Best Trial:\")\n",
    "# print(f\"  Trial Number       : {best_trial.number}\")\n",
    "# print(f\"  Value (avg_val_loss)  : {best_trial.value:.4f}\")\n",
    "# print(\"  Parameters:\")\n",
    "# for key, value in best_trial.params.items():\n",
    "#     print(f\"    {key:<18}: {value}\")\n",
    "# print(f\"  Start Time         : {best_trial.datetime_start}\")\n",
    "# print(f\"  Completion Time    : {best_trial.datetime_complete}\")"
   ]
  },
  {
   "cell_type": "code",
   "execution_count": 35,
   "id": "dfd82072",
   "metadata": {
    "execution": {
     "iopub.execute_input": "2025-05-14T12:23:01.368846Z",
     "iopub.status.busy": "2025-05-14T12:23:01.368306Z",
     "iopub.status.idle": "2025-05-14T12:23:01.371340Z",
     "shell.execute_reply": "2025-05-14T12:23:01.370839Z"
    },
    "papermill": {
     "duration": 0.028207,
     "end_time": "2025-05-14T12:23:01.372239",
     "exception": false,
     "start_time": "2025-05-14T12:23:01.344032",
     "status": "completed"
    },
    "tags": []
   },
   "outputs": [],
   "source": [
    "# # Print the results in a table\n",
    "\n",
    "# # Create a DataFrame from trials\n",
    "# df_results = study.trials_dataframe(attrs=('number', 'value', 'params'))\n",
    "\n",
    "# # Rename columns for clarity\n",
    "# df_results = df_results.rename(columns={\n",
    "#     'number': 'Trial',\n",
    "#     'value': 'Validation Loss'\n",
    "# })\n",
    "\n",
    "# # Move 'Validation Loss' to front\n",
    "# cols = ['Trial', 'Validation Loss'] + [col for col in df_results.columns if col not in ['Trial', 'Validation Loss']]\n",
    "# df_results = df_results[cols]\n",
    "\n",
    "# # Display the table\n",
    "# display(df_results)"
   ]
  },
  {
   "cell_type": "markdown",
   "id": "b3180179",
   "metadata": {
    "papermill": {
     "duration": 0.024105,
     "end_time": "2025-05-14T12:23:01.420378",
     "exception": false,
     "start_time": "2025-05-14T12:23:01.396273",
     "status": "completed"
    },
    "tags": []
   },
   "source": [
    "## Experiment 3 - Results of Experiment 2"
   ]
  },
  {
   "cell_type": "code",
   "execution_count": 36,
   "id": "cc5b1861",
   "metadata": {
    "execution": {
     "iopub.execute_input": "2025-05-14T12:23:01.469691Z",
     "iopub.status.busy": "2025-05-14T12:23:01.469255Z",
     "iopub.status.idle": "2025-05-14T12:23:01.472350Z",
     "shell.execute_reply": "2025-05-14T12:23:01.471787Z"
    },
    "papermill": {
     "duration": 0.028712,
     "end_time": "2025-05-14T12:23:01.473325",
     "exception": false,
     "start_time": "2025-05-14T12:23:01.444613",
     "status": "completed"
    },
    "tags": []
   },
   "outputs": [],
   "source": [
    "# # Get train dataset\n",
    "# train_dataset = tokenize_dataset(sentences_train, labels_train)\n",
    "# # sample_size = 0.2 # Run the study for 20% of the training dataset \n",
    "# # train_dataset = get_sample_from_dataset(train_dataset, sample_size)\n",
    "# print(\"Generated Train Dataset\")\n",
    "\n",
    "# # Get validation dataset\n",
    "# val_dataset = tokenize_dataset(sentences_val, labels_val)\n",
    "# print(\"Generated Validation Dataset\")\n",
    "\n",
    "# # Get dataloaders\n",
    "# batch_size = 32\n",
    "# train_dataloader, validation_dataloader = get_dataloaders(batch_size)\n",
    "# print(\"Generated Dataloaders\")"
   ]
  },
  {
   "cell_type": "code",
   "execution_count": 37,
   "id": "4ac72212",
   "metadata": {
    "execution": {
     "iopub.execute_input": "2025-05-14T12:23:01.521836Z",
     "iopub.status.busy": "2025-05-14T12:23:01.521458Z",
     "iopub.status.idle": "2025-05-14T12:23:01.524585Z",
     "shell.execute_reply": "2025-05-14T12:23:01.523930Z"
    },
    "papermill": {
     "duration": 0.028571,
     "end_time": "2025-05-14T12:23:01.525623",
     "exception": false,
     "start_time": "2025-05-14T12:23:01.497052",
     "status": "completed"
    },
    "tags": []
   },
   "outputs": [],
   "source": [
    "# # Configure Hyper Parameters\n",
    "# epochs = 2\n",
    "# total_steps = len(train_dataloader) * epochs\n",
    "# learning_rate = 2e-5\n",
    "# eps = 1e-8\n",
    "# num_warmup_steps = 0\n",
    "\n",
    "# # Train\n",
    "# results = train_and_evaluate_model(epochs, total_steps, learning_rate, eps, num_warmup_steps)\n",
    "# final_labels, final_preds, final_probs, training_stats, model, avg_val_loss = results"
   ]
  },
  {
   "cell_type": "code",
   "execution_count": 38,
   "id": "ea9b17e4",
   "metadata": {
    "execution": {
     "iopub.execute_input": "2025-05-14T12:23:01.574191Z",
     "iopub.status.busy": "2025-05-14T12:23:01.574025Z",
     "iopub.status.idle": "2025-05-14T12:23:01.576927Z",
     "shell.execute_reply": "2025-05-14T12:23:01.576267Z"
    },
    "papermill": {
     "duration": 0.028386,
     "end_time": "2025-05-14T12:23:01.578006",
     "exception": false,
     "start_time": "2025-05-14T12:23:01.549620",
     "status": "completed"
    },
    "tags": []
   },
   "outputs": [],
   "source": [
    "# # Evaluation\n",
    "# print_evaluate(final_labels, final_preds, final_probs, training_stats)"
   ]
  },
  {
   "cell_type": "markdown",
   "id": "39df5fc9",
   "metadata": {
    "papermill": {
     "duration": 0.023492,
     "end_time": "2025-05-14T12:23:01.625268",
     "exception": false,
     "start_time": "2025-05-14T12:23:01.601776",
     "status": "completed"
    },
    "tags": []
   },
   "source": [
    "## Experiment 4 - Experiment 3 with smaller batch size"
   ]
  },
  {
   "cell_type": "code",
   "execution_count": 39,
   "id": "95dff6ee",
   "metadata": {
    "execution": {
     "iopub.execute_input": "2025-05-14T12:23:01.673482Z",
     "iopub.status.busy": "2025-05-14T12:23:01.673284Z",
     "iopub.status.idle": "2025-05-14T12:23:01.676089Z",
     "shell.execute_reply": "2025-05-14T12:23:01.675592Z"
    },
    "papermill": {
     "duration": 0.028152,
     "end_time": "2025-05-14T12:23:01.677069",
     "exception": false,
     "start_time": "2025-05-14T12:23:01.648917",
     "status": "completed"
    },
    "tags": []
   },
   "outputs": [],
   "source": [
    "# # Get train dataset\n",
    "# train_dataset = tokenize_dataset(sentences_train, labels_train)\n",
    "# # sample_size = 0.2 # Run the study for 20% of the training dataset \n",
    "# # train_dataset = get_sample_from_dataset(train_dataset, sample_size)\n",
    "# print(\"Generated Train Dataset\")\n",
    "\n",
    "# # Get validation dataset\n",
    "# val_dataset = tokenize_dataset(sentences_val, labels_val)\n",
    "# print(\"Generated Validation Dataset\")\n",
    "\n",
    "# # Get dataloaders\n",
    "# batch_size = 16\n",
    "# train_dataloader, validation_dataloader = get_dataloaders(batch_size)\n",
    "# print(\"Generated Dataloaders\")"
   ]
  },
  {
   "cell_type": "code",
   "execution_count": 40,
   "id": "4cd2dd29",
   "metadata": {
    "execution": {
     "iopub.execute_input": "2025-05-14T12:23:01.725739Z",
     "iopub.status.busy": "2025-05-14T12:23:01.725524Z",
     "iopub.status.idle": "2025-05-14T12:23:01.728425Z",
     "shell.execute_reply": "2025-05-14T12:23:01.727928Z"
    },
    "papermill": {
     "duration": 0.028199,
     "end_time": "2025-05-14T12:23:01.729373",
     "exception": false,
     "start_time": "2025-05-14T12:23:01.701174",
     "status": "completed"
    },
    "tags": []
   },
   "outputs": [],
   "source": [
    "# # Configure Hyper Parameters\n",
    "# epochs = 3\n",
    "# total_steps = len(train_dataloader) * epochs\n",
    "# learning_rate = 2e-5\n",
    "# eps = 1e-8\n",
    "# num_warmup_steps = 0\n",
    "\n",
    "# # Train\n",
    "# results = train_and_evaluate_model(epochs, total_steps, learning_rate, eps, num_warmup_steps)\n",
    "# final_labels, final_preds, final_probs, training_stats, model, avg_val_loss = results"
   ]
  },
  {
   "cell_type": "code",
   "execution_count": 41,
   "id": "16adc0d9",
   "metadata": {
    "execution": {
     "iopub.execute_input": "2025-05-14T12:23:01.778371Z",
     "iopub.status.busy": "2025-05-14T12:23:01.778181Z",
     "iopub.status.idle": "2025-05-14T12:23:01.781173Z",
     "shell.execute_reply": "2025-05-14T12:23:01.780494Z"
    },
    "papermill": {
     "duration": 0.028847,
     "end_time": "2025-05-14T12:23:01.782128",
     "exception": false,
     "start_time": "2025-05-14T12:23:01.753281",
     "status": "completed"
    },
    "tags": []
   },
   "outputs": [],
   "source": [
    "# # Evaluation\n",
    "# print_evaluate(final_labels, final_preds, final_probs, training_stats)"
   ]
  },
  {
   "cell_type": "markdown",
   "id": "52fa83ed",
   "metadata": {
    "papermill": {
     "duration": 0.023893,
     "end_time": "2025-05-14T12:23:01.829790",
     "exception": false,
     "start_time": "2025-05-14T12:23:01.805897",
     "status": "completed"
    },
    "tags": []
   },
   "source": [
    "## Experiment 5 - Try warmup steps"
   ]
  },
  {
   "cell_type": "markdown",
   "id": "b50175f1",
   "metadata": {
    "papermill": {
     "duration": 0.023503,
     "end_time": "2025-05-14T12:23:01.876933",
     "exception": false,
     "start_time": "2025-05-14T12:23:01.853430",
     "status": "completed"
    },
    "tags": []
   },
   "source": [
    "```Bert models are pretrained, so jumping in with full learning rate right away can destabilize fine-tuning.```\n",
    "```A small warm-up (e.g. 0–10% of total steps) helps make training smoother and more effective.```\n",
    "```This works by linearly increasing the learning rate from 0 → target learning rate for the first num_warmup_steps```"
   ]
  },
  {
   "cell_type": "code",
   "execution_count": 42,
   "id": "9287bfd7",
   "metadata": {
    "execution": {
     "iopub.execute_input": "2025-05-14T12:23:01.925344Z",
     "iopub.status.busy": "2025-05-14T12:23:01.925144Z",
     "iopub.status.idle": "2025-05-14T12:23:01.927969Z",
     "shell.execute_reply": "2025-05-14T12:23:01.927464Z"
    },
    "papermill": {
     "duration": 0.028434,
     "end_time": "2025-05-14T12:23:01.929014",
     "exception": false,
     "start_time": "2025-05-14T12:23:01.900580",
     "status": "completed"
    },
    "tags": []
   },
   "outputs": [],
   "source": [
    "# # Get train dataset\n",
    "# train_dataset = tokenize_dataset(sentences_train, labels_train)\n",
    "# # sample_size = 0.2 # Run the study for 20% of the training dataset \n",
    "# # train_dataset = get_sample_from_dataset(train_dataset, sample_size)\n",
    "# print(\"Generated Train Dataset\")\n",
    "\n",
    "# # Get validation dataset\n",
    "# val_dataset = tokenize_dataset(sentences_val, labels_val)\n",
    "# print(\"Generated Validation Dataset\")\n",
    "\n",
    "# # Get dataloaders\n",
    "# batch_size = 32\n",
    "# train_dataloader, validation_dataloader = get_dataloaders(batch_size)\n",
    "# print(\"Generated Dataloaders\")"
   ]
  },
  {
   "cell_type": "code",
   "execution_count": 43,
   "id": "0c011bf1",
   "metadata": {
    "execution": {
     "iopub.execute_input": "2025-05-14T12:23:01.978827Z",
     "iopub.status.busy": "2025-05-14T12:23:01.978098Z",
     "iopub.status.idle": "2025-05-14T12:23:01.981366Z",
     "shell.execute_reply": "2025-05-14T12:23:01.980725Z"
    },
    "papermill": {
     "duration": 0.028924,
     "end_time": "2025-05-14T12:23:01.982457",
     "exception": false,
     "start_time": "2025-05-14T12:23:01.953533",
     "status": "completed"
    },
    "tags": []
   },
   "outputs": [],
   "source": [
    "# # Configure Hyper Parameters\n",
    "# epochs = 2\n",
    "# total_steps = len(train_dataloader) * epochs\n",
    "# learning_rate = 2e-5\n",
    "# eps = 1e-8\n",
    "# num_warmup_steps = int(0.05 * total_steps) # Try a warm up of 5% of total steps\n",
    "\n",
    "# # Train\n",
    "# results = train_and_evaluate_model(epochs, total_steps, learning_rate, eps, num_warmup_steps)\n",
    "# final_labels, final_preds, final_probs, training_stats, model, avg_val_loss = results"
   ]
  },
  {
   "cell_type": "code",
   "execution_count": 44,
   "id": "b26430ab",
   "metadata": {
    "execution": {
     "iopub.execute_input": "2025-05-14T12:23:02.032296Z",
     "iopub.status.busy": "2025-05-14T12:23:02.032109Z",
     "iopub.status.idle": "2025-05-14T12:23:02.034961Z",
     "shell.execute_reply": "2025-05-14T12:23:02.034306Z"
    },
    "papermill": {
     "duration": 0.029485,
     "end_time": "2025-05-14T12:23:02.035941",
     "exception": false,
     "start_time": "2025-05-14T12:23:02.006456",
     "status": "completed"
    },
    "tags": []
   },
   "outputs": [],
   "source": [
    "# # Evaluation\n",
    "# print_evaluate(final_labels, final_preds, final_probs, training_stats)"
   ]
  },
  {
   "cell_type": "markdown",
   "id": "cf385a23",
   "metadata": {
    "papermill": {
     "duration": 0.023896,
     "end_time": "2025-05-14T12:23:02.083775",
     "exception": false,
     "start_time": "2025-05-14T12:23:02.059879",
     "status": "completed"
    },
    "tags": []
   },
   "source": [
    "## Prepare Data - Experiments 6 and afterwads"
   ]
  },
  {
   "cell_type": "code",
   "execution_count": 45,
   "id": "12c00ca7",
   "metadata": {
    "execution": {
     "iopub.execute_input": "2025-05-14T12:23:02.133362Z",
     "iopub.status.busy": "2025-05-14T12:23:02.133189Z",
     "iopub.status.idle": "2025-05-14T12:23:02.136646Z",
     "shell.execute_reply": "2025-05-14T12:23:02.136089Z"
    },
    "papermill": {
     "duration": 0.029534,
     "end_time": "2025-05-14T12:23:02.137683",
     "exception": false,
     "start_time": "2025-05-14T12:23:02.108149",
     "status": "completed"
    },
    "tags": []
   },
   "outputs": [],
   "source": [
    "# # Prepare data for experiments 6 and afterwards\n",
    "\n",
    "# # Preprocess dfs\n",
    "# df_train_preprocessed = df_train.copy() \n",
    "# df_train_preprocessed[\"Text\"] = df_train_preprocessed[\"Text\"].apply(preprocess_text_for_bert)\n",
    "# df_val_preprocessed = df_val.copy()\n",
    "# df_val_preprocessed[\"Text\"] = df_val_preprocessed[\"Text\"].apply(preprocess_text_for_bert)\n",
    "# df_test_preprocessed = df_test.copy()\n",
    "# df_test_preprocessed[\"Text\"] = df_test_preprocessed[\"Text\"].apply(preprocess_text_for_bert)\n",
    "\n",
    "# # Sentences and Labels\n",
    "# sentences_train = df_train_preprocessed.Text.values # Train Dataset\n",
    "# labels_train = df_train_preprocessed.Label.values\n",
    "# sentences_val = df_val_preprocessed.Text.values # Validation Dataset\n",
    "# labels_val = df_val_preprocessed.Label.values\n",
    "# sentences_test = df_test_preprocessed.Text.values # Test Dataset\n",
    "\n",
    "# # Find max length\n",
    "# max_len = 0\n",
    "# for sent in sentences_train:\n",
    "\n",
    "#     # Tokenize the text and add `[CLS]` and `[SEP]` tokens.\n",
    "#     input_ids = tokenizer.encode(sent, add_special_tokens=True)\n",
    "\n",
    "#     # Update the maximum sentence length.\n",
    "#     max_len = max(max_len, len(input_ids))\n",
    "# print(\"max_len for train sentences: \", max_len)\n",
    "\n",
    "# for sent in sentences_val:\n",
    "\n",
    "#     # Tokenize the text and add `[CLS]` and `[SEP]` tokens.\n",
    "#     input_ids = tokenizer.encode(sent, add_special_tokens=True)\n",
    "\n",
    "#     # Update the maximum sentence length.\n",
    "#     max_len = max(max_len, len(input_ids))\n",
    "# print(\"max_len for validation sentences: \", max_len)\n",
    "\n",
    "# for sent in sentences_test:\n",
    "\n",
    "#     # Tokenize the text and add `[CLS]` and `[SEP]` tokens.\n",
    "#     input_ids = tokenizer.encode(sent, add_special_tokens=True)\n",
    "\n",
    "#     # Update the maximum sentence length.\n",
    "#     max_len = max(max_len, len(input_ids))\n",
    "# print(\"max_len for test sentences: \", max_len)\n",
    "\n",
    "# print('Max sentence length: ', max_len)"
   ]
  },
  {
   "cell_type": "markdown",
   "id": "86908605",
   "metadata": {
    "papermill": {
     "duration": 0.023899,
     "end_time": "2025-05-14T12:23:02.185996",
     "exception": false,
     "start_time": "2025-05-14T12:23:02.162097",
     "status": "completed"
    },
    "tags": []
   },
   "source": [
    "## Experiment 6 - Try new preprocessing function"
   ]
  },
  {
   "cell_type": "code",
   "execution_count": 46,
   "id": "140578a0",
   "metadata": {
    "execution": {
     "iopub.execute_input": "2025-05-14T12:23:02.234652Z",
     "iopub.status.busy": "2025-05-14T12:23:02.234208Z",
     "iopub.status.idle": "2025-05-14T12:23:02.237461Z",
     "shell.execute_reply": "2025-05-14T12:23:02.236799Z"
    },
    "papermill": {
     "duration": 0.028702,
     "end_time": "2025-05-14T12:23:02.238605",
     "exception": false,
     "start_time": "2025-05-14T12:23:02.209903",
     "status": "completed"
    },
    "tags": []
   },
   "outputs": [],
   "source": [
    "# # Get train dataset\n",
    "# train_dataset = tokenize_dataset(sentences_train, labels_train)\n",
    "# # sample_size = 0.2 # Run the study for 20% of the training dataset \n",
    "# # train_dataset = get_sample_from_dataset(train_dataset, sample_size)\n",
    "# print(\"Generated Train Dataset\")\n",
    "\n",
    "# # Get validation dataset\n",
    "# val_dataset = tokenize_dataset(sentences_val, labels_val)\n",
    "# print(\"Generated Validation Dataset\")\n",
    "\n",
    "# # Get dataloaders\n",
    "# batch_size = 32\n",
    "# train_dataloader, validation_dataloader = get_dataloaders(batch_size)\n",
    "# print(\"Generated Dataloaders\")"
   ]
  },
  {
   "cell_type": "code",
   "execution_count": 47,
   "id": "2f7d3f3b",
   "metadata": {
    "execution": {
     "iopub.execute_input": "2025-05-14T12:23:02.287901Z",
     "iopub.status.busy": "2025-05-14T12:23:02.287701Z",
     "iopub.status.idle": "2025-05-14T12:23:02.290682Z",
     "shell.execute_reply": "2025-05-14T12:23:02.290151Z"
    },
    "papermill": {
     "duration": 0.029021,
     "end_time": "2025-05-14T12:23:02.291921",
     "exception": false,
     "start_time": "2025-05-14T12:23:02.262900",
     "status": "completed"
    },
    "tags": []
   },
   "outputs": [],
   "source": [
    "# # Configure Hyper Parameters\n",
    "# epochs = 2\n",
    "# total_steps = len(train_dataloader) * epochs\n",
    "# learning_rate = 2e-5\n",
    "# eps = 1e-8\n",
    "# num_warmup_steps = 0\n",
    "# # hidden_dropouts = 0.1\n",
    "# # attention_dropout = 0.1\n",
    "# # weight_decay = 0.2\n",
    "\n",
    "# # Train\n",
    "# # results = train_and_evaluate_model(epochs, total_steps, learning_rate, eps, num_warmup_steps, \n",
    "# #                                    hidden_dropouts, attention_dropout, weight_decay)\n",
    "# results = train_and_evaluate_model(epochs, total_steps, learning_rate, eps, num_warmup_steps)\n",
    "# final_labels, final_preds, final_probs, training_stats, model, avg_val_loss = results"
   ]
  },
  {
   "cell_type": "code",
   "execution_count": 48,
   "id": "6896fa06",
   "metadata": {
    "execution": {
     "iopub.execute_input": "2025-05-14T12:23:02.340444Z",
     "iopub.status.busy": "2025-05-14T12:23:02.340239Z",
     "iopub.status.idle": "2025-05-14T12:23:02.342910Z",
     "shell.execute_reply": "2025-05-14T12:23:02.342405Z"
    },
    "papermill": {
     "duration": 0.028119,
     "end_time": "2025-05-14T12:23:02.343987",
     "exception": false,
     "start_time": "2025-05-14T12:23:02.315868",
     "status": "completed"
    },
    "tags": []
   },
   "outputs": [],
   "source": [
    "# # Evaluation\n",
    "# print_evaluate(final_labels, final_preds, final_probs, training_stats)"
   ]
  },
  {
   "cell_type": "markdown",
   "id": "b6acbaef",
   "metadata": {
    "papermill": {
     "duration": 0.023658,
     "end_time": "2025-05-14T12:23:02.391588",
     "exception": false,
     "start_time": "2025-05-14T12:23:02.367930",
     "status": "completed"
    },
    "tags": []
   },
   "source": [
    "## Experiment 7 - New Optuna"
   ]
  },
  {
   "cell_type": "code",
   "execution_count": 49,
   "id": "761ca4ff",
   "metadata": {
    "execution": {
     "iopub.execute_input": "2025-05-14T12:23:02.440790Z",
     "iopub.status.busy": "2025-05-14T12:23:02.440573Z",
     "iopub.status.idle": "2025-05-14T12:23:02.443447Z",
     "shell.execute_reply": "2025-05-14T12:23:02.442971Z"
    },
    "papermill": {
     "duration": 0.028791,
     "end_time": "2025-05-14T12:23:02.444374",
     "exception": false,
     "start_time": "2025-05-14T12:23:02.415583",
     "status": "completed"
    },
    "tags": []
   },
   "outputs": [],
   "source": [
    "# # Get train dataset\n",
    "# train_dataset = tokenize_dataset(sentences_train, labels_train)\n",
    "# sample_size = 0.2 # Run the study for 20% of the training dataset \n",
    "# train_dataset = get_sample_from_dataset(train_dataset, sample_size)\n",
    "# print(\"Generated Train Dataset\")\n",
    "\n",
    "# # Get validation dataset\n",
    "# val_dataset = tokenize_dataset(sentences_val, labels_val)\n",
    "# print(\"Generated Validation Dataset\")\n",
    "\n",
    "# # Get dataloaders\n",
    "# batch_size = 32\n",
    "# train_dataloader, validation_dataloader = get_dataloaders(batch_size)\n",
    "# print(\"Generated Dataloaders\")"
   ]
  },
  {
   "cell_type": "code",
   "execution_count": 50,
   "id": "7a7e9828",
   "metadata": {
    "execution": {
     "iopub.execute_input": "2025-05-14T12:23:02.493508Z",
     "iopub.status.busy": "2025-05-14T12:23:02.493026Z",
     "iopub.status.idle": "2025-05-14T12:23:02.496778Z",
     "shell.execute_reply": "2025-05-14T12:23:02.496093Z"
    },
    "papermill": {
     "duration": 0.029479,
     "end_time": "2025-05-14T12:23:02.497787",
     "exception": false,
     "start_time": "2025-05-14T12:23:02.468308",
     "status": "completed"
    },
    "tags": []
   },
   "outputs": [],
   "source": [
    "# # Suggest Hyper Parameters\n",
    "# def suggest_hyperparameters(trial):\n",
    "\n",
    "#     # Suggest epochs\n",
    "#     epochs = trial.suggest_categorical('epoch', [2, 3])\n",
    "    \n",
    "#     # Suggest learning rate\n",
    "#     learning_rate = trial.suggest_categorical('learning_rate', [5e-5, 3e-5, 2e-5])\n",
    "\n",
    "#     # Suggest hidden dropout\n",
    "#     hidden_dropout = trial.suggest_categorical('hidden_dropout', [0.1, 0.2, 0.3])\n",
    "\n",
    "#     # Suggest attention dropout\n",
    "#     attention_dropout = trial.suggest_categorical('attention_dropout', [0.1, 0.2, 0.3])\n",
    "\n",
    "#     # Suggest weight decay\n",
    "#     weight_decay = trial.suggest_categorical('weight_decay', [0.0, 0.1, 0.2, 0.3])\n",
    "    \n",
    "#     return epochs, learning_rate, hidden_dropout, attention_dropout, weight_decay\n",
    "\n",
    "# # Objective Function\n",
    "# def objective(trial):\n",
    "\n",
    "#     # Sample hyperparameters\n",
    "#     epochs, learning_rate, hidden_dropout, attention_dropout, weight_decay = suggest_hyperparameters(trial)\n",
    "\n",
    "#     # Total number of training steps is [number of batches] x [number of epochs].\n",
    "#     # (Note that this is not the same as the number of training samples).\n",
    "#     total_steps = len(train_dataloader) * epochs\n",
    "\n",
    "#     # Set num_warmup_steps to zero (default value in run_glue.py)\n",
    "#     num_warmup_steps = 0\n",
    "    \n",
    "#     # Set eps\n",
    "#     eps = 1e-8\n",
    "\n",
    "#     # Do the training and evaluation\n",
    "#     results = train_and_evaluate_model(\n",
    "#         epochs, total_steps, learning_rate, eps, num_warmup_steps, \n",
    "#         hidden_dropout, attention_dropout, weight_decay\n",
    "#     )\n",
    "#     final_labels, final_preds, final_probs, training_stats, model, avg_val_loss = results\n",
    "\n",
    "#     return avg_val_loss  # minimize average validation loss"
   ]
  },
  {
   "cell_type": "code",
   "execution_count": 51,
   "id": "ba92d85f",
   "metadata": {
    "execution": {
     "iopub.execute_input": "2025-05-14T12:23:02.547103Z",
     "iopub.status.busy": "2025-05-14T12:23:02.546602Z",
     "iopub.status.idle": "2025-05-14T12:23:02.549831Z",
     "shell.execute_reply": "2025-05-14T12:23:02.549307Z"
    },
    "papermill": {
     "duration": 0.028725,
     "end_time": "2025-05-14T12:23:02.550848",
     "exception": false,
     "start_time": "2025-05-14T12:23:02.522123",
     "status": "completed"
    },
    "tags": []
   },
   "outputs": [],
   "source": [
    "# # Run optuna study\n",
    "\n",
    "# # Get the start time of the study\n",
    "# study_start_time = time.time()\n",
    "\n",
    "# sampler = optuna.samplers.RandomSampler(seed=42)\n",
    "\n",
    "# study = optuna.create_study(direction = 'minimize', sampler = sampler, study_name = 'optimize_bert')\n",
    "\n",
    "# study.optimize(objective, n_trials = 20)\n",
    "\n",
    "# # Print study results\n",
    "# print(\"The study took {:} (h:mm:ss)\".format(format_time(time.time()-study_start_time)))\n",
    "# print(\"\")\n",
    "\n",
    "# print('Number of finished trials:' , len(study.trials))\n",
    "# print(\"\")\n",
    "\n",
    "# best_trial = study.best_trial\n",
    "# print(\"Best Trial:\")\n",
    "# print(f\"  Trial Number       : {best_trial.number}\")\n",
    "# print(f\"  Value (avg_val_loss)  : {best_trial.value:.4f}\")\n",
    "# print(\"  Parameters:\")\n",
    "# for key, value in best_trial.params.items():\n",
    "#     print(f\"    {key:<18}: {value}\")\n",
    "# print(f\"  Start Time         : {best_trial.datetime_start}\")\n",
    "# print(f\"  Completion Time    : {best_trial.datetime_complete}\")"
   ]
  },
  {
   "cell_type": "code",
   "execution_count": 52,
   "id": "6a955515",
   "metadata": {
    "execution": {
     "iopub.execute_input": "2025-05-14T12:23:02.603729Z",
     "iopub.status.busy": "2025-05-14T12:23:02.602913Z",
     "iopub.status.idle": "2025-05-14T12:23:02.606283Z",
     "shell.execute_reply": "2025-05-14T12:23:02.605777Z"
    },
    "papermill": {
     "duration": 0.031219,
     "end_time": "2025-05-14T12:23:02.607299",
     "exception": false,
     "start_time": "2025-05-14T12:23:02.576080",
     "status": "completed"
    },
    "tags": []
   },
   "outputs": [],
   "source": [
    "# # Print the results in a table\n",
    "\n",
    "# # Create a DataFrame from trials\n",
    "# df_results = study.trials_dataframe(attrs=('number', 'value', 'params'))\n",
    "\n",
    "# # Rename columns for clarity\n",
    "# df_results = df_results.rename(columns={\n",
    "#     'number': 'Trial',\n",
    "#     'value': 'Validation Loss'\n",
    "# })\n",
    "\n",
    "# # Move 'Validation Loss' to front\n",
    "# cols = ['Trial', 'Validation Loss'] + [col for col in df_results.columns if col not in ['Trial', 'Validation Loss']]\n",
    "# df_results = df_results[cols]\n",
    "\n",
    "# # Display the table\n",
    "# display(df_results)"
   ]
  },
  {
   "cell_type": "markdown",
   "id": "a290ec91",
   "metadata": {
    "papermill": {
     "duration": 0.026156,
     "end_time": "2025-05-14T12:23:02.659922",
     "exception": false,
     "start_time": "2025-05-14T12:23:02.633766",
     "status": "completed"
    },
    "tags": []
   },
   "source": [
    "## Experiment 8 - Results of Experiment 7"
   ]
  },
  {
   "cell_type": "code",
   "execution_count": 53,
   "id": "4c2f1c7c",
   "metadata": {
    "execution": {
     "iopub.execute_input": "2025-05-14T12:23:02.712939Z",
     "iopub.status.busy": "2025-05-14T12:23:02.712707Z",
     "iopub.status.idle": "2025-05-14T12:23:02.716198Z",
     "shell.execute_reply": "2025-05-14T12:23:02.715463Z"
    },
    "papermill": {
     "duration": 0.031212,
     "end_time": "2025-05-14T12:23:02.717233",
     "exception": false,
     "start_time": "2025-05-14T12:23:02.686021",
     "status": "completed"
    },
    "tags": []
   },
   "outputs": [],
   "source": [
    "# # Get train dataset\n",
    "# train_dataset = tokenize_dataset(sentences_train, labels_train)\n",
    "# # sample_size = 0.2 # Run the study for 20% of the training dataset \n",
    "# # train_dataset = get_sample_from_dataset(train_dataset, sample_size)\n",
    "# print(\"Generated Train Dataset\")\n",
    "\n",
    "# # Get validation dataset\n",
    "# val_dataset = tokenize_dataset(sentences_val, labels_val)\n",
    "# print(\"Generated Validation Dataset\")\n",
    "\n",
    "# # Get dataloaders\n",
    "# batch_size = 32\n",
    "# train_dataloader, validation_dataloader = get_dataloaders(batch_size)\n",
    "# print(\"Generated Dataloaders\")"
   ]
  },
  {
   "cell_type": "code",
   "execution_count": 54,
   "id": "ec0f51cb",
   "metadata": {
    "execution": {
     "iopub.execute_input": "2025-05-14T12:23:02.770177Z",
     "iopub.status.busy": "2025-05-14T12:23:02.769973Z",
     "iopub.status.idle": "2025-05-14T12:23:02.773497Z",
     "shell.execute_reply": "2025-05-14T12:23:02.772721Z"
    },
    "papermill": {
     "duration": 0.031681,
     "end_time": "2025-05-14T12:23:02.774942",
     "exception": false,
     "start_time": "2025-05-14T12:23:02.743261",
     "status": "completed"
    },
    "tags": []
   },
   "outputs": [],
   "source": [
    "# # Configure Hyper Parameters\n",
    "# epochs = 2\n",
    "# total_steps = len(train_dataloader) * epochs\n",
    "# learning_rate = 3e-5\n",
    "# eps = 1e-8\n",
    "# num_warmup_steps = 0\n",
    "# hidden_dropouts = 0.1\n",
    "# attention_dropout = 0.3\n",
    "# weight_decay = 0.3\n",
    "\n",
    "# # Train\n",
    "# results = train_and_evaluate_model(epochs, total_steps, learning_rate, eps, num_warmup_steps, \n",
    "#                                    hidden_dropouts, attention_dropout, weight_decay)\n",
    "# final_labels, final_preds, final_probs, training_stats, model, avg_val_loss = results"
   ]
  },
  {
   "cell_type": "code",
   "execution_count": 55,
   "id": "b7c8d35a",
   "metadata": {
    "execution": {
     "iopub.execute_input": "2025-05-14T12:23:02.824416Z",
     "iopub.status.busy": "2025-05-14T12:23:02.824227Z",
     "iopub.status.idle": "2025-05-14T12:23:02.826861Z",
     "shell.execute_reply": "2025-05-14T12:23:02.826362Z"
    },
    "papermill": {
     "duration": 0.028534,
     "end_time": "2025-05-14T12:23:02.827897",
     "exception": false,
     "start_time": "2025-05-14T12:23:02.799363",
     "status": "completed"
    },
    "tags": []
   },
   "outputs": [],
   "source": [
    "# # Evaluation\n",
    "# print_evaluate(final_labels, final_preds, final_probs, training_stats)"
   ]
  }
 ],
 "metadata": {
  "kaggle": {
   "accelerator": "nvidiaTeslaT4",
   "dataSources": [
    {
     "databundleVersionId": 11781620,
     "sourceId": 98723,
     "sourceType": "competition"
    }
   ],
   "dockerImageVersionId": 31011,
   "isGpuEnabled": true,
   "isInternetEnabled": true,
   "language": "python",
   "sourceType": "notebook"
  },
  "kernelspec": {
   "display_name": "Python 3",
   "language": "python",
   "name": "python3"
  },
  "language_info": {
   "codemirror_mode": {
    "name": "ipython",
    "version": 3
   },
   "file_extension": ".py",
   "mimetype": "text/x-python",
   "name": "python",
   "nbconvert_exporter": "python",
   "pygments_lexer": "ipython3",
   "version": "3.11.11"
  },
  "papermill": {
   "default_parameters": {},
   "duration": 6214.626884,
   "end_time": "2025-05-14T12:23:06.126614",
   "environment_variables": {},
   "exception": null,
   "input_path": "__notebook__.ipynb",
   "output_path": "__notebook__.ipynb",
   "parameters": {},
   "start_time": "2025-05-14T10:39:31.499730",
   "version": "2.6.0"
  },
  "widgets": {
   "application/vnd.jupyter.widget-state+json": {
    "state": {
     "02f78adb2ef845669b39504ac501578e": {
      "model_module": "@jupyter-widgets/base",
      "model_module_version": "2.0.0",
      "model_name": "LayoutModel",
      "state": {
       "_model_module": "@jupyter-widgets/base",
       "_model_module_version": "2.0.0",
       "_model_name": "LayoutModel",
       "_view_count": null,
       "_view_module": "@jupyter-widgets/base",
       "_view_module_version": "2.0.0",
       "_view_name": "LayoutView",
       "align_content": null,
       "align_items": null,
       "align_self": null,
       "border_bottom": null,
       "border_left": null,
       "border_right": null,
       "border_top": null,
       "bottom": null,
       "display": null,
       "flex": null,
       "flex_flow": null,
       "grid_area": null,
       "grid_auto_columns": null,
       "grid_auto_flow": null,
       "grid_auto_rows": null,
       "grid_column": null,
       "grid_gap": null,
       "grid_row": null,
       "grid_template_areas": null,
       "grid_template_columns": null,
       "grid_template_rows": null,
       "height": null,
       "justify_content": null,
       "justify_items": null,
       "left": null,
       "margin": null,
       "max_height": null,
       "max_width": null,
       "min_height": null,
       "min_width": null,
       "object_fit": null,
       "object_position": null,
       "order": null,
       "overflow": null,
       "padding": null,
       "right": null,
       "top": null,
       "visibility": null,
       "width": null
      }
     },
     "02f7b67b152d462496c23dbf240cecdc": {
      "model_module": "@jupyter-widgets/base",
      "model_module_version": "2.0.0",
      "model_name": "LayoutModel",
      "state": {
       "_model_module": "@jupyter-widgets/base",
       "_model_module_version": "2.0.0",
       "_model_name": "LayoutModel",
       "_view_count": null,
       "_view_module": "@jupyter-widgets/base",
       "_view_module_version": "2.0.0",
       "_view_name": "LayoutView",
       "align_content": null,
       "align_items": null,
       "align_self": null,
       "border_bottom": null,
       "border_left": null,
       "border_right": null,
       "border_top": null,
       "bottom": null,
       "display": null,
       "flex": null,
       "flex_flow": null,
       "grid_area": null,
       "grid_auto_columns": null,
       "grid_auto_flow": null,
       "grid_auto_rows": null,
       "grid_column": null,
       "grid_gap": null,
       "grid_row": null,
       "grid_template_areas": null,
       "grid_template_columns": null,
       "grid_template_rows": null,
       "height": null,
       "justify_content": null,
       "justify_items": null,
       "left": null,
       "margin": null,
       "max_height": null,
       "max_width": null,
       "min_height": null,
       "min_width": null,
       "object_fit": null,
       "object_position": null,
       "order": null,
       "overflow": null,
       "padding": null,
       "right": null,
       "top": null,
       "visibility": null,
       "width": null
      }
     },
     "05c321ff2e014e27a0c8c2c113119f86": {
      "model_module": "@jupyter-widgets/controls",
      "model_module_version": "2.0.0",
      "model_name": "FloatProgressModel",
      "state": {
       "_dom_classes": [],
       "_model_module": "@jupyter-widgets/controls",
       "_model_module_version": "2.0.0",
       "_model_name": "FloatProgressModel",
       "_view_count": null,
       "_view_module": "@jupyter-widgets/controls",
       "_view_module_version": "2.0.0",
       "_view_name": "ProgressView",
       "bar_style": "success",
       "description": "",
       "description_allow_html": false,
       "layout": "IPY_MODEL_b40cbc05218c41bab154e43674c29334",
       "max": 231508.0,
       "min": 0.0,
       "orientation": "horizontal",
       "style": "IPY_MODEL_f6308bf132994804973e72837c8bc5d0",
       "tabbable": null,
       "tooltip": null,
       "value": 231508.0
      }
     },
     "0753157018374e2db4391807a12a33fa": {
      "model_module": "@jupyter-widgets/controls",
      "model_module_version": "2.0.0",
      "model_name": "HTMLStyleModel",
      "state": {
       "_model_module": "@jupyter-widgets/controls",
       "_model_module_version": "2.0.0",
       "_model_name": "HTMLStyleModel",
       "_view_count": null,
       "_view_module": "@jupyter-widgets/base",
       "_view_module_version": "2.0.0",
       "_view_name": "StyleView",
       "background": null,
       "description_width": "",
       "font_size": null,
       "text_color": null
      }
     },
     "0cbf4f9e12fb434da0ed335bec34957c": {
      "model_module": "@jupyter-widgets/base",
      "model_module_version": "2.0.0",
      "model_name": "LayoutModel",
      "state": {
       "_model_module": "@jupyter-widgets/base",
       "_model_module_version": "2.0.0",
       "_model_name": "LayoutModel",
       "_view_count": null,
       "_view_module": "@jupyter-widgets/base",
       "_view_module_version": "2.0.0",
       "_view_name": "LayoutView",
       "align_content": null,
       "align_items": null,
       "align_self": null,
       "border_bottom": null,
       "border_left": null,
       "border_right": null,
       "border_top": null,
       "bottom": null,
       "display": null,
       "flex": null,
       "flex_flow": null,
       "grid_area": null,
       "grid_auto_columns": null,
       "grid_auto_flow": null,
       "grid_auto_rows": null,
       "grid_column": null,
       "grid_gap": null,
       "grid_row": null,
       "grid_template_areas": null,
       "grid_template_columns": null,
       "grid_template_rows": null,
       "height": null,
       "justify_content": null,
       "justify_items": null,
       "left": null,
       "margin": null,
       "max_height": null,
       "max_width": null,
       "min_height": null,
       "min_width": null,
       "object_fit": null,
       "object_position": null,
       "order": null,
       "overflow": null,
       "padding": null,
       "right": null,
       "top": null,
       "visibility": null,
       "width": null
      }
     },
     "1093fcc8c57f4a1b9d616821e9ccbd15": {
      "model_module": "@jupyter-widgets/controls",
      "model_module_version": "2.0.0",
      "model_name": "HTMLStyleModel",
      "state": {
       "_model_module": "@jupyter-widgets/controls",
       "_model_module_version": "2.0.0",
       "_model_name": "HTMLStyleModel",
       "_view_count": null,
       "_view_module": "@jupyter-widgets/base",
       "_view_module_version": "2.0.0",
       "_view_name": "StyleView",
       "background": null,
       "description_width": "",
       "font_size": null,
       "text_color": null
      }
     },
     "11b28dd987664aa1833467c69f308193": {
      "model_module": "@jupyter-widgets/base",
      "model_module_version": "2.0.0",
      "model_name": "LayoutModel",
      "state": {
       "_model_module": "@jupyter-widgets/base",
       "_model_module_version": "2.0.0",
       "_model_name": "LayoutModel",
       "_view_count": null,
       "_view_module": "@jupyter-widgets/base",
       "_view_module_version": "2.0.0",
       "_view_name": "LayoutView",
       "align_content": null,
       "align_items": null,
       "align_self": null,
       "border_bottom": null,
       "border_left": null,
       "border_right": null,
       "border_top": null,
       "bottom": null,
       "display": null,
       "flex": null,
       "flex_flow": null,
       "grid_area": null,
       "grid_auto_columns": null,
       "grid_auto_flow": null,
       "grid_auto_rows": null,
       "grid_column": null,
       "grid_gap": null,
       "grid_row": null,
       "grid_template_areas": null,
       "grid_template_columns": null,
       "grid_template_rows": null,
       "height": null,
       "justify_content": null,
       "justify_items": null,
       "left": null,
       "margin": null,
       "max_height": null,
       "max_width": null,
       "min_height": null,
       "min_width": null,
       "object_fit": null,
       "object_position": null,
       "order": null,
       "overflow": null,
       "padding": null,
       "right": null,
       "top": null,
       "visibility": null,
       "width": null
      }
     },
     "121e184dc815415c97548cbef392e94a": {
      "model_module": "@jupyter-widgets/controls",
      "model_module_version": "2.0.0",
      "model_name": "HTMLModel",
      "state": {
       "_dom_classes": [],
       "_model_module": "@jupyter-widgets/controls",
       "_model_module_version": "2.0.0",
       "_model_name": "HTMLModel",
       "_view_count": null,
       "_view_module": "@jupyter-widgets/controls",
       "_view_module_version": "2.0.0",
       "_view_name": "HTMLView",
       "description": "",
       "description_allow_html": false,
       "layout": "IPY_MODEL_635cec3f42314c0f9c3e6c9226bddf1d",
       "placeholder": "​",
       "style": "IPY_MODEL_5f1305294e3b4de1bdc2df175d7183cd",
       "tabbable": null,
       "tooltip": null,
       "value": " 440M/440M [00:01&lt;00:00, 306MB/s]"
      }
     },
     "1eb457686bed4d1f8a166c0ac67288fd": {
      "model_module": "@jupyter-widgets/base",
      "model_module_version": "2.0.0",
      "model_name": "LayoutModel",
      "state": {
       "_model_module": "@jupyter-widgets/base",
       "_model_module_version": "2.0.0",
       "_model_name": "LayoutModel",
       "_view_count": null,
       "_view_module": "@jupyter-widgets/base",
       "_view_module_version": "2.0.0",
       "_view_name": "LayoutView",
       "align_content": null,
       "align_items": null,
       "align_self": null,
       "border_bottom": null,
       "border_left": null,
       "border_right": null,
       "border_top": null,
       "bottom": null,
       "display": null,
       "flex": null,
       "flex_flow": null,
       "grid_area": null,
       "grid_auto_columns": null,
       "grid_auto_flow": null,
       "grid_auto_rows": null,
       "grid_column": null,
       "grid_gap": null,
       "grid_row": null,
       "grid_template_areas": null,
       "grid_template_columns": null,
       "grid_template_rows": null,
       "height": null,
       "justify_content": null,
       "justify_items": null,
       "left": null,
       "margin": null,
       "max_height": null,
       "max_width": null,
       "min_height": null,
       "min_width": null,
       "object_fit": null,
       "object_position": null,
       "order": null,
       "overflow": null,
       "padding": null,
       "right": null,
       "top": null,
       "visibility": null,
       "width": null
      }
     },
     "1fd9682c09334e379f1bd28e5eccd5be": {
      "model_module": "@jupyter-widgets/controls",
      "model_module_version": "2.0.0",
      "model_name": "ProgressStyleModel",
      "state": {
       "_model_module": "@jupyter-widgets/controls",
       "_model_module_version": "2.0.0",
       "_model_name": "ProgressStyleModel",
       "_view_count": null,
       "_view_module": "@jupyter-widgets/base",
       "_view_module_version": "2.0.0",
       "_view_name": "StyleView",
       "bar_color": null,
       "description_width": ""
      }
     },
     "2340e052b27247339fc01765458b5b97": {
      "model_module": "@jupyter-widgets/base",
      "model_module_version": "2.0.0",
      "model_name": "LayoutModel",
      "state": {
       "_model_module": "@jupyter-widgets/base",
       "_model_module_version": "2.0.0",
       "_model_name": "LayoutModel",
       "_view_count": null,
       "_view_module": "@jupyter-widgets/base",
       "_view_module_version": "2.0.0",
       "_view_name": "LayoutView",
       "align_content": null,
       "align_items": null,
       "align_self": null,
       "border_bottom": null,
       "border_left": null,
       "border_right": null,
       "border_top": null,
       "bottom": null,
       "display": null,
       "flex": null,
       "flex_flow": null,
       "grid_area": null,
       "grid_auto_columns": null,
       "grid_auto_flow": null,
       "grid_auto_rows": null,
       "grid_column": null,
       "grid_gap": null,
       "grid_row": null,
       "grid_template_areas": null,
       "grid_template_columns": null,
       "grid_template_rows": null,
       "height": null,
       "justify_content": null,
       "justify_items": null,
       "left": null,
       "margin": null,
       "max_height": null,
       "max_width": null,
       "min_height": null,
       "min_width": null,
       "object_fit": null,
       "object_position": null,
       "order": null,
       "overflow": null,
       "padding": null,
       "right": null,
       "top": null,
       "visibility": null,
       "width": null
      }
     },
     "24238c49eb344fdb80250e65b661be3c": {
      "model_module": "@jupyter-widgets/base",
      "model_module_version": "2.0.0",
      "model_name": "LayoutModel",
      "state": {
       "_model_module": "@jupyter-widgets/base",
       "_model_module_version": "2.0.0",
       "_model_name": "LayoutModel",
       "_view_count": null,
       "_view_module": "@jupyter-widgets/base",
       "_view_module_version": "2.0.0",
       "_view_name": "LayoutView",
       "align_content": null,
       "align_items": null,
       "align_self": null,
       "border_bottom": null,
       "border_left": null,
       "border_right": null,
       "border_top": null,
       "bottom": null,
       "display": null,
       "flex": null,
       "flex_flow": null,
       "grid_area": null,
       "grid_auto_columns": null,
       "grid_auto_flow": null,
       "grid_auto_rows": null,
       "grid_column": null,
       "grid_gap": null,
       "grid_row": null,
       "grid_template_areas": null,
       "grid_template_columns": null,
       "grid_template_rows": null,
       "height": null,
       "justify_content": null,
       "justify_items": null,
       "left": null,
       "margin": null,
       "max_height": null,
       "max_width": null,
       "min_height": null,
       "min_width": null,
       "object_fit": null,
       "object_position": null,
       "order": null,
       "overflow": null,
       "padding": null,
       "right": null,
       "top": null,
       "visibility": null,
       "width": null
      }
     },
     "27c4297d846046aaa193b398c047e794": {
      "model_module": "@jupyter-widgets/controls",
      "model_module_version": "2.0.0",
      "model_name": "ProgressStyleModel",
      "state": {
       "_model_module": "@jupyter-widgets/controls",
       "_model_module_version": "2.0.0",
       "_model_name": "ProgressStyleModel",
       "_view_count": null,
       "_view_module": "@jupyter-widgets/base",
       "_view_module_version": "2.0.0",
       "_view_name": "StyleView",
       "bar_color": null,
       "description_width": ""
      }
     },
     "2bff75fdf20f49e99db95cebff295acc": {
      "model_module": "@jupyter-widgets/controls",
      "model_module_version": "2.0.0",
      "model_name": "HBoxModel",
      "state": {
       "_dom_classes": [],
       "_model_module": "@jupyter-widgets/controls",
       "_model_module_version": "2.0.0",
       "_model_name": "HBoxModel",
       "_view_count": null,
       "_view_module": "@jupyter-widgets/controls",
       "_view_module_version": "2.0.0",
       "_view_name": "HBoxView",
       "box_style": "",
       "children": [
        "IPY_MODEL_a2485304baa9495abee265ac71754161",
        "IPY_MODEL_44f7792b274944cca4506288ac572d23",
        "IPY_MODEL_121e184dc815415c97548cbef392e94a"
       ],
       "layout": "IPY_MODEL_82d46d9b55f944d082f2b629771e3870",
       "tabbable": null,
       "tooltip": null
      }
     },
     "314a4d50eca0411091636fdb1f642750": {
      "model_module": "@jupyter-widgets/base",
      "model_module_version": "2.0.0",
      "model_name": "LayoutModel",
      "state": {
       "_model_module": "@jupyter-widgets/base",
       "_model_module_version": "2.0.0",
       "_model_name": "LayoutModel",
       "_view_count": null,
       "_view_module": "@jupyter-widgets/base",
       "_view_module_version": "2.0.0",
       "_view_name": "LayoutView",
       "align_content": null,
       "align_items": null,
       "align_self": null,
       "border_bottom": null,
       "border_left": null,
       "border_right": null,
       "border_top": null,
       "bottom": null,
       "display": null,
       "flex": null,
       "flex_flow": null,
       "grid_area": null,
       "grid_auto_columns": null,
       "grid_auto_flow": null,
       "grid_auto_rows": null,
       "grid_column": null,
       "grid_gap": null,
       "grid_row": null,
       "grid_template_areas": null,
       "grid_template_columns": null,
       "grid_template_rows": null,
       "height": null,
       "justify_content": null,
       "justify_items": null,
       "left": null,
       "margin": null,
       "max_height": null,
       "max_width": null,
       "min_height": null,
       "min_width": null,
       "object_fit": null,
       "object_position": null,
       "order": null,
       "overflow": null,
       "padding": null,
       "right": null,
       "top": null,
       "visibility": null,
       "width": null
      }
     },
     "3367a5af9c0149e09f39dd7fdefe631f": {
      "model_module": "@jupyter-widgets/base",
      "model_module_version": "2.0.0",
      "model_name": "LayoutModel",
      "state": {
       "_model_module": "@jupyter-widgets/base",
       "_model_module_version": "2.0.0",
       "_model_name": "LayoutModel",
       "_view_count": null,
       "_view_module": "@jupyter-widgets/base",
       "_view_module_version": "2.0.0",
       "_view_name": "LayoutView",
       "align_content": null,
       "align_items": null,
       "align_self": null,
       "border_bottom": null,
       "border_left": null,
       "border_right": null,
       "border_top": null,
       "bottom": null,
       "display": null,
       "flex": null,
       "flex_flow": null,
       "grid_area": null,
       "grid_auto_columns": null,
       "grid_auto_flow": null,
       "grid_auto_rows": null,
       "grid_column": null,
       "grid_gap": null,
       "grid_row": null,
       "grid_template_areas": null,
       "grid_template_columns": null,
       "grid_template_rows": null,
       "height": null,
       "justify_content": null,
       "justify_items": null,
       "left": null,
       "margin": null,
       "max_height": null,
       "max_width": null,
       "min_height": null,
       "min_width": null,
       "object_fit": null,
       "object_position": null,
       "order": null,
       "overflow": null,
       "padding": null,
       "right": null,
       "top": null,
       "visibility": null,
       "width": null
      }
     },
     "3cffa1765d8e4b43854e398f2edf7963": {
      "model_module": "@jupyter-widgets/base",
      "model_module_version": "2.0.0",
      "model_name": "LayoutModel",
      "state": {
       "_model_module": "@jupyter-widgets/base",
       "_model_module_version": "2.0.0",
       "_model_name": "LayoutModel",
       "_view_count": null,
       "_view_module": "@jupyter-widgets/base",
       "_view_module_version": "2.0.0",
       "_view_name": "LayoutView",
       "align_content": null,
       "align_items": null,
       "align_self": null,
       "border_bottom": null,
       "border_left": null,
       "border_right": null,
       "border_top": null,
       "bottom": null,
       "display": null,
       "flex": null,
       "flex_flow": null,
       "grid_area": null,
       "grid_auto_columns": null,
       "grid_auto_flow": null,
       "grid_auto_rows": null,
       "grid_column": null,
       "grid_gap": null,
       "grid_row": null,
       "grid_template_areas": null,
       "grid_template_columns": null,
       "grid_template_rows": null,
       "height": null,
       "justify_content": null,
       "justify_items": null,
       "left": null,
       "margin": null,
       "max_height": null,
       "max_width": null,
       "min_height": null,
       "min_width": null,
       "object_fit": null,
       "object_position": null,
       "order": null,
       "overflow": null,
       "padding": null,
       "right": null,
       "top": null,
       "visibility": null,
       "width": null
      }
     },
     "4117e6228f544562baff8273a1e6bfdc": {
      "model_module": "@jupyter-widgets/controls",
      "model_module_version": "2.0.0",
      "model_name": "HTMLModel",
      "state": {
       "_dom_classes": [],
       "_model_module": "@jupyter-widgets/controls",
       "_model_module_version": "2.0.0",
       "_model_name": "HTMLModel",
       "_view_count": null,
       "_view_module": "@jupyter-widgets/controls",
       "_view_module_version": "2.0.0",
       "_view_name": "HTMLView",
       "description": "",
       "description_allow_html": false,
       "layout": "IPY_MODEL_41fd948d84b945a4b67815b9d1288742",
       "placeholder": "​",
       "style": "IPY_MODEL_0753157018374e2db4391807a12a33fa",
       "tabbable": null,
       "tooltip": null,
       "value": " 466k/466k [00:00&lt;00:00, 13.1MB/s]"
      }
     },
     "41fd948d84b945a4b67815b9d1288742": {
      "model_module": "@jupyter-widgets/base",
      "model_module_version": "2.0.0",
      "model_name": "LayoutModel",
      "state": {
       "_model_module": "@jupyter-widgets/base",
       "_model_module_version": "2.0.0",
       "_model_name": "LayoutModel",
       "_view_count": null,
       "_view_module": "@jupyter-widgets/base",
       "_view_module_version": "2.0.0",
       "_view_name": "LayoutView",
       "align_content": null,
       "align_items": null,
       "align_self": null,
       "border_bottom": null,
       "border_left": null,
       "border_right": null,
       "border_top": null,
       "bottom": null,
       "display": null,
       "flex": null,
       "flex_flow": null,
       "grid_area": null,
       "grid_auto_columns": null,
       "grid_auto_flow": null,
       "grid_auto_rows": null,
       "grid_column": null,
       "grid_gap": null,
       "grid_row": null,
       "grid_template_areas": null,
       "grid_template_columns": null,
       "grid_template_rows": null,
       "height": null,
       "justify_content": null,
       "justify_items": null,
       "left": null,
       "margin": null,
       "max_height": null,
       "max_width": null,
       "min_height": null,
       "min_width": null,
       "object_fit": null,
       "object_position": null,
       "order": null,
       "overflow": null,
       "padding": null,
       "right": null,
       "top": null,
       "visibility": null,
       "width": null
      }
     },
     "44f7792b274944cca4506288ac572d23": {
      "model_module": "@jupyter-widgets/controls",
      "model_module_version": "2.0.0",
      "model_name": "FloatProgressModel",
      "state": {
       "_dom_classes": [],
       "_model_module": "@jupyter-widgets/controls",
       "_model_module_version": "2.0.0",
       "_model_name": "FloatProgressModel",
       "_view_count": null,
       "_view_module": "@jupyter-widgets/controls",
       "_view_module_version": "2.0.0",
       "_view_name": "ProgressView",
       "bar_style": "success",
       "description": "",
       "description_allow_html": false,
       "layout": "IPY_MODEL_e5e7f2628c364d5daf909948700eb504",
       "max": 440449768.0,
       "min": 0.0,
       "orientation": "horizontal",
       "style": "IPY_MODEL_1fd9682c09334e379f1bd28e5eccd5be",
       "tabbable": null,
       "tooltip": null,
       "value": 440449768.0
      }
     },
     "4aef33a8446d46008d87a771a3d05dd1": {
      "model_module": "@jupyter-widgets/controls",
      "model_module_version": "2.0.0",
      "model_name": "HTMLStyleModel",
      "state": {
       "_model_module": "@jupyter-widgets/controls",
       "_model_module_version": "2.0.0",
       "_model_name": "HTMLStyleModel",
       "_view_count": null,
       "_view_module": "@jupyter-widgets/base",
       "_view_module_version": "2.0.0",
       "_view_name": "StyleView",
       "background": null,
       "description_width": "",
       "font_size": null,
       "text_color": null
      }
     },
     "55aa3adb9d484e94ac07b7520e48eff9": {
      "model_module": "@jupyter-widgets/controls",
      "model_module_version": "2.0.0",
      "model_name": "FloatProgressModel",
      "state": {
       "_dom_classes": [],
       "_model_module": "@jupyter-widgets/controls",
       "_model_module_version": "2.0.0",
       "_model_name": "FloatProgressModel",
       "_view_count": null,
       "_view_module": "@jupyter-widgets/controls",
       "_view_module_version": "2.0.0",
       "_view_name": "ProgressView",
       "bar_style": "success",
       "description": "",
       "description_allow_html": false,
       "layout": "IPY_MODEL_1eb457686bed4d1f8a166c0ac67288fd",
       "max": 48.0,
       "min": 0.0,
       "orientation": "horizontal",
       "style": "IPY_MODEL_a20cf64e1ae148f1ac5d68e05b1bbb64",
       "tabbable": null,
       "tooltip": null,
       "value": 48.0
      }
     },
     "5ea025d9561740e3bd7e38ac467c1ab4": {
      "model_module": "@jupyter-widgets/controls",
      "model_module_version": "2.0.0",
      "model_name": "HTMLStyleModel",
      "state": {
       "_model_module": "@jupyter-widgets/controls",
       "_model_module_version": "2.0.0",
       "_model_name": "HTMLStyleModel",
       "_view_count": null,
       "_view_module": "@jupyter-widgets/base",
       "_view_module_version": "2.0.0",
       "_view_name": "StyleView",
       "background": null,
       "description_width": "",
       "font_size": null,
       "text_color": null
      }
     },
     "5f1305294e3b4de1bdc2df175d7183cd": {
      "model_module": "@jupyter-widgets/controls",
      "model_module_version": "2.0.0",
      "model_name": "HTMLStyleModel",
      "state": {
       "_model_module": "@jupyter-widgets/controls",
       "_model_module_version": "2.0.0",
       "_model_name": "HTMLStyleModel",
       "_view_count": null,
       "_view_module": "@jupyter-widgets/base",
       "_view_module_version": "2.0.0",
       "_view_name": "StyleView",
       "background": null,
       "description_width": "",
       "font_size": null,
       "text_color": null
      }
     },
     "5f4751e7ea894482a256aa0ee40aea47": {
      "model_module": "@jupyter-widgets/base",
      "model_module_version": "2.0.0",
      "model_name": "LayoutModel",
      "state": {
       "_model_module": "@jupyter-widgets/base",
       "_model_module_version": "2.0.0",
       "_model_name": "LayoutModel",
       "_view_count": null,
       "_view_module": "@jupyter-widgets/base",
       "_view_module_version": "2.0.0",
       "_view_name": "LayoutView",
       "align_content": null,
       "align_items": null,
       "align_self": null,
       "border_bottom": null,
       "border_left": null,
       "border_right": null,
       "border_top": null,
       "bottom": null,
       "display": null,
       "flex": null,
       "flex_flow": null,
       "grid_area": null,
       "grid_auto_columns": null,
       "grid_auto_flow": null,
       "grid_auto_rows": null,
       "grid_column": null,
       "grid_gap": null,
       "grid_row": null,
       "grid_template_areas": null,
       "grid_template_columns": null,
       "grid_template_rows": null,
       "height": null,
       "justify_content": null,
       "justify_items": null,
       "left": null,
       "margin": null,
       "max_height": null,
       "max_width": null,
       "min_height": null,
       "min_width": null,
       "object_fit": null,
       "object_position": null,
       "order": null,
       "overflow": null,
       "padding": null,
       "right": null,
       "top": null,
       "visibility": null,
       "width": null
      }
     },
     "635cec3f42314c0f9c3e6c9226bddf1d": {
      "model_module": "@jupyter-widgets/base",
      "model_module_version": "2.0.0",
      "model_name": "LayoutModel",
      "state": {
       "_model_module": "@jupyter-widgets/base",
       "_model_module_version": "2.0.0",
       "_model_name": "LayoutModel",
       "_view_count": null,
       "_view_module": "@jupyter-widgets/base",
       "_view_module_version": "2.0.0",
       "_view_name": "LayoutView",
       "align_content": null,
       "align_items": null,
       "align_self": null,
       "border_bottom": null,
       "border_left": null,
       "border_right": null,
       "border_top": null,
       "bottom": null,
       "display": null,
       "flex": null,
       "flex_flow": null,
       "grid_area": null,
       "grid_auto_columns": null,
       "grid_auto_flow": null,
       "grid_auto_rows": null,
       "grid_column": null,
       "grid_gap": null,
       "grid_row": null,
       "grid_template_areas": null,
       "grid_template_columns": null,
       "grid_template_rows": null,
       "height": null,
       "justify_content": null,
       "justify_items": null,
       "left": null,
       "margin": null,
       "max_height": null,
       "max_width": null,
       "min_height": null,
       "min_width": null,
       "object_fit": null,
       "object_position": null,
       "order": null,
       "overflow": null,
       "padding": null,
       "right": null,
       "top": null,
       "visibility": null,
       "width": null
      }
     },
     "6e1c2f94df104236a304d264bc471ade": {
      "model_module": "@jupyter-widgets/controls",
      "model_module_version": "2.0.0",
      "model_name": "HBoxModel",
      "state": {
       "_dom_classes": [],
       "_model_module": "@jupyter-widgets/controls",
       "_model_module_version": "2.0.0",
       "_model_name": "HBoxModel",
       "_view_count": null,
       "_view_module": "@jupyter-widgets/controls",
       "_view_module_version": "2.0.0",
       "_view_name": "HBoxView",
       "box_style": "",
       "children": [
        "IPY_MODEL_c40e08cd5d134e7e9813263087c36490",
        "IPY_MODEL_05c321ff2e014e27a0c8c2c113119f86",
        "IPY_MODEL_f4d7a10dc73b4dbc9eeb63de68698c51"
       ],
       "layout": "IPY_MODEL_3cffa1765d8e4b43854e398f2edf7963",
       "tabbable": null,
       "tooltip": null
      }
     },
     "7128d8bd727b4ad082190114130d9c47": {
      "model_module": "@jupyter-widgets/controls",
      "model_module_version": "2.0.0",
      "model_name": "HTMLStyleModel",
      "state": {
       "_model_module": "@jupyter-widgets/controls",
       "_model_module_version": "2.0.0",
       "_model_name": "HTMLStyleModel",
       "_view_count": null,
       "_view_module": "@jupyter-widgets/base",
       "_view_module_version": "2.0.0",
       "_view_name": "StyleView",
       "background": null,
       "description_width": "",
       "font_size": null,
       "text_color": null
      }
     },
     "7d145ce417304fe283d6064d1d9c4e10": {
      "model_module": "@jupyter-widgets/base",
      "model_module_version": "2.0.0",
      "model_name": "LayoutModel",
      "state": {
       "_model_module": "@jupyter-widgets/base",
       "_model_module_version": "2.0.0",
       "_model_name": "LayoutModel",
       "_view_count": null,
       "_view_module": "@jupyter-widgets/base",
       "_view_module_version": "2.0.0",
       "_view_name": "LayoutView",
       "align_content": null,
       "align_items": null,
       "align_self": null,
       "border_bottom": null,
       "border_left": null,
       "border_right": null,
       "border_top": null,
       "bottom": null,
       "display": null,
       "flex": null,
       "flex_flow": null,
       "grid_area": null,
       "grid_auto_columns": null,
       "grid_auto_flow": null,
       "grid_auto_rows": null,
       "grid_column": null,
       "grid_gap": null,
       "grid_row": null,
       "grid_template_areas": null,
       "grid_template_columns": null,
       "grid_template_rows": null,
       "height": null,
       "justify_content": null,
       "justify_items": null,
       "left": null,
       "margin": null,
       "max_height": null,
       "max_width": null,
       "min_height": null,
       "min_width": null,
       "object_fit": null,
       "object_position": null,
       "order": null,
       "overflow": null,
       "padding": null,
       "right": null,
       "top": null,
       "visibility": null,
       "width": null
      }
     },
     "7e30be836aa742428a64b0d21eecd7f7": {
      "model_module": "@jupyter-widgets/controls",
      "model_module_version": "2.0.0",
      "model_name": "HTMLModel",
      "state": {
       "_dom_classes": [],
       "_model_module": "@jupyter-widgets/controls",
       "_model_module_version": "2.0.0",
       "_model_name": "HTMLModel",
       "_view_count": null,
       "_view_module": "@jupyter-widgets/controls",
       "_view_module_version": "2.0.0",
       "_view_name": "HTMLView",
       "description": "",
       "description_allow_html": false,
       "layout": "IPY_MODEL_f62c7b36c67f428d9ad750b325c2662d",
       "placeholder": "​",
       "style": "IPY_MODEL_f9336044a1194c0c9f6e8248a3f470ac",
       "tabbable": null,
       "tooltip": null,
       "value": "tokenizer.json: 100%"
      }
     },
     "82d46d9b55f944d082f2b629771e3870": {
      "model_module": "@jupyter-widgets/base",
      "model_module_version": "2.0.0",
      "model_name": "LayoutModel",
      "state": {
       "_model_module": "@jupyter-widgets/base",
       "_model_module_version": "2.0.0",
       "_model_name": "LayoutModel",
       "_view_count": null,
       "_view_module": "@jupyter-widgets/base",
       "_view_module_version": "2.0.0",
       "_view_name": "LayoutView",
       "align_content": null,
       "align_items": null,
       "align_self": null,
       "border_bottom": null,
       "border_left": null,
       "border_right": null,
       "border_top": null,
       "bottom": null,
       "display": null,
       "flex": null,
       "flex_flow": null,
       "grid_area": null,
       "grid_auto_columns": null,
       "grid_auto_flow": null,
       "grid_auto_rows": null,
       "grid_column": null,
       "grid_gap": null,
       "grid_row": null,
       "grid_template_areas": null,
       "grid_template_columns": null,
       "grid_template_rows": null,
       "height": null,
       "justify_content": null,
       "justify_items": null,
       "left": null,
       "margin": null,
       "max_height": null,
       "max_width": null,
       "min_height": null,
       "min_width": null,
       "object_fit": null,
       "object_position": null,
       "order": null,
       "overflow": null,
       "padding": null,
       "right": null,
       "top": null,
       "visibility": null,
       "width": null
      }
     },
     "866eeb4069f84f58a66b102b8b8890b5": {
      "model_module": "@jupyter-widgets/controls",
      "model_module_version": "2.0.0",
      "model_name": "HTMLStyleModel",
      "state": {
       "_model_module": "@jupyter-widgets/controls",
       "_model_module_version": "2.0.0",
       "_model_name": "HTMLStyleModel",
       "_view_count": null,
       "_view_module": "@jupyter-widgets/base",
       "_view_module_version": "2.0.0",
       "_view_name": "StyleView",
       "background": null,
       "description_width": "",
       "font_size": null,
       "text_color": null
      }
     },
     "873c149f1f05421c9d070780f6811fa3": {
      "model_module": "@jupyter-widgets/controls",
      "model_module_version": "2.0.0",
      "model_name": "HBoxModel",
      "state": {
       "_dom_classes": [],
       "_model_module": "@jupyter-widgets/controls",
       "_model_module_version": "2.0.0",
       "_model_name": "HBoxModel",
       "_view_count": null,
       "_view_module": "@jupyter-widgets/controls",
       "_view_module_version": "2.0.0",
       "_view_name": "HBoxView",
       "box_style": "",
       "children": [
        "IPY_MODEL_acf73c3a193f4f9aa89c8cb34fd6481a",
        "IPY_MODEL_55aa3adb9d484e94ac07b7520e48eff9",
        "IPY_MODEL_9e69895bd0d44bbd9b419782598bea81"
       ],
       "layout": "IPY_MODEL_3367a5af9c0149e09f39dd7fdefe631f",
       "tabbable": null,
       "tooltip": null
      }
     },
     "97091e50e3424f279fd4ca2f6b3bd952": {
      "model_module": "@jupyter-widgets/base",
      "model_module_version": "2.0.0",
      "model_name": "LayoutModel",
      "state": {
       "_model_module": "@jupyter-widgets/base",
       "_model_module_version": "2.0.0",
       "_model_name": "LayoutModel",
       "_view_count": null,
       "_view_module": "@jupyter-widgets/base",
       "_view_module_version": "2.0.0",
       "_view_name": "LayoutView",
       "align_content": null,
       "align_items": null,
       "align_self": null,
       "border_bottom": null,
       "border_left": null,
       "border_right": null,
       "border_top": null,
       "bottom": null,
       "display": null,
       "flex": null,
       "flex_flow": null,
       "grid_area": null,
       "grid_auto_columns": null,
       "grid_auto_flow": null,
       "grid_auto_rows": null,
       "grid_column": null,
       "grid_gap": null,
       "grid_row": null,
       "grid_template_areas": null,
       "grid_template_columns": null,
       "grid_template_rows": null,
       "height": null,
       "justify_content": null,
       "justify_items": null,
       "left": null,
       "margin": null,
       "max_height": null,
       "max_width": null,
       "min_height": null,
       "min_width": null,
       "object_fit": null,
       "object_position": null,
       "order": null,
       "overflow": null,
       "padding": null,
       "right": null,
       "top": null,
       "visibility": null,
       "width": null
      }
     },
     "9a92be1b58f941a984e252db75e22591": {
      "model_module": "@jupyter-widgets/controls",
      "model_module_version": "2.0.0",
      "model_name": "HBoxModel",
      "state": {
       "_dom_classes": [],
       "_model_module": "@jupyter-widgets/controls",
       "_model_module_version": "2.0.0",
       "_model_name": "HBoxModel",
       "_view_count": null,
       "_view_module": "@jupyter-widgets/controls",
       "_view_module_version": "2.0.0",
       "_view_name": "HBoxView",
       "box_style": "",
       "children": [
        "IPY_MODEL_7e30be836aa742428a64b0d21eecd7f7",
        "IPY_MODEL_f0746b975b6b4f6999f6ee9d2b4146db",
        "IPY_MODEL_4117e6228f544562baff8273a1e6bfdc"
       ],
       "layout": "IPY_MODEL_314a4d50eca0411091636fdb1f642750",
       "tabbable": null,
       "tooltip": null
      }
     },
     "9e69895bd0d44bbd9b419782598bea81": {
      "model_module": "@jupyter-widgets/controls",
      "model_module_version": "2.0.0",
      "model_name": "HTMLModel",
      "state": {
       "_dom_classes": [],
       "_model_module": "@jupyter-widgets/controls",
       "_model_module_version": "2.0.0",
       "_model_name": "HTMLModel",
       "_view_count": null,
       "_view_module": "@jupyter-widgets/controls",
       "_view_module_version": "2.0.0",
       "_view_name": "HTMLView",
       "description": "",
       "description_allow_html": false,
       "layout": "IPY_MODEL_0cbf4f9e12fb434da0ed335bec34957c",
       "placeholder": "​",
       "style": "IPY_MODEL_866eeb4069f84f58a66b102b8b8890b5",
       "tabbable": null,
       "tooltip": null,
       "value": " 48.0/48.0 [00:00&lt;00:00, 5.40kB/s]"
      }
     },
     "a166ad4516984e628bcf115c8b865471": {
      "model_module": "@jupyter-widgets/controls",
      "model_module_version": "2.0.0",
      "model_name": "ProgressStyleModel",
      "state": {
       "_model_module": "@jupyter-widgets/controls",
       "_model_module_version": "2.0.0",
       "_model_name": "ProgressStyleModel",
       "_view_count": null,
       "_view_module": "@jupyter-widgets/base",
       "_view_module_version": "2.0.0",
       "_view_name": "StyleView",
       "bar_color": null,
       "description_width": ""
      }
     },
     "a20cf64e1ae148f1ac5d68e05b1bbb64": {
      "model_module": "@jupyter-widgets/controls",
      "model_module_version": "2.0.0",
      "model_name": "ProgressStyleModel",
      "state": {
       "_model_module": "@jupyter-widgets/controls",
       "_model_module_version": "2.0.0",
       "_model_name": "ProgressStyleModel",
       "_view_count": null,
       "_view_module": "@jupyter-widgets/base",
       "_view_module_version": "2.0.0",
       "_view_name": "StyleView",
       "bar_color": null,
       "description_width": ""
      }
     },
     "a2485304baa9495abee265ac71754161": {
      "model_module": "@jupyter-widgets/controls",
      "model_module_version": "2.0.0",
      "model_name": "HTMLModel",
      "state": {
       "_dom_classes": [],
       "_model_module": "@jupyter-widgets/controls",
       "_model_module_version": "2.0.0",
       "_model_name": "HTMLModel",
       "_view_count": null,
       "_view_module": "@jupyter-widgets/controls",
       "_view_module_version": "2.0.0",
       "_view_name": "HTMLView",
       "description": "",
       "description_allow_html": false,
       "layout": "IPY_MODEL_02f78adb2ef845669b39504ac501578e",
       "placeholder": "​",
       "style": "IPY_MODEL_5ea025d9561740e3bd7e38ac467c1ab4",
       "tabbable": null,
       "tooltip": null,
       "value": "model.safetensors: 100%"
      }
     },
     "acf73c3a193f4f9aa89c8cb34fd6481a": {
      "model_module": "@jupyter-widgets/controls",
      "model_module_version": "2.0.0",
      "model_name": "HTMLModel",
      "state": {
       "_dom_classes": [],
       "_model_module": "@jupyter-widgets/controls",
       "_model_module_version": "2.0.0",
       "_model_name": "HTMLModel",
       "_view_count": null,
       "_view_module": "@jupyter-widgets/controls",
       "_view_module_version": "2.0.0",
       "_view_name": "HTMLView",
       "description": "",
       "description_allow_html": false,
       "layout": "IPY_MODEL_2340e052b27247339fc01765458b5b97",
       "placeholder": "​",
       "style": "IPY_MODEL_e174beb470474d22a1664e7d4fd856c1",
       "tabbable": null,
       "tooltip": null,
       "value": "tokenizer_config.json: 100%"
      }
     },
     "ada3df20946f403da863dedabac6186d": {
      "model_module": "@jupyter-widgets/controls",
      "model_module_version": "2.0.0",
      "model_name": "HTMLModel",
      "state": {
       "_dom_classes": [],
       "_model_module": "@jupyter-widgets/controls",
       "_model_module_version": "2.0.0",
       "_model_name": "HTMLModel",
       "_view_count": null,
       "_view_module": "@jupyter-widgets/controls",
       "_view_module_version": "2.0.0",
       "_view_name": "HTMLView",
       "description": "",
       "description_allow_html": false,
       "layout": "IPY_MODEL_02f7b67b152d462496c23dbf240cecdc",
       "placeholder": "​",
       "style": "IPY_MODEL_7128d8bd727b4ad082190114130d9c47",
       "tabbable": null,
       "tooltip": null,
       "value": "config.json: 100%"
      }
     },
     "b40cbc05218c41bab154e43674c29334": {
      "model_module": "@jupyter-widgets/base",
      "model_module_version": "2.0.0",
      "model_name": "LayoutModel",
      "state": {
       "_model_module": "@jupyter-widgets/base",
       "_model_module_version": "2.0.0",
       "_model_name": "LayoutModel",
       "_view_count": null,
       "_view_module": "@jupyter-widgets/base",
       "_view_module_version": "2.0.0",
       "_view_name": "LayoutView",
       "align_content": null,
       "align_items": null,
       "align_self": null,
       "border_bottom": null,
       "border_left": null,
       "border_right": null,
       "border_top": null,
       "bottom": null,
       "display": null,
       "flex": null,
       "flex_flow": null,
       "grid_area": null,
       "grid_auto_columns": null,
       "grid_auto_flow": null,
       "grid_auto_rows": null,
       "grid_column": null,
       "grid_gap": null,
       "grid_row": null,
       "grid_template_areas": null,
       "grid_template_columns": null,
       "grid_template_rows": null,
       "height": null,
       "justify_content": null,
       "justify_items": null,
       "left": null,
       "margin": null,
       "max_height": null,
       "max_width": null,
       "min_height": null,
       "min_width": null,
       "object_fit": null,
       "object_position": null,
       "order": null,
       "overflow": null,
       "padding": null,
       "right": null,
       "top": null,
       "visibility": null,
       "width": null
      }
     },
     "c40e08cd5d134e7e9813263087c36490": {
      "model_module": "@jupyter-widgets/controls",
      "model_module_version": "2.0.0",
      "model_name": "HTMLModel",
      "state": {
       "_dom_classes": [],
       "_model_module": "@jupyter-widgets/controls",
       "_model_module_version": "2.0.0",
       "_model_name": "HTMLModel",
       "_view_count": null,
       "_view_module": "@jupyter-widgets/controls",
       "_view_module_version": "2.0.0",
       "_view_name": "HTMLView",
       "description": "",
       "description_allow_html": false,
       "layout": "IPY_MODEL_dc42d812e9a04fb6b618e891a90c84ce",
       "placeholder": "​",
       "style": "IPY_MODEL_1093fcc8c57f4a1b9d616821e9ccbd15",
       "tabbable": null,
       "tooltip": null,
       "value": "vocab.txt: 100%"
      }
     },
     "c9ba87ba0e7246ecb47f9f2a40dc3d5f": {
      "model_module": "@jupyter-widgets/controls",
      "model_module_version": "2.0.0",
      "model_name": "HBoxModel",
      "state": {
       "_dom_classes": [],
       "_model_module": "@jupyter-widgets/controls",
       "_model_module_version": "2.0.0",
       "_model_name": "HBoxModel",
       "_view_count": null,
       "_view_module": "@jupyter-widgets/controls",
       "_view_module_version": "2.0.0",
       "_view_name": "HBoxView",
       "box_style": "",
       "children": [
        "IPY_MODEL_ada3df20946f403da863dedabac6186d",
        "IPY_MODEL_f6039327364c43dea13cc73b7be996c0",
        "IPY_MODEL_d8579925566d4baaae35cde13f6d355e"
       ],
       "layout": "IPY_MODEL_97091e50e3424f279fd4ca2f6b3bd952",
       "tabbable": null,
       "tooltip": null
      }
     },
     "d8579925566d4baaae35cde13f6d355e": {
      "model_module": "@jupyter-widgets/controls",
      "model_module_version": "2.0.0",
      "model_name": "HTMLModel",
      "state": {
       "_dom_classes": [],
       "_model_module": "@jupyter-widgets/controls",
       "_model_module_version": "2.0.0",
       "_model_name": "HTMLModel",
       "_view_count": null,
       "_view_module": "@jupyter-widgets/controls",
       "_view_module_version": "2.0.0",
       "_view_name": "HTMLView",
       "description": "",
       "description_allow_html": false,
       "layout": "IPY_MODEL_7d145ce417304fe283d6064d1d9c4e10",
       "placeholder": "​",
       "style": "IPY_MODEL_4aef33a8446d46008d87a771a3d05dd1",
       "tabbable": null,
       "tooltip": null,
       "value": " 570/570 [00:00&lt;00:00, 77.8kB/s]"
      }
     },
     "dc42d812e9a04fb6b618e891a90c84ce": {
      "model_module": "@jupyter-widgets/base",
      "model_module_version": "2.0.0",
      "model_name": "LayoutModel",
      "state": {
       "_model_module": "@jupyter-widgets/base",
       "_model_module_version": "2.0.0",
       "_model_name": "LayoutModel",
       "_view_count": null,
       "_view_module": "@jupyter-widgets/base",
       "_view_module_version": "2.0.0",
       "_view_name": "LayoutView",
       "align_content": null,
       "align_items": null,
       "align_self": null,
       "border_bottom": null,
       "border_left": null,
       "border_right": null,
       "border_top": null,
       "bottom": null,
       "display": null,
       "flex": null,
       "flex_flow": null,
       "grid_area": null,
       "grid_auto_columns": null,
       "grid_auto_flow": null,
       "grid_auto_rows": null,
       "grid_column": null,
       "grid_gap": null,
       "grid_row": null,
       "grid_template_areas": null,
       "grid_template_columns": null,
       "grid_template_rows": null,
       "height": null,
       "justify_content": null,
       "justify_items": null,
       "left": null,
       "margin": null,
       "max_height": null,
       "max_width": null,
       "min_height": null,
       "min_width": null,
       "object_fit": null,
       "object_position": null,
       "order": null,
       "overflow": null,
       "padding": null,
       "right": null,
       "top": null,
       "visibility": null,
       "width": null
      }
     },
     "e174beb470474d22a1664e7d4fd856c1": {
      "model_module": "@jupyter-widgets/controls",
      "model_module_version": "2.0.0",
      "model_name": "HTMLStyleModel",
      "state": {
       "_model_module": "@jupyter-widgets/controls",
       "_model_module_version": "2.0.0",
       "_model_name": "HTMLStyleModel",
       "_view_count": null,
       "_view_module": "@jupyter-widgets/base",
       "_view_module_version": "2.0.0",
       "_view_name": "StyleView",
       "background": null,
       "description_width": "",
       "font_size": null,
       "text_color": null
      }
     },
     "e5e7f2628c364d5daf909948700eb504": {
      "model_module": "@jupyter-widgets/base",
      "model_module_version": "2.0.0",
      "model_name": "LayoutModel",
      "state": {
       "_model_module": "@jupyter-widgets/base",
       "_model_module_version": "2.0.0",
       "_model_name": "LayoutModel",
       "_view_count": null,
       "_view_module": "@jupyter-widgets/base",
       "_view_module_version": "2.0.0",
       "_view_name": "LayoutView",
       "align_content": null,
       "align_items": null,
       "align_self": null,
       "border_bottom": null,
       "border_left": null,
       "border_right": null,
       "border_top": null,
       "bottom": null,
       "display": null,
       "flex": null,
       "flex_flow": null,
       "grid_area": null,
       "grid_auto_columns": null,
       "grid_auto_flow": null,
       "grid_auto_rows": null,
       "grid_column": null,
       "grid_gap": null,
       "grid_row": null,
       "grid_template_areas": null,
       "grid_template_columns": null,
       "grid_template_rows": null,
       "height": null,
       "justify_content": null,
       "justify_items": null,
       "left": null,
       "margin": null,
       "max_height": null,
       "max_width": null,
       "min_height": null,
       "min_width": null,
       "object_fit": null,
       "object_position": null,
       "order": null,
       "overflow": null,
       "padding": null,
       "right": null,
       "top": null,
       "visibility": null,
       "width": null
      }
     },
     "f0746b975b6b4f6999f6ee9d2b4146db": {
      "model_module": "@jupyter-widgets/controls",
      "model_module_version": "2.0.0",
      "model_name": "FloatProgressModel",
      "state": {
       "_dom_classes": [],
       "_model_module": "@jupyter-widgets/controls",
       "_model_module_version": "2.0.0",
       "_model_name": "FloatProgressModel",
       "_view_count": null,
       "_view_module": "@jupyter-widgets/controls",
       "_view_module_version": "2.0.0",
       "_view_name": "ProgressView",
       "bar_style": "success",
       "description": "",
       "description_allow_html": false,
       "layout": "IPY_MODEL_11b28dd987664aa1833467c69f308193",
       "max": 466062.0,
       "min": 0.0,
       "orientation": "horizontal",
       "style": "IPY_MODEL_27c4297d846046aaa193b398c047e794",
       "tabbable": null,
       "tooltip": null,
       "value": 466062.0
      }
     },
     "f4d7a10dc73b4dbc9eeb63de68698c51": {
      "model_module": "@jupyter-widgets/controls",
      "model_module_version": "2.0.0",
      "model_name": "HTMLModel",
      "state": {
       "_dom_classes": [],
       "_model_module": "@jupyter-widgets/controls",
       "_model_module_version": "2.0.0",
       "_model_name": "HTMLModel",
       "_view_count": null,
       "_view_module": "@jupyter-widgets/controls",
       "_view_module_version": "2.0.0",
       "_view_name": "HTMLView",
       "description": "",
       "description_allow_html": false,
       "layout": "IPY_MODEL_5f4751e7ea894482a256aa0ee40aea47",
       "placeholder": "​",
       "style": "IPY_MODEL_f551e82b0d894c7da7fcf0d0bf8f57e3",
       "tabbable": null,
       "tooltip": null,
       "value": " 232k/232k [00:00&lt;00:00, 6.86MB/s]"
      }
     },
     "f551e82b0d894c7da7fcf0d0bf8f57e3": {
      "model_module": "@jupyter-widgets/controls",
      "model_module_version": "2.0.0",
      "model_name": "HTMLStyleModel",
      "state": {
       "_model_module": "@jupyter-widgets/controls",
       "_model_module_version": "2.0.0",
       "_model_name": "HTMLStyleModel",
       "_view_count": null,
       "_view_module": "@jupyter-widgets/base",
       "_view_module_version": "2.0.0",
       "_view_name": "StyleView",
       "background": null,
       "description_width": "",
       "font_size": null,
       "text_color": null
      }
     },
     "f6039327364c43dea13cc73b7be996c0": {
      "model_module": "@jupyter-widgets/controls",
      "model_module_version": "2.0.0",
      "model_name": "FloatProgressModel",
      "state": {
       "_dom_classes": [],
       "_model_module": "@jupyter-widgets/controls",
       "_model_module_version": "2.0.0",
       "_model_name": "FloatProgressModel",
       "_view_count": null,
       "_view_module": "@jupyter-widgets/controls",
       "_view_module_version": "2.0.0",
       "_view_name": "ProgressView",
       "bar_style": "success",
       "description": "",
       "description_allow_html": false,
       "layout": "IPY_MODEL_24238c49eb344fdb80250e65b661be3c",
       "max": 570.0,
       "min": 0.0,
       "orientation": "horizontal",
       "style": "IPY_MODEL_a166ad4516984e628bcf115c8b865471",
       "tabbable": null,
       "tooltip": null,
       "value": 570.0
      }
     },
     "f62c7b36c67f428d9ad750b325c2662d": {
      "model_module": "@jupyter-widgets/base",
      "model_module_version": "2.0.0",
      "model_name": "LayoutModel",
      "state": {
       "_model_module": "@jupyter-widgets/base",
       "_model_module_version": "2.0.0",
       "_model_name": "LayoutModel",
       "_view_count": null,
       "_view_module": "@jupyter-widgets/base",
       "_view_module_version": "2.0.0",
       "_view_name": "LayoutView",
       "align_content": null,
       "align_items": null,
       "align_self": null,
       "border_bottom": null,
       "border_left": null,
       "border_right": null,
       "border_top": null,
       "bottom": null,
       "display": null,
       "flex": null,
       "flex_flow": null,
       "grid_area": null,
       "grid_auto_columns": null,
       "grid_auto_flow": null,
       "grid_auto_rows": null,
       "grid_column": null,
       "grid_gap": null,
       "grid_row": null,
       "grid_template_areas": null,
       "grid_template_columns": null,
       "grid_template_rows": null,
       "height": null,
       "justify_content": null,
       "justify_items": null,
       "left": null,
       "margin": null,
       "max_height": null,
       "max_width": null,
       "min_height": null,
       "min_width": null,
       "object_fit": null,
       "object_position": null,
       "order": null,
       "overflow": null,
       "padding": null,
       "right": null,
       "top": null,
       "visibility": null,
       "width": null
      }
     },
     "f6308bf132994804973e72837c8bc5d0": {
      "model_module": "@jupyter-widgets/controls",
      "model_module_version": "2.0.0",
      "model_name": "ProgressStyleModel",
      "state": {
       "_model_module": "@jupyter-widgets/controls",
       "_model_module_version": "2.0.0",
       "_model_name": "ProgressStyleModel",
       "_view_count": null,
       "_view_module": "@jupyter-widgets/base",
       "_view_module_version": "2.0.0",
       "_view_name": "StyleView",
       "bar_color": null,
       "description_width": ""
      }
     },
     "f9336044a1194c0c9f6e8248a3f470ac": {
      "model_module": "@jupyter-widgets/controls",
      "model_module_version": "2.0.0",
      "model_name": "HTMLStyleModel",
      "state": {
       "_model_module": "@jupyter-widgets/controls",
       "_model_module_version": "2.0.0",
       "_model_name": "HTMLStyleModel",
       "_view_count": null,
       "_view_module": "@jupyter-widgets/base",
       "_view_module_version": "2.0.0",
       "_view_name": "StyleView",
       "background": null,
       "description_width": "",
       "font_size": null,
       "text_color": null
      }
     }
    },
    "version_major": 2,
    "version_minor": 0
   }
  }
 },
 "nbformat": 4,
 "nbformat_minor": 5
}
