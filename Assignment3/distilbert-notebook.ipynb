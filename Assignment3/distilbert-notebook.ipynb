{
 "cells": [
  {
   "cell_type": "markdown",
   "id": "6b562bef",
   "metadata": {
    "papermill": {
     "duration": 0.009636,
     "end_time": "2025-05-16T07:06:05.733174",
     "exception": false,
     "start_time": "2025-05-16T07:06:05.723538",
     "status": "completed"
    },
    "tags": []
   },
   "source": [
    "# Libraries"
   ]
  },
  {
   "cell_type": "code",
   "execution_count": 1,
   "id": "9c586658",
   "metadata": {
    "execution": {
     "iopub.execute_input": "2025-05-16T07:06:05.751309Z",
     "iopub.status.busy": "2025-05-16T07:06:05.751092Z",
     "iopub.status.idle": "2025-05-16T07:06:33.157096Z",
     "shell.execute_reply": "2025-05-16T07:06:33.156499Z"
    },
    "papermill": {
     "duration": 27.416134,
     "end_time": "2025-05-16T07:06:33.158526",
     "exception": false,
     "start_time": "2025-05-16T07:06:05.742392",
     "status": "completed"
    },
    "tags": []
   },
   "outputs": [
    {
     "name": "stderr",
     "output_type": "stream",
     "text": [
      "2025-05-16 07:06:11.038444: E external/local_xla/xla/stream_executor/cuda/cuda_fft.cc:477] Unable to register cuFFT factory: Attempting to register factory for plugin cuFFT when one has already been registered\n",
      "WARNING: All log messages before absl::InitializeLog() is called are written to STDERR\n",
      "E0000 00:00:1747379171.237918      19 cuda_dnn.cc:8310] Unable to register cuDNN factory: Attempting to register factory for plugin cuDNN when one has already been registered\n",
      "E0000 00:00:1747379171.294590      19 cuda_blas.cc:1418] Unable to register cuBLAS factory: Attempting to register factory for plugin cuBLAS when one has already been registered\n"
     ]
    }
   ],
   "source": [
    "from collections import Counter\n",
    "import datetime\n",
    "import itertools\n",
    "import matplotlib.pyplot as plt\n",
    "from nltk.tokenize import word_tokenize\n",
    "import numpy as np\n",
    "import optuna\n",
    "import pandas as pd\n",
    "import random\n",
    "import re\n",
    "import seaborn as sns\n",
    "from sklearn.metrics import accuracy_score, classification_report, confusion_matrix\n",
    "from sklearn.metrics import roc_curve, auc\n",
    "import tensorflow as tf\n",
    "import time\n",
    "import torch\n",
    "from torch.optim import AdamW\n",
    "from torch.utils.data import TensorDataset, random_split\n",
    "from torch.utils.data import DataLoader, RandomSampler, SequentialSampler\n",
    "from transformers import DistilBertTokenizer\n",
    "from transformers import DistilBertForSequenceClassification, DistilBertConfig\n",
    "from transformers import get_linear_schedule_with_warmup"
   ]
  },
  {
   "cell_type": "markdown",
   "id": "a0e12ac4",
   "metadata": {
    "papermill": {
     "duration": 0.008014,
     "end_time": "2025-05-16T07:06:33.175274",
     "exception": false,
     "start_time": "2025-05-16T07:06:33.167260",
     "status": "completed"
    },
    "tags": []
   },
   "source": [
    "# Utils"
   ]
  },
  {
   "cell_type": "markdown",
   "id": "a64a7208",
   "metadata": {
    "papermill": {
     "duration": 0.008432,
     "end_time": "2025-05-16T07:06:33.191853",
     "exception": false,
     "start_time": "2025-05-16T07:06:33.183421",
     "status": "completed"
    },
    "tags": []
   },
   "source": [
    "## Random Seed"
   ]
  },
  {
   "cell_type": "code",
   "execution_count": 2,
   "id": "adafbd35",
   "metadata": {
    "execution": {
     "iopub.execute_input": "2025-05-16T07:06:33.209265Z",
     "iopub.status.busy": "2025-05-16T07:06:33.208717Z",
     "iopub.status.idle": "2025-05-16T07:06:33.215802Z",
     "shell.execute_reply": "2025-05-16T07:06:33.215317Z"
    },
    "papermill": {
     "duration": 0.016997,
     "end_time": "2025-05-16T07:06:33.216924",
     "exception": false,
     "start_time": "2025-05-16T07:06:33.199927",
     "status": "completed"
    },
    "tags": []
   },
   "outputs": [],
   "source": [
    "# Set seed for reproducibility\n",
    "seed = 42\n",
    "random.seed(seed)\n",
    "np.random.seed(seed)\n",
    "torch.manual_seed(seed)\n",
    "torch.cuda.manual_seed_all(seed)"
   ]
  },
  {
   "cell_type": "markdown",
   "id": "46b804ba",
   "metadata": {
    "papermill": {
     "duration": 0.008391,
     "end_time": "2025-05-16T07:06:33.234615",
     "exception": false,
     "start_time": "2025-05-16T07:06:33.226224",
     "status": "completed"
    },
    "tags": []
   },
   "source": [
    "## Preprocessing function"
   ]
  },
  {
   "cell_type": "code",
   "execution_count": 3,
   "id": "d1f288cb",
   "metadata": {
    "execution": {
     "iopub.execute_input": "2025-05-16T07:06:33.251847Z",
     "iopub.status.busy": "2025-05-16T07:06:33.251593Z",
     "iopub.status.idle": "2025-05-16T07:06:33.262178Z",
     "shell.execute_reply": "2025-05-16T07:06:33.261594Z"
    },
    "papermill": {
     "duration": 0.020519,
     "end_time": "2025-05-16T07:06:33.263159",
     "exception": false,
     "start_time": "2025-05-16T07:06:33.242640",
     "status": "completed"
    },
    "tags": []
   },
   "outputs": [],
   "source": [
    "# Preprocessing functions\n",
    "\n",
    "def preprocess_text_for_bert(text):\n",
    "    text = text.lower()\n",
    "    text = re.sub(r\"http\\S+|www\\S+\", \"\", text) # Remove URLs\n",
    "    text = re.sub(r\"@\\w+\", \"\", text) # Remove mentions\n",
    "    text = re.sub(r\"#\", \"\", text) # Keep hashtags (remove only '#')\n",
    "    text = re.sub(r\"[^\\x00-\\x7F]+\", \"\", text) # Remove non-ASCII\n",
    "    text = re.sub(r\"\\s+\", \" \", text) # Remove excess spaces\n",
    "    return text.strip()\n",
    "\n",
    "def preprocess_text(text):\n",
    "    text = text.lower() # Convert to lowercase\n",
    "    \n",
    "    # Correct the spelling mistakes\n",
    "    text = re.sub(r\" \\b(luv) \\b\", \"love\", text)\n",
    "    text = re.sub(r\"\\b(amzing) \\b\", \"amazing\", text)\n",
    "    text = re.sub(r\"\\b(terible) \\b\", \"terrible\", text)\n",
    "    text = re.sub(r\"\\b(excelent) \\b\", \"excellent\", text)\n",
    "    text = re.sub(r\"\\b(performnce) \\b\", \"performance\", text)\n",
    "    text = re.sub(r\"\\b(gud)\\b\", \"good\", text)\n",
    "    text = re.sub(r\"\\b(vry)\\b\", \"very\", text)\n",
    "    text = re.sub(r\"\\b(fantstic)\\b\", \"fantastic\", text)\n",
    "    text = re.sub(r\"\\b(gr8)\\b\", \"great\", text)\n",
    "    text = re.sub(r\"\\b(i'm)\\b\", \"i am\", text)\n",
    "    text = re.sub(r\"\\b(horrble)\\b\", \"horrible\", text)\n",
    "    text = re.sub(r\"\\b(don't)\\b\", \"do not\", text)\n",
    "    text = re.sub(r\"\\b(did't)\\b\", \"did not\", text)\n",
    "    text = re.sub(r\"\\b(dont)\\b\", \"do not\", text)\n",
    "    text = re.sub(r\"\\b(didnt)\\b\", \"did not\", text)\n",
    "    text = re.sub(r\"\\b(gotta)\\b\", \"got to\", text)\n",
    "    text = re.sub(r\"\\b(waitin)\\b\", \"waiting\", text)\n",
    "    text = re.sub(r\"\\b(thru)\\b\", \"through\", text)\n",
    "    text = re.sub(r\"\\b('re)\\b\", \"are\", text)\n",
    "    text = re.sub(r\"\\b(sis)\\b\", \"sister\", text)\n",
    "    text = re.sub(r\"\\b(u)\\b\", \"you\", text)\n",
    "    text = re.sub(r\"\\b(yeah)\\b\", \"yes\", text)\n",
    "    text = re.sub(r\"\\b(yeh)\\b\", \"yes\", text)\n",
    "    text = re.sub(r\"\\b(outta)\\b\", \"out of\", text)\n",
    "    text = re.sub(r\"\\b(yah)\\b\", \"you\", text)\n",
    "    text = re.sub(r\"\\b(foun)\\b\", \"found\", text)\n",
    "    text = re.sub(r\"\\b(yah)\\b\", \"you\", text)\n",
    "    text = re.sub(r\"\\b(ur)\\b\", \"you are\", text)\n",
    "    text = re.sub(r\"\\b(sumtimes)\\b\", \"sometimes\", text)\n",
    "    text = re.sub(r\"\\b(can't)\\b\", \"can not\", text)\n",
    "    text = re.sub(r\"\\b(cannot)\\b\", \"can not\", text)\n",
    "    text = re.sub(r\"\\b(commin)\\b\", \"comming\", text)\n",
    "    text = re.sub(r\"\\b(gonna)\\b\", \"going to\", text)\n",
    "    text = re.sub(r\"\\b(btw)\\b\", \"by the way\", text)\n",
    "    text = re.sub(r\"\\b(at the moment)\\b\", \"atm\", text)\n",
    "    text = re.sub(r\"\\b(oh my god)\\b\", \"omg\", text)\n",
    "    text = re.sub(r\"\\b(laugh out loud)\\b\", \"lol\", text)\n",
    "    text = re.sub(r\"\\b(it's)\\b\", \"it is\", text)\n",
    "    text = re.sub(r\"\\b(its)\\b\", \"it is\", text)\n",
    "    text = re.sub(r\"\\b('s)\\b\", \" \", text)\n",
    "    \n",
    "    # Remove links\n",
    "    text = re.sub(r'http\\S+|www\\S+|https\\S+', '', text)\n",
    "\n",
    "    # Remove hashtags\n",
    "    text = re.sub(r'\\#\\w+', '', text)\n",
    "\n",
    "    # Remove emails\n",
    "    text = re.sub(r'\\b[A-Za-z0-9._%+-]+@[A-Za-z0-9.-]+\\.[A-Za-z]{2,}\\b', '', text)\n",
    "\n",
    "    # Remove mentions/tags\n",
    "    text = re.sub(r'@\\w+', '', text)\n",
    "\n",
    "     # Remove numbers\n",
    "    text = re.sub(r'\\d+', '', text)\n",
    "\n",
    "    # Remove emojis\n",
    "    text = re.sub(r'[^\\w\\s,;!?\\'\\\"`~\\-\\.:]', '', text)\n",
    "\n",
    "    # Replace words with 3 or more consecutive identical letters with just the first 3 letters\n",
    "    text = re.sub(r'(\\b\\w*?)(\\w)\\2{2,}(\\w*)\\b', r'\\1\\2\\3', text)\n",
    "\n",
    "    # Remove non-ASCII characters (weird characters like ã, â, etc.)\n",
    "    text = re.sub(r'[^\\x00-\\x7F]+', '', text)\n",
    "\n",
    "    # Remove words that have only one letter\n",
    "    text = re.sub(r'\\b\\w\\b', '', text)\n",
    "    \n",
    "    # Remove special characters\n",
    "    text = re.sub(r\"[^\\w\\s]\", \" \", text)\n",
    "\n",
    "    # Replace multiple spaces, tabs, or other whitespace with a single space\n",
    "    text = re.sub(r'\\s+', ' ', text)\n",
    "    \n",
    "    # Remove whitespace from the start and end\n",
    "    text = text.strip()\n",
    "\n",
    "    return text"
   ]
  },
  {
   "cell_type": "markdown",
   "id": "58f99ab9",
   "metadata": {
    "papermill": {
     "duration": 0.007918,
     "end_time": "2025-05-16T07:06:33.279120",
     "exception": false,
     "start_time": "2025-05-16T07:06:33.271202",
     "status": "completed"
    },
    "tags": []
   },
   "source": [
    "## Print Confusion Matrix Function"
   ]
  },
  {
   "cell_type": "code",
   "execution_count": 4,
   "id": "488361cf",
   "metadata": {
    "execution": {
     "iopub.execute_input": "2025-05-16T07:06:33.295943Z",
     "iopub.status.busy": "2025-05-16T07:06:33.295723Z",
     "iopub.status.idle": "2025-05-16T07:06:33.299592Z",
     "shell.execute_reply": "2025-05-16T07:06:33.299065Z"
    },
    "papermill": {
     "duration": 0.013505,
     "end_time": "2025-05-16T07:06:33.300657",
     "exception": false,
     "start_time": "2025-05-16T07:06:33.287152",
     "status": "completed"
    },
    "tags": []
   },
   "outputs": [],
   "source": [
    "# Compute and generate confusion matrix\n",
    "def print_confusion_matrix(y_val, y_pred):\n",
    "    cm = confusion_matrix(y_val, y_pred)\n",
    "    plt.figure(figsize=(6, 5))\n",
    "    sns.heatmap(cm, annot=True, fmt='d', linewidths=2, cbar=False)\n",
    "    plt.xlabel(\"Predicted Label\", fontsize=14)\n",
    "    plt.ylabel(\"True Label\", fontsize=14)\n",
    "    plt.title(\"Confusion Matrix\", fontsize=16)\n",
    "    plt.show()"
   ]
  },
  {
   "cell_type": "markdown",
   "id": "e6ef681e",
   "metadata": {
    "papermill": {
     "duration": 0.007912,
     "end_time": "2025-05-16T07:06:33.316555",
     "exception": false,
     "start_time": "2025-05-16T07:06:33.308643",
     "status": "completed"
    },
    "tags": []
   },
   "source": [
    "## Print ROC curve function"
   ]
  },
  {
   "cell_type": "code",
   "execution_count": 5,
   "id": "6d55b851",
   "metadata": {
    "execution": {
     "iopub.execute_input": "2025-05-16T07:06:33.333393Z",
     "iopub.status.busy": "2025-05-16T07:06:33.333128Z",
     "iopub.status.idle": "2025-05-16T07:06:33.337867Z",
     "shell.execute_reply": "2025-05-16T07:06:33.337352Z"
    },
    "papermill": {
     "duration": 0.014455,
     "end_time": "2025-05-16T07:06:33.338942",
     "exception": false,
     "start_time": "2025-05-16T07:06:33.324487",
     "status": "completed"
    },
    "tags": []
   },
   "outputs": [],
   "source": [
    "# Compute and generate the ROC \n",
    "def print_roc(y_val, y_probs):\n",
    "    # Get False Positive and True Positive Rates\n",
    "    fpr, tpr, thresholds = roc_curve(y_val, y_probs)\n",
    "    \n",
    "    # Get the Area Under the Curve score\n",
    "    roc_auc = auc(fpr, tpr)\n",
    "    \n",
    "    # Plot the ROC curve\n",
    "    plt.figure(figsize=(8, 6))\n",
    "    plt.plot(fpr, tpr, color='darkorange', lw=2, label=f'ROC curve (AUC = {roc_auc:0.2f})')\n",
    "    plt.plot([0, 1], [0, 1], color='red', lw=2, linestyle='--', label='Random Classifier')\n",
    "    plt.xlim([0.0, 1.0])\n",
    "    plt.ylim([0.0, 1.05])\n",
    "    plt.xlabel('False Positive Rate')\n",
    "    plt.ylabel('True Positive Rate')\n",
    "    plt.title('ROC Curve')\n",
    "    plt.legend(loc=\"lower right\")\n",
    "    plt.grid(True)\n",
    "    plt.show()"
   ]
  },
  {
   "cell_type": "markdown",
   "id": "b292d84a",
   "metadata": {
    "papermill": {
     "duration": 0.00825,
     "end_time": "2025-05-16T07:06:33.355320",
     "exception": false,
     "start_time": "2025-05-16T07:06:33.347070",
     "status": "completed"
    },
    "tags": []
   },
   "source": [
    "## Helper Functions"
   ]
  },
  {
   "cell_type": "code",
   "execution_count": 6,
   "id": "1e41b074",
   "metadata": {
    "execution": {
     "iopub.execute_input": "2025-05-16T07:06:33.372257Z",
     "iopub.status.busy": "2025-05-16T07:06:33.371993Z",
     "iopub.status.idle": "2025-05-16T07:06:33.375939Z",
     "shell.execute_reply": "2025-05-16T07:06:33.375442Z"
    },
    "papermill": {
     "duration": 0.013742,
     "end_time": "2025-05-16T07:06:33.377078",
     "exception": false,
     "start_time": "2025-05-16T07:06:33.363336",
     "status": "completed"
    },
    "tags": []
   },
   "outputs": [],
   "source": [
    "# Function to calculate the accuracy of our predictions vs labels\n",
    "def flat_accuracy(preds, labels):\n",
    "    pred_flat = np.argmax(preds, axis=1).flatten()\n",
    "    labels_flat = labels.flatten()\n",
    "    return np.sum(pred_flat == labels_flat) / len(labels_flat)\n",
    "\n",
    "# Helper function for formatting elapsed times as `hh:mm:ss`\n",
    "def format_time(elapsed):\n",
    "    '''\n",
    "    Takes a time in seconds and returns a string hh:mm:ss\n",
    "    '''\n",
    "    # Round to the nearest second.\n",
    "    elapsed_rounded = int(round((elapsed)))\n",
    "\n",
    "    # Format as hh:mm:ss\n",
    "    return str(datetime.timedelta(seconds=elapsed_rounded))"
   ]
  },
  {
   "cell_type": "markdown",
   "id": "ce123fc3",
   "metadata": {
    "papermill": {
     "duration": 0.007945,
     "end_time": "2025-05-16T07:06:33.393198",
     "exception": false,
     "start_time": "2025-05-16T07:06:33.385253",
     "status": "completed"
    },
    "tags": []
   },
   "source": [
    "# Use GPU"
   ]
  },
  {
   "cell_type": "code",
   "execution_count": 7,
   "id": "cabc73d3",
   "metadata": {
    "execution": {
     "iopub.execute_input": "2025-05-16T07:06:33.410357Z",
     "iopub.status.busy": "2025-05-16T07:06:33.410113Z",
     "iopub.status.idle": "2025-05-16T07:06:33.556969Z",
     "shell.execute_reply": "2025-05-16T07:06:33.556165Z"
    },
    "papermill": {
     "duration": 0.156872,
     "end_time": "2025-05-16T07:06:33.558184",
     "exception": false,
     "start_time": "2025-05-16T07:06:33.401312",
     "status": "completed"
    },
    "tags": []
   },
   "outputs": [
    {
     "name": "stdout",
     "output_type": "stream",
     "text": [
      "Found GPU at: /device:GPU:0\n"
     ]
    },
    {
     "name": "stderr",
     "output_type": "stream",
     "text": [
      "I0000 00:00:1747379193.552322      19 gpu_device.cc:2022] Created device /device:GPU:0 with 15513 MB memory:  -> device: 0, name: Tesla P100-PCIE-16GB, pci bus id: 0000:00:04.0, compute capability: 6.0\n"
     ]
    }
   ],
   "source": [
    "# Get the GPU device name.\n",
    "device_name = tf.test.gpu_device_name()\n",
    "\n",
    "# The device name should look like the following:\n",
    "if device_name == '/device:GPU:0':\n",
    "    print('Found GPU at: {}'.format(device_name))\n",
    "else:\n",
    "    raise SystemError('GPU device not found')"
   ]
  },
  {
   "cell_type": "code",
   "execution_count": 8,
   "id": "42a0ab58",
   "metadata": {
    "execution": {
     "iopub.execute_input": "2025-05-16T07:06:33.575828Z",
     "iopub.status.busy": "2025-05-16T07:06:33.575571Z",
     "iopub.status.idle": "2025-05-16T07:06:33.580277Z",
     "shell.execute_reply": "2025-05-16T07:06:33.579547Z"
    },
    "papermill": {
     "duration": 0.014753,
     "end_time": "2025-05-16T07:06:33.581390",
     "exception": false,
     "start_time": "2025-05-16T07:06:33.566637",
     "status": "completed"
    },
    "tags": []
   },
   "outputs": [
    {
     "name": "stdout",
     "output_type": "stream",
     "text": [
      "There are 1 GPU(s) available.\n",
      "We will use the GPU: Tesla P100-PCIE-16GB\n"
     ]
    }
   ],
   "source": [
    "# If there's a GPU available...\n",
    "if torch.cuda.is_available():\n",
    "\n",
    "    # Tell PyTorch to use the GPU.\n",
    "    device = torch.device(\"cuda\")\n",
    "\n",
    "    print('There are %d GPU(s) available.' % torch.cuda.device_count())\n",
    "\n",
    "    print('We will use the GPU:', torch.cuda.get_device_name(0))\n",
    "\n",
    "# If not...\n",
    "else:\n",
    "    print('No GPU available, using the CPU instead.')\n",
    "    device = torch.device(\"cpu\")"
   ]
  },
  {
   "cell_type": "markdown",
   "id": "196673e9",
   "metadata": {
    "papermill": {
     "duration": 0.011481,
     "end_time": "2025-05-16T07:06:33.652783",
     "exception": false,
     "start_time": "2025-05-16T07:06:33.641302",
     "status": "completed"
    },
    "tags": []
   },
   "source": [
    "# Make Installations"
   ]
  },
  {
   "cell_type": "code",
   "execution_count": 9,
   "id": "a9759664",
   "metadata": {
    "execution": {
     "iopub.execute_input": "2025-05-16T07:06:33.671240Z",
     "iopub.status.busy": "2025-05-16T07:06:33.670729Z",
     "iopub.status.idle": "2025-05-16T07:06:42.282058Z",
     "shell.execute_reply": "2025-05-16T07:06:42.281097Z"
    },
    "papermill": {
     "duration": 8.622218,
     "end_time": "2025-05-16T07:06:42.283475",
     "exception": false,
     "start_time": "2025-05-16T07:06:33.661257",
     "status": "completed"
    },
    "tags": []
   },
   "outputs": [
    {
     "name": "stdout",
     "output_type": "stream",
     "text": [
      "Requirement already satisfied: transformers in /usr/local/lib/python3.11/dist-packages (4.51.1)\r\n",
      "Requirement already satisfied: filelock in /usr/local/lib/python3.11/dist-packages (from transformers) (3.18.0)\r\n",
      "Requirement already satisfied: huggingface-hub<1.0,>=0.30.0 in /usr/local/lib/python3.11/dist-packages (from transformers) (0.30.2)\r\n",
      "Requirement already satisfied: numpy>=1.17 in /usr/local/lib/python3.11/dist-packages (from transformers) (1.26.4)\r\n",
      "Requirement already satisfied: packaging>=20.0 in /usr/local/lib/python3.11/dist-packages (from transformers) (24.2)\r\n",
      "Requirement already satisfied: pyyaml>=5.1 in /usr/local/lib/python3.11/dist-packages (from transformers) (6.0.2)\r\n",
      "Requirement already satisfied: regex!=2019.12.17 in /usr/local/lib/python3.11/dist-packages (from transformers) (2024.11.6)\r\n",
      "Requirement already satisfied: requests in /usr/local/lib/python3.11/dist-packages (from transformers) (2.32.3)\r\n",
      "Requirement already satisfied: tokenizers<0.22,>=0.21 in /usr/local/lib/python3.11/dist-packages (from transformers) (0.21.0)\r\n",
      "Requirement already satisfied: safetensors>=0.4.3 in /usr/local/lib/python3.11/dist-packages (from transformers) (0.5.2)\r\n",
      "Requirement already satisfied: tqdm>=4.27 in /usr/local/lib/python3.11/dist-packages (from transformers) (4.67.1)\r\n",
      "Requirement already satisfied: fsspec>=2023.5.0 in /usr/local/lib/python3.11/dist-packages (from huggingface-hub<1.0,>=0.30.0->transformers) (2025.3.2)\r\n",
      "Requirement already satisfied: typing-extensions>=3.7.4.3 in /usr/local/lib/python3.11/dist-packages (from huggingface-hub<1.0,>=0.30.0->transformers) (4.13.1)\r\n",
      "Requirement already satisfied: mkl_fft in /usr/local/lib/python3.11/dist-packages (from numpy>=1.17->transformers) (1.3.8)\r\n",
      "Requirement already satisfied: mkl_random in /usr/local/lib/python3.11/dist-packages (from numpy>=1.17->transformers) (1.2.4)\r\n",
      "Requirement already satisfied: mkl_umath in /usr/local/lib/python3.11/dist-packages (from numpy>=1.17->transformers) (0.1.1)\r\n",
      "Requirement already satisfied: mkl in /usr/local/lib/python3.11/dist-packages (from numpy>=1.17->transformers) (2025.1.0)\r\n",
      "Requirement already satisfied: tbb4py in /usr/local/lib/python3.11/dist-packages (from numpy>=1.17->transformers) (2022.1.0)\r\n",
      "Requirement already satisfied: mkl-service in /usr/local/lib/python3.11/dist-packages (from numpy>=1.17->transformers) (2.4.1)\r\n",
      "Requirement already satisfied: charset-normalizer<4,>=2 in /usr/local/lib/python3.11/dist-packages (from requests->transformers) (3.4.1)\r\n",
      "Requirement already satisfied: idna<4,>=2.5 in /usr/local/lib/python3.11/dist-packages (from requests->transformers) (3.10)\r\n",
      "Requirement already satisfied: urllib3<3,>=1.21.1 in /usr/local/lib/python3.11/dist-packages (from requests->transformers) (2.3.0)\r\n",
      "Requirement already satisfied: certifi>=2017.4.17 in /usr/local/lib/python3.11/dist-packages (from requests->transformers) (2025.1.31)\r\n",
      "Requirement already satisfied: intel-openmp<2026,>=2024 in /usr/local/lib/python3.11/dist-packages (from mkl->numpy>=1.17->transformers) (2024.2.0)\r\n",
      "Requirement already satisfied: tbb==2022.* in /usr/local/lib/python3.11/dist-packages (from mkl->numpy>=1.17->transformers) (2022.1.0)\r\n",
      "Requirement already satisfied: tcmlib==1.* in /usr/local/lib/python3.11/dist-packages (from tbb==2022.*->mkl->numpy>=1.17->transformers) (1.2.0)\r\n",
      "Requirement already satisfied: intel-cmplr-lib-rt in /usr/local/lib/python3.11/dist-packages (from mkl_umath->numpy>=1.17->transformers) (2024.2.0)\r\n",
      "Requirement already satisfied: intel-cmplr-lib-ur==2024.2.0 in /usr/local/lib/python3.11/dist-packages (from intel-openmp<2026,>=2024->mkl->numpy>=1.17->transformers) (2024.2.0)\r\n",
      "Collecting wget\r\n",
      "  Downloading wget-3.2.zip (10 kB)\r\n",
      "  Preparing metadata (setup.py) ... \u001b[?25l\u001b[?25hdone\r\n",
      "Building wheels for collected packages: wget\r\n",
      "  Building wheel for wget (setup.py) ... \u001b[?25l\u001b[?25hdone\r\n",
      "  Created wheel for wget: filename=wget-3.2-py3-none-any.whl size=9656 sha256=c5c70a09e13cedaeb72ce73221856c4187ac88fd717249b1dc14757e0de6b853\r\n",
      "  Stored in directory: /root/.cache/pip/wheels/40/b3/0f/a40dbd1c6861731779f62cc4babcb234387e11d697df70ee97\r\n",
      "Successfully built wget\r\n",
      "Installing collected packages: wget\r\n",
      "Successfully installed wget-3.2\r\n"
     ]
    }
   ],
   "source": [
    "!pip install transformers\n",
    "!pip install wget"
   ]
  },
  {
   "cell_type": "markdown",
   "id": "96edeafb",
   "metadata": {
    "papermill": {
     "duration": 0.008548,
     "end_time": "2025-05-16T07:06:42.301150",
     "exception": false,
     "start_time": "2025-05-16T07:06:42.292602",
     "status": "completed"
    },
    "tags": []
   },
   "source": [
    "# Get Dataset"
   ]
  },
  {
   "cell_type": "markdown",
   "id": "607a8c73",
   "metadata": {
    "papermill": {
     "duration": 0.008473,
     "end_time": "2025-05-16T07:06:42.318105",
     "exception": false,
     "start_time": "2025-05-16T07:06:42.309632",
     "status": "completed"
    },
    "tags": []
   },
   "source": [
    "## Create and Preprocess DataFrames"
   ]
  },
  {
   "cell_type": "code",
   "execution_count": 10,
   "id": "2b6647aa",
   "metadata": {
    "execution": {
     "iopub.execute_input": "2025-05-16T07:06:42.336732Z",
     "iopub.status.busy": "2025-05-16T07:06:42.335959Z",
     "iopub.status.idle": "2025-05-16T07:06:42.926967Z",
     "shell.execute_reply": "2025-05-16T07:06:42.926422Z"
    },
    "papermill": {
     "duration": 0.601678,
     "end_time": "2025-05-16T07:06:42.928335",
     "exception": false,
     "start_time": "2025-05-16T07:06:42.326657",
     "status": "completed"
    },
    "tags": []
   },
   "outputs": [],
   "source": [
    "# Read CSVs to dfs\n",
    "df_train = pd.read_csv('/kaggle/input/ai-2-dl-for-nlp-2025-homework-3-distil-bert/train_dataset.csv')\n",
    "df_val = pd.read_csv('/kaggle/input/ai-2-dl-for-nlp-2025-homework-3-distil-bert/val_dataset.csv')\n",
    "df_test = pd.read_csv('/kaggle/input/ai-2-dl-for-nlp-2025-homework-3-distil-bert/test_dataset.csv')"
   ]
  },
  {
   "cell_type": "code",
   "execution_count": 11,
   "id": "575a97af",
   "metadata": {
    "execution": {
     "iopub.execute_input": "2025-05-16T07:06:42.947808Z",
     "iopub.status.busy": "2025-05-16T07:06:42.947190Z",
     "iopub.status.idle": "2025-05-16T07:06:44.865882Z",
     "shell.execute_reply": "2025-05-16T07:06:44.865073Z"
    },
    "papermill": {
     "duration": 1.929703,
     "end_time": "2025-05-16T07:06:44.867176",
     "exception": false,
     "start_time": "2025-05-16T07:06:42.937473",
     "status": "completed"
    },
    "tags": []
   },
   "outputs": [
    {
     "name": "stdout",
     "output_type": "stream",
     "text": [
      "Create and Preprocess dataframes - Finished\n"
     ]
    }
   ],
   "source": [
    "# Preprocess dfs\n",
    "df_train_preprocessed = df_train.copy() \n",
    "df_train_preprocessed[\"Text\"] = df_train_preprocessed[\"Text\"].apply(preprocess_text_for_bert)\n",
    "df_val_preprocessed = df_val.copy()\n",
    "df_val_preprocessed[\"Text\"] = df_val_preprocessed[\"Text\"].apply(preprocess_text_for_bert)\n",
    "df_test_preprocessed = df_test.copy()\n",
    "df_test_preprocessed[\"Text\"] = df_test_preprocessed[\"Text\"].apply(preprocess_text_for_bert)\n",
    "\n",
    "print(\"Create and Preprocess dataframes - Finished\")"
   ]
  },
  {
   "cell_type": "markdown",
   "id": "e6ab56bc",
   "metadata": {
    "papermill": {
     "duration": 0.008468,
     "end_time": "2025-05-16T07:06:44.884785",
     "exception": false,
     "start_time": "2025-05-16T07:06:44.876317",
     "status": "completed"
    },
    "tags": []
   },
   "source": [
    "## Get Sentences and Labels for Train Dataset"
   ]
  },
  {
   "cell_type": "code",
   "execution_count": 12,
   "id": "c1319db9",
   "metadata": {
    "execution": {
     "iopub.execute_input": "2025-05-16T07:06:44.903459Z",
     "iopub.status.busy": "2025-05-16T07:06:44.902903Z",
     "iopub.status.idle": "2025-05-16T07:06:44.907318Z",
     "shell.execute_reply": "2025-05-16T07:06:44.906591Z"
    },
    "papermill": {
     "duration": 0.015041,
     "end_time": "2025-05-16T07:06:44.908425",
     "exception": false,
     "start_time": "2025-05-16T07:06:44.893384",
     "status": "completed"
    },
    "tags": []
   },
   "outputs": [],
   "source": [
    "# Train Dataset\n",
    "sentences_train = df_train_preprocessed.Text.values\n",
    "labels_train = df_train_preprocessed.Label.values\n",
    "\n",
    "# Validation Dataset\n",
    "sentences_val = df_val_preprocessed.Text.values\n",
    "labels_val = df_val_preprocessed.Label.values\n",
    "\n",
    "# Test Dataset\n",
    "sentences_test = df_test_preprocessed.Text.values"
   ]
  },
  {
   "cell_type": "markdown",
   "id": "b7020007",
   "metadata": {
    "papermill": {
     "duration": 0.008668,
     "end_time": "2025-05-16T07:06:44.925774",
     "exception": false,
     "start_time": "2025-05-16T07:06:44.917106",
     "status": "completed"
    },
    "tags": []
   },
   "source": [
    "# Tokenization & Input Formatting"
   ]
  },
  {
   "cell_type": "markdown",
   "id": "1c453281",
   "metadata": {
    "papermill": {
     "duration": 0.008612,
     "end_time": "2025-05-16T07:06:44.942955",
     "exception": false,
     "start_time": "2025-05-16T07:06:44.934343",
     "status": "completed"
    },
    "tags": []
   },
   "source": [
    "### Load the BERT tokenizer."
   ]
  },
  {
   "cell_type": "code",
   "execution_count": 13,
   "id": "bbacb43d",
   "metadata": {
    "execution": {
     "iopub.execute_input": "2025-05-16T07:06:44.961716Z",
     "iopub.status.busy": "2025-05-16T07:06:44.961027Z",
     "iopub.status.idle": "2025-05-16T07:06:47.842839Z",
     "shell.execute_reply": "2025-05-16T07:06:47.842269Z"
    },
    "papermill": {
     "duration": 2.892577,
     "end_time": "2025-05-16T07:06:47.844158",
     "exception": false,
     "start_time": "2025-05-16T07:06:44.951581",
     "status": "completed"
    },
    "tags": []
   },
   "outputs": [
    {
     "name": "stdout",
     "output_type": "stream",
     "text": [
      "Loading DistilBERT tokenizer...\n"
     ]
    },
    {
     "data": {
      "application/vnd.jupyter.widget-view+json": {
       "model_id": "19dd415ff69f45d7849f232ba853fd27",
       "version_major": 2,
       "version_minor": 0
      },
      "text/plain": [
       "tokenizer_config.json:   0%|          | 0.00/48.0 [00:00<?, ?B/s]"
      ]
     },
     "metadata": {},
     "output_type": "display_data"
    },
    {
     "data": {
      "application/vnd.jupyter.widget-view+json": {
       "model_id": "4e962831658a4a868f53ce166b41b114",
       "version_major": 2,
       "version_minor": 0
      },
      "text/plain": [
       "vocab.txt:   0%|          | 0.00/232k [00:00<?, ?B/s]"
      ]
     },
     "metadata": {},
     "output_type": "display_data"
    },
    {
     "data": {
      "application/vnd.jupyter.widget-view+json": {
       "model_id": "b484c41854f04bf9a5f9b967ca641ff4",
       "version_major": 2,
       "version_minor": 0
      },
      "text/plain": [
       "tokenizer.json:   0%|          | 0.00/466k [00:00<?, ?B/s]"
      ]
     },
     "metadata": {},
     "output_type": "display_data"
    },
    {
     "data": {
      "application/vnd.jupyter.widget-view+json": {
       "model_id": "d42081d0b20f44a88d3448395065d87e",
       "version_major": 2,
       "version_minor": 0
      },
      "text/plain": [
       "config.json:   0%|          | 0.00/483 [00:00<?, ?B/s]"
      ]
     },
     "metadata": {},
     "output_type": "display_data"
    }
   ],
   "source": [
    "print('Loading DistilBERT tokenizer...')\n",
    "tokenizer = DistilBertTokenizer.from_pretrained('distilbert-base-uncased', do_lower_case=True)"
   ]
  },
  {
   "cell_type": "markdown",
   "id": "2345fb83",
   "metadata": {
    "papermill": {
     "duration": 0.010197,
     "end_time": "2025-05-16T07:06:47.864203",
     "exception": false,
     "start_time": "2025-05-16T07:06:47.854006",
     "status": "completed"
    },
    "tags": []
   },
   "source": [
    "## Get Max Sentence Length"
   ]
  },
  {
   "cell_type": "code",
   "execution_count": 14,
   "id": "764eee6f",
   "metadata": {
    "execution": {
     "iopub.execute_input": "2025-05-16T07:06:47.884396Z",
     "iopub.status.busy": "2025-05-16T07:06:47.883698Z",
     "iopub.status.idle": "2025-05-16T07:07:49.768728Z",
     "shell.execute_reply": "2025-05-16T07:07:49.767875Z"
    },
    "papermill": {
     "duration": 61.905401,
     "end_time": "2025-05-16T07:07:49.779226",
     "exception": false,
     "start_time": "2025-05-16T07:06:47.873825",
     "status": "completed"
    },
    "tags": []
   },
   "outputs": [
    {
     "name": "stdout",
     "output_type": "stream",
     "text": [
      "Max sentence length:  118\n"
     ]
    }
   ],
   "source": [
    "max_len = 0\n",
    "\n",
    "# For every sentence...\n",
    "for sent in sentences_train:\n",
    "\n",
    "    # Tokenize the text and add `[CLS]` and `[SEP]` tokens.\n",
    "    input_ids = tokenizer.encode(sent, add_special_tokens=True)\n",
    "\n",
    "    # Update the maximum sentence length.\n",
    "    max_len = max(max_len, len(input_ids))\n",
    "\n",
    "for sent in sentences_val:\n",
    "\n",
    "    # Tokenize the text and add `[CLS]` and `[SEP]` tokens.\n",
    "    input_ids = tokenizer.encode(sent, add_special_tokens=True)\n",
    "\n",
    "    # Update the maximum sentence length.\n",
    "    max_len = max(max_len, len(input_ids))\n",
    "\n",
    "for sent in sentences_test:\n",
    "\n",
    "    # Tokenize the text and add `[CLS]` and `[SEP]` tokens.\n",
    "    input_ids = tokenizer.encode(sent, add_special_tokens=True)\n",
    "\n",
    "    # Update the maximum sentence length.\n",
    "    max_len = max(max_len, len(input_ids))\n",
    "\n",
    "print('Max sentence length: ', max_len)"
   ]
  },
  {
   "cell_type": "markdown",
   "id": "5b1ad217",
   "metadata": {
    "papermill": {
     "duration": 0.009037,
     "end_time": "2025-05-16T07:07:49.797560",
     "exception": false,
     "start_time": "2025-05-16T07:07:49.788523",
     "status": "completed"
    },
    "tags": []
   },
   "source": [
    "## Tokenize Dataset Function"
   ]
  },
  {
   "cell_type": "code",
   "execution_count": 15,
   "id": "54c12a4c",
   "metadata": {
    "execution": {
     "iopub.execute_input": "2025-05-16T07:07:49.816951Z",
     "iopub.status.busy": "2025-05-16T07:07:49.816691Z",
     "iopub.status.idle": "2025-05-16T07:07:49.822535Z",
     "shell.execute_reply": "2025-05-16T07:07:49.821834Z"
    },
    "papermill": {
     "duration": 0.017104,
     "end_time": "2025-05-16T07:07:49.823736",
     "exception": false,
     "start_time": "2025-05-16T07:07:49.806632",
     "status": "completed"
    },
    "tags": []
   },
   "outputs": [],
   "source": [
    "def tokenize_dataset(sentences, labels = None):\n",
    "    \n",
    "    # Tokenize all of the sentences and map the tokens to their word IDs.\n",
    "    input_ids = []\n",
    "    attention_masks = []\n",
    "    \n",
    "    # For every sentence...\n",
    "    for sent in sentences:\n",
    "        # `encode_plus` will:\n",
    "        #   (1) Tokenize the sentence.\n",
    "        #   (2) Prepend the `[CLS]` token to the start.\n",
    "        #   (3) Append the `[SEP]` token to the end.\n",
    "        #   (4) Map tokens to their IDs.\n",
    "        #   (5) Pad or truncate the sentence to `max_length`\n",
    "        #   (6) Create attention masks for [PAD] tokens.\n",
    "        encoded_dict = tokenizer.encode_plus(\n",
    "                            sent,                      # Sentence to encode.\n",
    "                            add_special_tokens = True, # Add '[CLS]' and '[SEP]'\n",
    "                            max_length = max_len,           # Pad & truncate all sentences.\n",
    "                            pad_to_max_length = True,\n",
    "                            return_attention_mask = True,   # Construct attn. masks.\n",
    "                            return_tensors = 'pt',     # Return pytorch tensors.\n",
    "                       )\n",
    "    \n",
    "        # Add the encoded sentence to the list.\n",
    "        input_ids.append(encoded_dict['input_ids'])\n",
    "    \n",
    "        # And its attention mask (simply differentiates padding from non-padding).\n",
    "        attention_masks.append(encoded_dict['attention_mask'])\n",
    "    \n",
    "    # Convert the lists into tensors.\n",
    "    input_ids = torch.cat(input_ids, dim=0)\n",
    "    attention_masks = torch.cat(attention_masks, dim=0)\n",
    "    if labels is not None:\n",
    "        labels = torch.tensor(labels)\n",
    "\n",
    "    # Combine inputs into a TensorDataset\n",
    "    if labels is not None:\n",
    "        dataset = TensorDataset(input_ids, attention_masks, labels)\n",
    "    else:\n",
    "        dataset = TensorDataset(input_ids, attention_masks)\n",
    "    \n",
    "    return dataset "
   ]
  },
  {
   "cell_type": "markdown",
   "id": "03bf650e",
   "metadata": {
    "papermill": {
     "duration": 0.009055,
     "end_time": "2025-05-16T07:07:49.841998",
     "exception": false,
     "start_time": "2025-05-16T07:07:49.832943",
     "status": "completed"
    },
    "tags": []
   },
   "source": [
    "## Sample Dataset Function"
   ]
  },
  {
   "cell_type": "code",
   "execution_count": 16,
   "id": "1d4d6dd1",
   "metadata": {
    "execution": {
     "iopub.execute_input": "2025-05-16T07:07:49.861751Z",
     "iopub.status.busy": "2025-05-16T07:07:49.861492Z",
     "iopub.status.idle": "2025-05-16T07:07:49.865477Z",
     "shell.execute_reply": "2025-05-16T07:07:49.864923Z"
    },
    "papermill": {
     "duration": 0.01533,
     "end_time": "2025-05-16T07:07:49.866552",
     "exception": false,
     "start_time": "2025-05-16T07:07:49.851222",
     "status": "completed"
    },
    "tags": []
   },
   "outputs": [],
   "source": [
    "# Used for large datasets, randomly takes a sample (sample_size should be values between 0 and 1)\n",
    "\n",
    "def get_sample_from_dataset(dataset, sample_size):\n",
    "    \n",
    "    total_size = len(dataset)\n",
    "    sample_size = int(sample_size * total_size)\n",
    "    rest_size = total_size - sample_size\n",
    "    sampled_dataset, rest_dataset = random_split(dataset, [sample_size, rest_size], generator=torch.Generator().manual_seed(seed))\n",
    "    \n",
    "    return sampled_dataset"
   ]
  },
  {
   "cell_type": "markdown",
   "id": "bfed28bc",
   "metadata": {
    "papermill": {
     "duration": 0.009021,
     "end_time": "2025-05-16T07:07:49.884976",
     "exception": false,
     "start_time": "2025-05-16T07:07:49.875955",
     "status": "completed"
    },
    "tags": []
   },
   "source": [
    "## Create Dataloaders Function"
   ]
  },
  {
   "cell_type": "markdown",
   "id": "beecdfac",
   "metadata": {
    "papermill": {
     "duration": 0.008935,
     "end_time": "2025-05-16T07:07:49.903142",
     "exception": false,
     "start_time": "2025-05-16T07:07:49.894207",
     "status": "completed"
    },
    "tags": []
   },
   "source": [
    "```We'll also create an iterator for our dataset using the torch DataLoader class. This helps save on memory during training because, unlike a for loop, with an iterator the entire dataset does not need to be loaded into memory.```"
   ]
  },
  {
   "cell_type": "code",
   "execution_count": 17,
   "id": "37db2ac3",
   "metadata": {
    "execution": {
     "iopub.execute_input": "2025-05-16T07:07:49.922740Z",
     "iopub.status.busy": "2025-05-16T07:07:49.922471Z",
     "iopub.status.idle": "2025-05-16T07:07:49.926537Z",
     "shell.execute_reply": "2025-05-16T07:07:49.925987Z"
    },
    "papermill": {
     "duration": 0.015208,
     "end_time": "2025-05-16T07:07:49.927558",
     "exception": false,
     "start_time": "2025-05-16T07:07:49.912350",
     "status": "completed"
    },
    "tags": []
   },
   "outputs": [],
   "source": [
    "# The DataLoaders needs to know our batch size for training, so we specify it\n",
    "# here. For fine-tuning BERT on a specific task, the authors recommend a batch\n",
    "# size of 16 or 32.\n",
    "def get_dataloaders(batch_size):\n",
    "    \n",
    "    # Create the DataLoaders for our training and validation sets.\n",
    "    # We'll take training samples in random order.\n",
    "    train_dataloader = DataLoader(\n",
    "                train_dataset,  # The training samples.\n",
    "                sampler = RandomSampler(train_dataset), # Select batches randomly\n",
    "                batch_size = batch_size # Trains with this batch size.\n",
    "            )\n",
    "    \n",
    "    # For validation the order doesn't matter, so we'll just read them sequentially.\n",
    "    validation_dataloader = DataLoader(\n",
    "                val_dataset, # The validation samples.\n",
    "                sampler = SequentialSampler(val_dataset), # Pull out batches sequentially.\n",
    "                batch_size = batch_size # Evaluate with this batch size.\n",
    "            )\n",
    "\n",
    "    return train_dataloader, validation_dataloader"
   ]
  },
  {
   "cell_type": "markdown",
   "id": "35baa395",
   "metadata": {
    "papermill": {
     "duration": 0.009191,
     "end_time": "2025-05-16T07:07:49.946104",
     "exception": false,
     "start_time": "2025-05-16T07:07:49.936913",
     "status": "completed"
    },
    "tags": []
   },
   "source": [
    "# Train Model functions"
   ]
  },
  {
   "cell_type": "markdown",
   "id": "d072de1e",
   "metadata": {
    "papermill": {
     "duration": 0.009198,
     "end_time": "2025-05-16T07:07:49.964630",
     "exception": false,
     "start_time": "2025-05-16T07:07:49.955432",
     "status": "completed"
    },
    "tags": []
   },
   "source": [
    "## Initialize Model DistilBertForSequenceClassification Function"
   ]
  },
  {
   "cell_type": "code",
   "execution_count": 18,
   "id": "5cc78ced",
   "metadata": {
    "execution": {
     "iopub.execute_input": "2025-05-16T07:07:49.984747Z",
     "iopub.status.busy": "2025-05-16T07:07:49.984092Z",
     "iopub.status.idle": "2025-05-16T07:07:49.988159Z",
     "shell.execute_reply": "2025-05-16T07:07:49.987574Z"
    },
    "papermill": {
     "duration": 0.01528,
     "end_time": "2025-05-16T07:07:49.989345",
     "exception": false,
     "start_time": "2025-05-16T07:07:49.974065",
     "status": "completed"
    },
    "tags": []
   },
   "outputs": [],
   "source": [
    "def model_init(hidden_dropout: float = 0.1,\n",
    "               attention_dropout: float = 0.1):\n",
    "    \n",
    "    # Create a config\n",
    "    config = DistilBertConfig.from_pretrained(\n",
    "        \"distilbert-base-uncased\",\n",
    "        num_labels = 2,\n",
    "        dropout = hidden_dropout,\n",
    "        attention_dropout = attention_dropout,\n",
    "        output_attentions = False,\n",
    "        output_hidden_states = False\n",
    "    )\n",
    "\n",
    "    # Load the pretrained weights with that config\n",
    "    return DistilBertForSequenceClassification.from_pretrained(\n",
    "        \"distilbert-base-uncased\",\n",
    "        config = config\n",
    "    )"
   ]
  },
  {
   "cell_type": "markdown",
   "id": "bae61722",
   "metadata": {
    "papermill": {
     "duration": 0.009069,
     "end_time": "2025-05-16T07:07:50.007778",
     "exception": false,
     "start_time": "2025-05-16T07:07:49.998709",
     "status": "completed"
    },
    "tags": []
   },
   "source": [
    "## Train and Evaluate Model Function"
   ]
  },
  {
   "cell_type": "code",
   "execution_count": 19,
   "id": "a681fe32",
   "metadata": {
    "execution": {
     "iopub.execute_input": "2025-05-16T07:07:50.027885Z",
     "iopub.status.busy": "2025-05-16T07:07:50.027631Z",
     "iopub.status.idle": "2025-05-16T07:07:50.042058Z",
     "shell.execute_reply": "2025-05-16T07:07:50.041279Z"
    },
    "papermill": {
     "duration": 0.02616,
     "end_time": "2025-05-16T07:07:50.043240",
     "exception": false,
     "start_time": "2025-05-16T07:07:50.017080",
     "status": "completed"
    },
    "tags": []
   },
   "outputs": [],
   "source": [
    "# Train And Evaluate Model Function\n",
    "\n",
    "def train_and_evaluate_model(epochs, total_steps, learning_rate, eps, num_warmup_steps,\n",
    "                            hidden_dropout = 0.1, attention_dropout = 0.1, weight_decay = 0.0):\n",
    "    \n",
    "    # We'll store a number of quantities.\n",
    "    training_stats = []\n",
    "    \n",
    "    # Reinitialize the model for each trial and tell pytorch to run this model on the GPU.\n",
    "    model = model_init(hidden_dropout = hidden_dropout, attention_dropout = attention_dropout).cuda()\n",
    "    \n",
    "    # Initialize Optimizer.\n",
    "    optimizer = AdamW(model.parameters(), lr=learning_rate, eps = eps, weight_decay = weight_decay)\n",
    "    \n",
    "    # Create the learning rate scheduler to dynamically adjust the learning rate.\n",
    "    scheduler = get_linear_schedule_with_warmup(optimizer,\n",
    "                                            num_warmup_steps = num_warmup_steps,\n",
    "                                            num_training_steps = total_steps)\n",
    "    \n",
    "    # Measure the total training time for the whole run.\n",
    "    total_t0 = time.time()\n",
    "    \n",
    "    # For each epoch...\n",
    "    for epoch_i in range(epochs):\n",
    "    \n",
    "        # ========================================\n",
    "        #               Training\n",
    "        # ========================================\n",
    "        \n",
    "        print(\"\")\n",
    "        print('======== Epoch {:} / {:} ========'.format(epoch_i + 1, epochs))\n",
    "        print('Training...')\n",
    "    \n",
    "        t0 = time.time() # Measure how long the training epoch takes.\n",
    "        total_train_loss = 0 # Reset the total loss for this epoch.\n",
    "        model.train() # Put the model into training mode.\n",
    "    \n",
    "        # For each batch of training data...\n",
    "        for step, batch in enumerate(train_dataloader):\n",
    "    \n",
    "            # Progress update every 40 batches.\n",
    "            if step % 40 == 0 and not step == 0:\n",
    "                elapsed = format_time(time.time() - t0) # Calculate elapsed time in minutes.\n",
    "                print('  Batch {:>5,}  of  {:>5,}.    Elapsed: {:}.'.format(step, len(train_dataloader), elapsed))\n",
    "    \n",
    "            # Unpack this training batch from our dataloader and copy each tensor to the GPU with \"to\"\n",
    "            b_input_ids = batch[0].to(device)\n",
    "            b_input_mask = batch[1].to(device)\n",
    "            b_labels = batch[2].to(device)\n",
    "    \n",
    "            # Clear any previously calculated gradients before performing a backward pass.\n",
    "            model.zero_grad()\n",
    "    \n",
    "            # Perform a forward pass (evaluate the model on this training batch).\n",
    "            result = model(\n",
    "                b_input_ids,\n",
    "                # token_type_ids=None,\n",
    "                attention_mask=b_input_mask,\n",
    "                labels=b_labels,\n",
    "                return_dict=True\n",
    "            )\n",
    "            loss = result.loss\n",
    "            logits = result.logits\n",
    "    \n",
    "            # Accumulate the training loss over all of the batches\n",
    "            total_train_loss += loss.item()\n",
    "            \n",
    "            # Perform a backward pass to calculate the gradients.\n",
    "            loss.backward()\n",
    "    \n",
    "            # Clip the norm of the gradients to 1.0.\n",
    "            torch.nn.utils.clip_grad_norm_(model.parameters(), 1.0)\n",
    "    \n",
    "            # Update parameters and take a step using the computed gradient.\n",
    "            optimizer.step()\n",
    "    \n",
    "            # Update the learning rate.\n",
    "            scheduler.step()\n",
    "    \n",
    "        # Calculate the average loss over all of the batches.\n",
    "        avg_train_loss = total_train_loss / len(train_dataloader)\n",
    "    \n",
    "        # Measure how long this epoch took.\n",
    "        training_time = format_time(time.time() - t0)\n",
    "    \n",
    "        print(\"\")\n",
    "        print(\"  Average training loss: {0:.2f}\".format(avg_train_loss))\n",
    "        print(\"  Training epcoh took: {:}\".format(training_time))\n",
    "    \n",
    "        \n",
    "        # ========================================\n",
    "        #               Validation\n",
    "        # ========================================\n",
    "        \n",
    "        print(\"Running Validation...\")\n",
    "    \n",
    "        t0 = time.time()\n",
    "    \n",
    "        # Put the model in evaluation mode\n",
    "        model.eval()\n",
    "    \n",
    "        # Tracking variables\n",
    "        total_eval_accuracy = 0\n",
    "        total_eval_loss = 0\n",
    "        nb_eval_steps = 0\n",
    "    \n",
    "        # Create empty lists to store predictions and true labels\n",
    "        all_preds = []\n",
    "        all_labels = []\n",
    "        all_probs = []\n",
    "        \n",
    "        # Evaluate data for one epoch\n",
    "        for batch in validation_dataloader:\n",
    "    \n",
    "            # Unpack this validation batch from our dataloader and copy each tensor to the GPU with \"to\"\n",
    "            b_input_ids = batch[0].to(device)\n",
    "            b_input_mask = batch[1].to(device)\n",
    "            b_labels = batch[2].to(device)\n",
    "    \n",
    "            # Tell pytorch not to bother with constructing the compute graph during the forward pass, since this is only needed for backprop (training).\n",
    "            with torch.no_grad():\n",
    "                # Forward pass, calculate logit predictions.\n",
    "                result = model(\n",
    "                    b_input_ids,\n",
    "                    # token_type_ids=None,\n",
    "                    attention_mask=b_input_mask,\n",
    "                    labels=b_labels,\n",
    "                    return_dict=True\n",
    "                )\n",
    "    \n",
    "            # Get the loss and \"logits\" output by the model.\n",
    "            loss = result.loss\n",
    "            logits = result.logits # The output values prior to applying an activation function like the softmax\n",
    "    \n",
    "            # Accumulate the validation loss.\n",
    "            total_eval_loss += loss.item()\n",
    "    \n",
    "            # Move logits and labels to CPU\n",
    "            logits = logits.detach().cpu().numpy()\n",
    "            probs = torch.nn.functional.softmax(torch.tensor(logits), dim=1).numpy()  # Convert logits to probs\n",
    "            label_ids = b_labels.to('cpu').numpy()\n",
    "    \n",
    "            # Get predicted labels (argmax over logits)\n",
    "            preds = np.argmax(logits, axis=1)\n",
    "    \n",
    "            # For binary classification, keep the probability of class 1\n",
    "            class1_probs = probs[:, 1]\n",
    "            \n",
    "            # Store predictions and true labels\n",
    "            all_probs.extend(class1_probs)\n",
    "            all_preds.extend(preds)\n",
    "            all_labels.extend(label_ids)\n",
    "    \n",
    "            # Calculate the accuracy for this batch of test sentences, and accumulate it over all batches.\n",
    "            total_eval_accuracy += flat_accuracy(logits, label_ids)\n",
    "    \n",
    "        # Save validation results from final epoch\n",
    "        if epoch_i == epochs - 1:\n",
    "            final_labels = all_labels\n",
    "            final_preds = all_preds\n",
    "            final_probs = all_probs\n",
    "        \n",
    "         # Report the final accuracy for this validation run.\n",
    "        avg_val_accuracy = total_eval_accuracy / len(validation_dataloader)\n",
    "        print(\"  Accuracy: {0:.4f}\".format(avg_val_accuracy))\n",
    "    \n",
    "        # Calculate the average loss over all of the batches.\n",
    "        avg_val_loss = total_eval_loss / len(validation_dataloader)\n",
    "        print(\"  Validation Loss: {0:.2f}\".format(avg_val_loss))\n",
    "    \n",
    "        # Measure how long the validation run took.\n",
    "        validation_time = format_time(time.time() - t0)\n",
    "        print(\"  Validation took: {:}\".format(validation_time))\n",
    "    \n",
    "        # Record all statistics from this epoch.\n",
    "        training_stats.append(\n",
    "            {\n",
    "                'epoch': epoch_i + 1,\n",
    "                'Training Loss': avg_train_loss,\n",
    "                'Valid. Loss': avg_val_loss,\n",
    "                'Valid. Accur.': avg_val_accuracy,\n",
    "                'Training Time': training_time,\n",
    "                'Validation Time': validation_time\n",
    "            }\n",
    "        )\n",
    "    \n",
    "    # Training Complete\n",
    "    print(\"\")\n",
    "    print(\"Training complete!\")\n",
    "    print(\"Total training took {:} (h:mm:ss)\".format(format_time(time.time()-total_t0)))\n",
    "        \n",
    "    return final_labels, final_preds, final_probs, training_stats, model, avg_val_loss"
   ]
  },
  {
   "cell_type": "markdown",
   "id": "2b1db767",
   "metadata": {
    "papermill": {
     "duration": 0.009033,
     "end_time": "2025-05-16T07:07:50.061829",
     "exception": false,
     "start_time": "2025-05-16T07:07:50.052796",
     "status": "completed"
    },
    "tags": []
   },
   "source": [
    "## Print evaluation function"
   ]
  },
  {
   "cell_type": "code",
   "execution_count": 20,
   "id": "a7f7be6b",
   "metadata": {
    "execution": {
     "iopub.execute_input": "2025-05-16T07:07:50.084558Z",
     "iopub.status.busy": "2025-05-16T07:07:50.084267Z",
     "iopub.status.idle": "2025-05-16T07:07:50.090608Z",
     "shell.execute_reply": "2025-05-16T07:07:50.090085Z"
    },
    "papermill": {
     "duration": 0.019144,
     "end_time": "2025-05-16T07:07:50.091681",
     "exception": false,
     "start_time": "2025-05-16T07:07:50.072537",
     "status": "completed"
    },
    "tags": []
   },
   "outputs": [],
   "source": [
    "def print_evaluate(final_labels, final_preds, final_probs, training_stats):\n",
    "\n",
    "    # Print the Accuracy\n",
    "    print(\"Validation Accuracy: {0:.4f}\".format(training_stats[-1]['Valid. Accur.']))\n",
    "    \n",
    "    # Print the Classification Report\n",
    "    print(\"\\nClassification Report:\")\n",
    "    print(classification_report(final_labels, final_preds))\n",
    "    \n",
    "    # Display floats with two decimal places.\n",
    "    pd.options.display.precision = 2\n",
    "    \n",
    "    # Create a DataFrame from our training statistics.\n",
    "    df_stats = pd.DataFrame(data=training_stats)\n",
    "    df_stats = df_stats.set_index('epoch') # Use the 'epoch' as the row index.\n",
    "    df_stats # Display the table.\n",
    "    \n",
    "    # Plot the learning curve.\n",
    "    sns.set(style='darkgrid') # Use plot styling from seaborn. \n",
    "    sns.set(font_scale=1.5) # Increase the plot size and font size.\n",
    "    plt.rcParams[\"figure.figsize\"] = (8,4)\n",
    "    plt.plot(df_stats['Training Loss'], 'b-o', label=\"Training\")\n",
    "    plt.plot(df_stats['Valid. Loss'], 'g-o', label=\"Validation\")\n",
    "    plt.title(\"Training & Validation Loss\")\n",
    "    plt.xlabel(\"Epoch\")\n",
    "    plt.ylabel(\"Loss\")\n",
    "    plt.legend()\n",
    "    plt.xticks(df_stats.index)\n",
    "    plt.show()\n",
    "\n",
    "    # Plot the validation accuracy.\n",
    "    sns.set(style='darkgrid')\n",
    "    sns.set(font_scale=1.5)\n",
    "    plt.rcParams[\"figure.figsize\"] = (8, 4)\n",
    "    plt.plot(df_stats['Valid. Accur.'], 'r-o', label=\"Validation Accuracy\")\n",
    "    plt.title(\"Validation Accuracy Across Epochs\")\n",
    "    plt.xlabel(\"Epoch\")\n",
    "    plt.ylabel(\"Accuracy\")\n",
    "    plt.legend()\n",
    "    plt.xticks(df_stats.index)\n",
    "    plt.show()\n",
    "\n",
    "    # Print Confusion Matrix and ROC Curve\n",
    "    print_confusion_matrix(final_labels, final_preds)\n",
    "    print_roc(final_labels, final_probs)"
   ]
  },
  {
   "cell_type": "markdown",
   "id": "b2561771",
   "metadata": {
    "papermill": {
     "duration": 0.008772,
     "end_time": "2025-05-16T07:07:50.109745",
     "exception": false,
     "start_time": "2025-05-16T07:07:50.100973",
     "status": "completed"
    },
    "tags": []
   },
   "source": [
    "# Final Model"
   ]
  },
  {
   "cell_type": "markdown",
   "id": "84a101da",
   "metadata": {
    "papermill": {
     "duration": 0.008969,
     "end_time": "2025-05-16T07:07:50.127619",
     "exception": false,
     "start_time": "2025-05-16T07:07:50.118650",
     "status": "completed"
    },
    "tags": []
   },
   "source": [
    "## Get Dataloaders"
   ]
  },
  {
   "cell_type": "code",
   "execution_count": 21,
   "id": "435a2b63",
   "metadata": {
    "execution": {
     "iopub.execute_input": "2025-05-16T07:07:50.146843Z",
     "iopub.status.busy": "2025-05-16T07:07:50.146570Z",
     "iopub.status.idle": "2025-05-16T07:09:09.914562Z",
     "shell.execute_reply": "2025-05-16T07:09:09.913679Z"
    },
    "papermill": {
     "duration": 79.779338,
     "end_time": "2025-05-16T07:09:09.915914",
     "exception": false,
     "start_time": "2025-05-16T07:07:50.136576",
     "status": "completed"
    },
    "tags": []
   },
   "outputs": [
    {
     "name": "stderr",
     "output_type": "stream",
     "text": [
      "Truncation was not explicitly activated but `max_length` is provided a specific value, please use `truncation=True` to explicitly truncate examples to max length. Defaulting to 'longest_first' truncation strategy. If you encode pairs of sequences (GLUE-style) with the tokenizer you can select this strategy more precisely by providing a specific strategy to `truncation`.\n",
      "/usr/local/lib/python3.11/dist-packages/transformers/tokenization_utils_base.py:2700: FutureWarning: The `pad_to_max_length` argument is deprecated and will be removed in a future version, use `padding=True` or `padding='longest'` to pad to the longest sequence in the batch, or use `padding='max_length'` to pad to a max length. In this case, you can give a specific length with `max_length` (e.g. `max_length=45`) or leave max_length to None to pad to the maximal input size of the model (e.g. 512 for Bert).\n",
      "  warnings.warn(\n"
     ]
    },
    {
     "name": "stdout",
     "output_type": "stream",
     "text": [
      "Generated Train Dataset\n",
      "Generated Validation Dataset\n",
      "Generated Dataloaders\n"
     ]
    }
   ],
   "source": [
    "# Get train dataset\n",
    "train_dataset = tokenize_dataset(sentences_train, labels_train)\n",
    "print(\"Generated Train Dataset\")\n",
    "\n",
    "# Get validation dataset\n",
    "val_dataset = tokenize_dataset(sentences_val, labels_val)\n",
    "print(\"Generated Validation Dataset\")\n",
    "\n",
    "# Get dataloaders\n",
    "batch_size = 32\n",
    "train_dataloader, validation_dataloader = get_dataloaders(batch_size)\n",
    "print(\"Generated Dataloaders\")"
   ]
  },
  {
   "cell_type": "markdown",
   "id": "b0c49010",
   "metadata": {
    "papermill": {
     "duration": 0.009051,
     "end_time": "2025-05-16T07:09:09.934902",
     "exception": false,
     "start_time": "2025-05-16T07:09:09.925851",
     "status": "completed"
    },
    "tags": []
   },
   "source": [
    "## Train best Model"
   ]
  },
  {
   "cell_type": "code",
   "execution_count": 22,
   "id": "74ab3f72",
   "metadata": {
    "execution": {
     "iopub.execute_input": "2025-05-16T07:09:09.954356Z",
     "iopub.status.busy": "2025-05-16T07:09:09.953717Z",
     "iopub.status.idle": "2025-05-16T07:40:27.681002Z",
     "shell.execute_reply": "2025-05-16T07:40:27.680096Z"
    },
    "papermill": {
     "duration": 1877.758836,
     "end_time": "2025-05-16T07:40:27.702833",
     "exception": false,
     "start_time": "2025-05-16T07:09:09.943997",
     "status": "completed"
    },
    "tags": []
   },
   "outputs": [
    {
     "name": "stderr",
     "output_type": "stream",
     "text": [
      "Xet Storage is enabled for this repo, but the 'hf_xet' package is not installed. Falling back to regular HTTP download. For better performance, install the package with: `pip install huggingface_hub[hf_xet]` or `pip install hf_xet`\n"
     ]
    },
    {
     "data": {
      "application/vnd.jupyter.widget-view+json": {
       "model_id": "cc399696f9e34b4b80149a4b9472f972",
       "version_major": 2,
       "version_minor": 0
      },
      "text/plain": [
       "model.safetensors:   0%|          | 0.00/268M [00:00<?, ?B/s]"
      ]
     },
     "metadata": {},
     "output_type": "display_data"
    },
    {
     "name": "stderr",
     "output_type": "stream",
     "text": [
      "Some weights of DistilBertForSequenceClassification were not initialized from the model checkpoint at distilbert-base-uncased and are newly initialized: ['classifier.bias', 'classifier.weight', 'pre_classifier.bias', 'pre_classifier.weight']\n",
      "You should probably TRAIN this model on a down-stream task to be able to use it for predictions and inference.\n"
     ]
    },
    {
     "name": "stdout",
     "output_type": "stream",
     "text": [
      "\n",
      "======== Epoch 1 / 2 ========\n",
      "Training...\n",
      "  Batch    40  of  4,638.    Elapsed: 0:00:08.\n",
      "  Batch    80  of  4,638.    Elapsed: 0:00:16.\n",
      "  Batch   120  of  4,638.    Elapsed: 0:00:23.\n",
      "  Batch   160  of  4,638.    Elapsed: 0:00:30.\n",
      "  Batch   200  of  4,638.    Elapsed: 0:00:38.\n",
      "  Batch   240  of  4,638.    Elapsed: 0:00:45.\n",
      "  Batch   280  of  4,638.    Elapsed: 0:00:53.\n",
      "  Batch   320  of  4,638.    Elapsed: 0:01:00.\n",
      "  Batch   360  of  4,638.    Elapsed: 0:01:08.\n",
      "  Batch   400  of  4,638.    Elapsed: 0:01:15.\n",
      "  Batch   440  of  4,638.    Elapsed: 0:01:23.\n",
      "  Batch   480  of  4,638.    Elapsed: 0:01:30.\n",
      "  Batch   520  of  4,638.    Elapsed: 0:01:38.\n",
      "  Batch   560  of  4,638.    Elapsed: 0:01:45.\n",
      "  Batch   600  of  4,638.    Elapsed: 0:01:53.\n",
      "  Batch   640  of  4,638.    Elapsed: 0:02:00.\n",
      "  Batch   680  of  4,638.    Elapsed: 0:02:08.\n",
      "  Batch   720  of  4,638.    Elapsed: 0:02:15.\n",
      "  Batch   760  of  4,638.    Elapsed: 0:02:23.\n",
      "  Batch   800  of  4,638.    Elapsed: 0:02:30.\n",
      "  Batch   840  of  4,638.    Elapsed: 0:02:38.\n",
      "  Batch   880  of  4,638.    Elapsed: 0:02:45.\n",
      "  Batch   920  of  4,638.    Elapsed: 0:02:53.\n",
      "  Batch   960  of  4,638.    Elapsed: 0:03:00.\n",
      "  Batch 1,000  of  4,638.    Elapsed: 0:03:08.\n",
      "  Batch 1,040  of  4,638.    Elapsed: 0:03:15.\n",
      "  Batch 1,080  of  4,638.    Elapsed: 0:03:23.\n",
      "  Batch 1,120  of  4,638.    Elapsed: 0:03:30.\n",
      "  Batch 1,160  of  4,638.    Elapsed: 0:03:38.\n",
      "  Batch 1,200  of  4,638.    Elapsed: 0:03:45.\n",
      "  Batch 1,240  of  4,638.    Elapsed: 0:03:53.\n",
      "  Batch 1,280  of  4,638.    Elapsed: 0:04:00.\n",
      "  Batch 1,320  of  4,638.    Elapsed: 0:04:08.\n",
      "  Batch 1,360  of  4,638.    Elapsed: 0:04:15.\n",
      "  Batch 1,400  of  4,638.    Elapsed: 0:04:23.\n",
      "  Batch 1,440  of  4,638.    Elapsed: 0:04:30.\n",
      "  Batch 1,480  of  4,638.    Elapsed: 0:04:38.\n",
      "  Batch 1,520  of  4,638.    Elapsed: 0:04:45.\n",
      "  Batch 1,560  of  4,638.    Elapsed: 0:04:53.\n",
      "  Batch 1,600  of  4,638.    Elapsed: 0:05:00.\n",
      "  Batch 1,640  of  4,638.    Elapsed: 0:05:08.\n",
      "  Batch 1,680  of  4,638.    Elapsed: 0:05:15.\n",
      "  Batch 1,720  of  4,638.    Elapsed: 0:05:23.\n",
      "  Batch 1,760  of  4,638.    Elapsed: 0:05:30.\n",
      "  Batch 1,800  of  4,638.    Elapsed: 0:05:38.\n",
      "  Batch 1,840  of  4,638.    Elapsed: 0:05:45.\n",
      "  Batch 1,880  of  4,638.    Elapsed: 0:05:53.\n",
      "  Batch 1,920  of  4,638.    Elapsed: 0:06:00.\n",
      "  Batch 1,960  of  4,638.    Elapsed: 0:06:08.\n",
      "  Batch 2,000  of  4,638.    Elapsed: 0:06:15.\n",
      "  Batch 2,040  of  4,638.    Elapsed: 0:06:23.\n",
      "  Batch 2,080  of  4,638.    Elapsed: 0:06:30.\n",
      "  Batch 2,120  of  4,638.    Elapsed: 0:06:38.\n",
      "  Batch 2,160  of  4,638.    Elapsed: 0:06:45.\n",
      "  Batch 2,200  of  4,638.    Elapsed: 0:06:53.\n",
      "  Batch 2,240  of  4,638.    Elapsed: 0:07:00.\n",
      "  Batch 2,280  of  4,638.    Elapsed: 0:07:08.\n",
      "  Batch 2,320  of  4,638.    Elapsed: 0:07:15.\n",
      "  Batch 2,360  of  4,638.    Elapsed: 0:07:23.\n",
      "  Batch 2,400  of  4,638.    Elapsed: 0:07:30.\n",
      "  Batch 2,440  of  4,638.    Elapsed: 0:07:38.\n",
      "  Batch 2,480  of  4,638.    Elapsed: 0:07:45.\n",
      "  Batch 2,520  of  4,638.    Elapsed: 0:07:53.\n",
      "  Batch 2,560  of  4,638.    Elapsed: 0:08:00.\n",
      "  Batch 2,600  of  4,638.    Elapsed: 0:08:08.\n",
      "  Batch 2,640  of  4,638.    Elapsed: 0:08:15.\n",
      "  Batch 2,680  of  4,638.    Elapsed: 0:08:23.\n",
      "  Batch 2,720  of  4,638.    Elapsed: 0:08:30.\n",
      "  Batch 2,760  of  4,638.    Elapsed: 0:08:38.\n",
      "  Batch 2,800  of  4,638.    Elapsed: 0:08:45.\n",
      "  Batch 2,840  of  4,638.    Elapsed: 0:08:53.\n",
      "  Batch 2,880  of  4,638.    Elapsed: 0:09:00.\n",
      "  Batch 2,920  of  4,638.    Elapsed: 0:09:08.\n",
      "  Batch 2,960  of  4,638.    Elapsed: 0:09:15.\n",
      "  Batch 3,000  of  4,638.    Elapsed: 0:09:22.\n",
      "  Batch 3,040  of  4,638.    Elapsed: 0:09:30.\n",
      "  Batch 3,080  of  4,638.    Elapsed: 0:09:37.\n",
      "  Batch 3,120  of  4,638.    Elapsed: 0:09:45.\n",
      "  Batch 3,160  of  4,638.    Elapsed: 0:09:52.\n",
      "  Batch 3,200  of  4,638.    Elapsed: 0:10:00.\n",
      "  Batch 3,240  of  4,638.    Elapsed: 0:10:07.\n",
      "  Batch 3,280  of  4,638.    Elapsed: 0:10:15.\n",
      "  Batch 3,320  of  4,638.    Elapsed: 0:10:22.\n",
      "  Batch 3,360  of  4,638.    Elapsed: 0:10:30.\n",
      "  Batch 3,400  of  4,638.    Elapsed: 0:10:37.\n",
      "  Batch 3,440  of  4,638.    Elapsed: 0:10:45.\n",
      "  Batch 3,480  of  4,638.    Elapsed: 0:10:52.\n",
      "  Batch 3,520  of  4,638.    Elapsed: 0:11:00.\n",
      "  Batch 3,560  of  4,638.    Elapsed: 0:11:07.\n",
      "  Batch 3,600  of  4,638.    Elapsed: 0:11:15.\n",
      "  Batch 3,640  of  4,638.    Elapsed: 0:11:22.\n",
      "  Batch 3,680  of  4,638.    Elapsed: 0:11:30.\n",
      "  Batch 3,720  of  4,638.    Elapsed: 0:11:37.\n",
      "  Batch 3,760  of  4,638.    Elapsed: 0:11:45.\n",
      "  Batch 3,800  of  4,638.    Elapsed: 0:11:52.\n",
      "  Batch 3,840  of  4,638.    Elapsed: 0:12:00.\n",
      "  Batch 3,880  of  4,638.    Elapsed: 0:12:07.\n",
      "  Batch 3,920  of  4,638.    Elapsed: 0:12:15.\n",
      "  Batch 3,960  of  4,638.    Elapsed: 0:12:22.\n",
      "  Batch 4,000  of  4,638.    Elapsed: 0:12:30.\n",
      "  Batch 4,040  of  4,638.    Elapsed: 0:12:37.\n",
      "  Batch 4,080  of  4,638.    Elapsed: 0:12:45.\n",
      "  Batch 4,120  of  4,638.    Elapsed: 0:12:52.\n",
      "  Batch 4,160  of  4,638.    Elapsed: 0:13:00.\n",
      "  Batch 4,200  of  4,638.    Elapsed: 0:13:07.\n",
      "  Batch 4,240  of  4,638.    Elapsed: 0:13:15.\n",
      "  Batch 4,280  of  4,638.    Elapsed: 0:13:22.\n",
      "  Batch 4,320  of  4,638.    Elapsed: 0:13:30.\n",
      "  Batch 4,360  of  4,638.    Elapsed: 0:13:37.\n",
      "  Batch 4,400  of  4,638.    Elapsed: 0:13:45.\n",
      "  Batch 4,440  of  4,638.    Elapsed: 0:13:52.\n",
      "  Batch 4,480  of  4,638.    Elapsed: 0:14:00.\n",
      "  Batch 4,520  of  4,638.    Elapsed: 0:14:07.\n",
      "  Batch 4,560  of  4,638.    Elapsed: 0:14:15.\n",
      "  Batch 4,600  of  4,638.    Elapsed: 0:14:22.\n",
      "\n",
      "  Average training loss: 0.40\n",
      "  Training epcoh took: 0:14:29\n",
      "Running Validation...\n",
      "  Accuracy: 0.8421\n",
      "  Validation Loss: 0.36\n",
      "  Validation took: 0:01:09\n",
      "\n",
      "======== Epoch 2 / 2 ========\n",
      "Training...\n",
      "  Batch    40  of  4,638.    Elapsed: 0:00:07.\n",
      "  Batch    80  of  4,638.    Elapsed: 0:00:15.\n",
      "  Batch   120  of  4,638.    Elapsed: 0:00:22.\n",
      "  Batch   160  of  4,638.    Elapsed: 0:00:30.\n",
      "  Batch   200  of  4,638.    Elapsed: 0:00:37.\n",
      "  Batch   240  of  4,638.    Elapsed: 0:00:45.\n",
      "  Batch   280  of  4,638.    Elapsed: 0:00:52.\n",
      "  Batch   320  of  4,638.    Elapsed: 0:01:00.\n",
      "  Batch   360  of  4,638.    Elapsed: 0:01:07.\n",
      "  Batch   400  of  4,638.    Elapsed: 0:01:15.\n",
      "  Batch   440  of  4,638.    Elapsed: 0:01:22.\n",
      "  Batch   480  of  4,638.    Elapsed: 0:01:30.\n",
      "  Batch   520  of  4,638.    Elapsed: 0:01:37.\n",
      "  Batch   560  of  4,638.    Elapsed: 0:01:45.\n",
      "  Batch   600  of  4,638.    Elapsed: 0:01:52.\n",
      "  Batch   640  of  4,638.    Elapsed: 0:02:00.\n",
      "  Batch   680  of  4,638.    Elapsed: 0:02:07.\n",
      "  Batch   720  of  4,638.    Elapsed: 0:02:15.\n",
      "  Batch   760  of  4,638.    Elapsed: 0:02:22.\n",
      "  Batch   800  of  4,638.    Elapsed: 0:02:30.\n",
      "  Batch   840  of  4,638.    Elapsed: 0:02:37.\n",
      "  Batch   880  of  4,638.    Elapsed: 0:02:45.\n",
      "  Batch   920  of  4,638.    Elapsed: 0:02:52.\n",
      "  Batch   960  of  4,638.    Elapsed: 0:03:00.\n",
      "  Batch 1,000  of  4,638.    Elapsed: 0:03:07.\n",
      "  Batch 1,040  of  4,638.    Elapsed: 0:03:15.\n",
      "  Batch 1,080  of  4,638.    Elapsed: 0:03:22.\n",
      "  Batch 1,120  of  4,638.    Elapsed: 0:03:30.\n",
      "  Batch 1,160  of  4,638.    Elapsed: 0:03:37.\n",
      "  Batch 1,200  of  4,638.    Elapsed: 0:03:45.\n",
      "  Batch 1,240  of  4,638.    Elapsed: 0:03:52.\n",
      "  Batch 1,280  of  4,638.    Elapsed: 0:04:00.\n",
      "  Batch 1,320  of  4,638.    Elapsed: 0:04:07.\n",
      "  Batch 1,360  of  4,638.    Elapsed: 0:04:15.\n",
      "  Batch 1,400  of  4,638.    Elapsed: 0:04:22.\n",
      "  Batch 1,440  of  4,638.    Elapsed: 0:04:30.\n",
      "  Batch 1,480  of  4,638.    Elapsed: 0:04:37.\n",
      "  Batch 1,520  of  4,638.    Elapsed: 0:04:45.\n",
      "  Batch 1,560  of  4,638.    Elapsed: 0:04:52.\n",
      "  Batch 1,600  of  4,638.    Elapsed: 0:05:00.\n",
      "  Batch 1,640  of  4,638.    Elapsed: 0:05:07.\n",
      "  Batch 1,680  of  4,638.    Elapsed: 0:05:15.\n",
      "  Batch 1,720  of  4,638.    Elapsed: 0:05:22.\n",
      "  Batch 1,760  of  4,638.    Elapsed: 0:05:30.\n",
      "  Batch 1,800  of  4,638.    Elapsed: 0:05:37.\n",
      "  Batch 1,840  of  4,638.    Elapsed: 0:05:45.\n",
      "  Batch 1,880  of  4,638.    Elapsed: 0:05:52.\n",
      "  Batch 1,920  of  4,638.    Elapsed: 0:06:00.\n",
      "  Batch 1,960  of  4,638.    Elapsed: 0:06:07.\n",
      "  Batch 2,000  of  4,638.    Elapsed: 0:06:14.\n",
      "  Batch 2,040  of  4,638.    Elapsed: 0:06:22.\n",
      "  Batch 2,080  of  4,638.    Elapsed: 0:06:29.\n",
      "  Batch 2,120  of  4,638.    Elapsed: 0:06:37.\n",
      "  Batch 2,160  of  4,638.    Elapsed: 0:06:44.\n",
      "  Batch 2,200  of  4,638.    Elapsed: 0:06:52.\n",
      "  Batch 2,240  of  4,638.    Elapsed: 0:06:59.\n",
      "  Batch 2,280  of  4,638.    Elapsed: 0:07:07.\n",
      "  Batch 2,320  of  4,638.    Elapsed: 0:07:14.\n",
      "  Batch 2,360  of  4,638.    Elapsed: 0:07:22.\n",
      "  Batch 2,400  of  4,638.    Elapsed: 0:07:29.\n",
      "  Batch 2,440  of  4,638.    Elapsed: 0:07:37.\n",
      "  Batch 2,480  of  4,638.    Elapsed: 0:07:44.\n",
      "  Batch 2,520  of  4,638.    Elapsed: 0:07:52.\n",
      "  Batch 2,560  of  4,638.    Elapsed: 0:07:59.\n",
      "  Batch 2,600  of  4,638.    Elapsed: 0:08:07.\n",
      "  Batch 2,640  of  4,638.    Elapsed: 0:08:14.\n",
      "  Batch 2,680  of  4,638.    Elapsed: 0:08:22.\n",
      "  Batch 2,720  of  4,638.    Elapsed: 0:08:29.\n",
      "  Batch 2,760  of  4,638.    Elapsed: 0:08:37.\n",
      "  Batch 2,800  of  4,638.    Elapsed: 0:08:44.\n",
      "  Batch 2,840  of  4,638.    Elapsed: 0:08:52.\n",
      "  Batch 2,880  of  4,638.    Elapsed: 0:08:59.\n",
      "  Batch 2,920  of  4,638.    Elapsed: 0:09:07.\n",
      "  Batch 2,960  of  4,638.    Elapsed: 0:09:14.\n",
      "  Batch 3,000  of  4,638.    Elapsed: 0:09:22.\n",
      "  Batch 3,040  of  4,638.    Elapsed: 0:09:29.\n",
      "  Batch 3,080  of  4,638.    Elapsed: 0:09:37.\n",
      "  Batch 3,120  of  4,638.    Elapsed: 0:09:44.\n",
      "  Batch 3,160  of  4,638.    Elapsed: 0:09:52.\n",
      "  Batch 3,200  of  4,638.    Elapsed: 0:09:59.\n",
      "  Batch 3,240  of  4,638.    Elapsed: 0:10:07.\n",
      "  Batch 3,280  of  4,638.    Elapsed: 0:10:14.\n",
      "  Batch 3,320  of  4,638.    Elapsed: 0:10:22.\n",
      "  Batch 3,360  of  4,638.    Elapsed: 0:10:29.\n",
      "  Batch 3,400  of  4,638.    Elapsed: 0:10:37.\n",
      "  Batch 3,440  of  4,638.    Elapsed: 0:10:44.\n",
      "  Batch 3,480  of  4,638.    Elapsed: 0:10:52.\n",
      "  Batch 3,520  of  4,638.    Elapsed: 0:10:59.\n",
      "  Batch 3,560  of  4,638.    Elapsed: 0:11:07.\n",
      "  Batch 3,600  of  4,638.    Elapsed: 0:11:14.\n",
      "  Batch 3,640  of  4,638.    Elapsed: 0:11:22.\n",
      "  Batch 3,680  of  4,638.    Elapsed: 0:11:29.\n",
      "  Batch 3,720  of  4,638.    Elapsed: 0:11:37.\n",
      "  Batch 3,760  of  4,638.    Elapsed: 0:11:44.\n",
      "  Batch 3,800  of  4,638.    Elapsed: 0:11:52.\n",
      "  Batch 3,840  of  4,638.    Elapsed: 0:11:59.\n",
      "  Batch 3,880  of  4,638.    Elapsed: 0:12:07.\n",
      "  Batch 3,920  of  4,638.    Elapsed: 0:12:14.\n",
      "  Batch 3,960  of  4,638.    Elapsed: 0:12:22.\n",
      "  Batch 4,000  of  4,638.    Elapsed: 0:12:29.\n",
      "  Batch 4,040  of  4,638.    Elapsed: 0:12:37.\n",
      "  Batch 4,080  of  4,638.    Elapsed: 0:12:44.\n",
      "  Batch 4,120  of  4,638.    Elapsed: 0:12:52.\n",
      "  Batch 4,160  of  4,638.    Elapsed: 0:12:59.\n",
      "  Batch 4,200  of  4,638.    Elapsed: 0:13:07.\n",
      "  Batch 4,240  of  4,638.    Elapsed: 0:13:14.\n",
      "  Batch 4,280  of  4,638.    Elapsed: 0:13:21.\n",
      "  Batch 4,320  of  4,638.    Elapsed: 0:13:29.\n",
      "  Batch 4,360  of  4,638.    Elapsed: 0:13:36.\n",
      "  Batch 4,400  of  4,638.    Elapsed: 0:13:44.\n",
      "  Batch 4,440  of  4,638.    Elapsed: 0:13:51.\n",
      "  Batch 4,480  of  4,638.    Elapsed: 0:13:59.\n",
      "  Batch 4,520  of  4,638.    Elapsed: 0:14:06.\n",
      "  Batch 4,560  of  4,638.    Elapsed: 0:14:14.\n",
      "  Batch 4,600  of  4,638.    Elapsed: 0:14:21.\n",
      "\n",
      "  Average training loss: 0.31\n",
      "  Training epcoh took: 0:14:28\n",
      "Running Validation...\n",
      "  Accuracy: 0.8468\n",
      "  Validation Loss: 0.36\n",
      "  Validation took: 0:01:09\n",
      "\n",
      "Training complete!\n",
      "Total training took 0:31:16 (h:mm:ss)\n"
     ]
    }
   ],
   "source": [
    "# Configure Hyper Parameters\n",
    "epochs = 2\n",
    "total_steps = len(train_dataloader) * epochs\n",
    "learning_rate = 2e-5\n",
    "eps = 1e-8\n",
    "num_warmup_steps = 0\n",
    "hidden_dropouts = 0.1\n",
    "attention_dropout = 0.2\n",
    "weight_decay = 0.2\n",
    "\n",
    "# Train\n",
    "results = train_and_evaluate_model(epochs, total_steps, learning_rate, eps, num_warmup_steps, \n",
    "                                   hidden_dropouts, attention_dropout, weight_decay)\n",
    "final_labels, final_preds, final_probs, training_stats, model, avg_val_loss = results"
   ]
  },
  {
   "cell_type": "markdown",
   "id": "c2208f7d",
   "metadata": {
    "papermill": {
     "duration": 0.017713,
     "end_time": "2025-05-16T07:40:27.739253",
     "exception": false,
     "start_time": "2025-05-16T07:40:27.721540",
     "status": "completed"
    },
    "tags": []
   },
   "source": [
    "## Evaluatation"
   ]
  },
  {
   "cell_type": "code",
   "execution_count": 23,
   "id": "83ddb0d0",
   "metadata": {
    "execution": {
     "iopub.execute_input": "2025-05-16T07:40:27.776779Z",
     "iopub.status.busy": "2025-05-16T07:40:27.776516Z",
     "iopub.status.idle": "2025-05-16T07:40:28.541676Z",
     "shell.execute_reply": "2025-05-16T07:40:28.540994Z"
    },
    "papermill": {
     "duration": 0.785513,
     "end_time": "2025-05-16T07:40:28.543006",
     "exception": false,
     "start_time": "2025-05-16T07:40:27.757493",
     "status": "completed"
    },
    "tags": []
   },
   "outputs": [
    {
     "name": "stdout",
     "output_type": "stream",
     "text": [
      "Validation Accuracy: 0.8468\n",
      "\n",
      "Classification Report:\n",
      "              precision    recall  f1-score   support\n",
      "\n",
      "           0       0.85      0.85      0.85     21197\n",
      "           1       0.85      0.85      0.85     21199\n",
      "\n",
      "    accuracy                           0.85     42396\n",
      "   macro avg       0.85      0.85      0.85     42396\n",
      "weighted avg       0.85      0.85      0.85     42396\n",
      "\n"
     ]
    },
    {
     "data": {
      "image/png": "[encoded data removed]",
      "text/plain": [
       "<Figure size 800x400 with 1 Axes>"
      ]
     },
     "metadata": {},
     "output_type": "display_data"
    },
    {
     "data": {
      "image/png": "[encoded data removed]",
      "text/plain": [
       "<Figure size 800x400 with 1 Axes>"
      ]
     },
     "metadata": {},
     "output_type": "display_data"
    },
    {
     "data": {
      "image/png": "[encoded data removed]",
      "text/plain": [
       "<Figure size 600x500 with 1 Axes>"
      ]
     },
     "metadata": {},
     "output_type": "display_data"
    },
    {
     "data": {
      "image/png": "[encoded data removed]",
      "text/plain": [
       "<Figure size 800x600 with 1 Axes>"
      ]
     },
     "metadata": {},
     "output_type": "display_data"
    }
   ],
   "source": [
    "# Evaluation\n",
    "print_evaluate(final_labels, final_preds, final_probs, training_stats)"
   ]
  },
  {
   "cell_type": "markdown",
   "id": "3b9e9dd6",
   "metadata": {
    "papermill": {
     "duration": 0.020625,
     "end_time": "2025-05-16T07:40:28.585435",
     "exception": false,
     "start_time": "2025-05-16T07:40:28.564810",
     "status": "completed"
    },
    "tags": []
   },
   "source": [
    "# Performance on the Test Set"
   ]
  },
  {
   "cell_type": "markdown",
   "id": "245efefe",
   "metadata": {
    "papermill": {
     "duration": 0.020359,
     "end_time": "2025-05-16T07:40:28.626554",
     "exception": false,
     "start_time": "2025-05-16T07:40:28.606195",
     "status": "completed"
    },
    "tags": []
   },
   "source": [
    "## Data Preparation"
   ]
  },
  {
   "cell_type": "code",
   "execution_count": 24,
   "id": "9079604e",
   "metadata": {
    "execution": {
     "iopub.execute_input": "2025-05-16T07:40:28.668843Z",
     "iopub.status.busy": "2025-05-16T07:40:28.668304Z",
     "iopub.status.idle": "2025-05-16T07:40:37.767109Z",
     "shell.execute_reply": "2025-05-16T07:40:37.766469Z"
    },
    "papermill": {
     "duration": 9.121553,
     "end_time": "2025-05-16T07:40:37.768540",
     "exception": false,
     "start_time": "2025-05-16T07:40:28.646987",
     "status": "completed"
    },
    "tags": []
   },
   "outputs": [
    {
     "name": "stderr",
     "output_type": "stream",
     "text": [
      "/usr/local/lib/python3.11/dist-packages/transformers/tokenization_utils_base.py:2700: FutureWarning: The `pad_to_max_length` argument is deprecated and will be removed in a future version, use `padding=True` or `padding='longest'` to pad to the longest sequence in the batch, or use `padding='max_length'` to pad to a max length. In this case, you can give a specific length with `max_length` (e.g. `max_length=45`) or leave max_length to None to pad to the maximal input size of the model (e.g. 512 for Bert).\n",
      "  warnings.warn(\n"
     ]
    }
   ],
   "source": [
    "test_dataset = tokenize_dataset(sentences_test)\n",
    "prediction_sampler = SequentialSampler(test_dataset)\n",
    "prediction_dataloader = DataLoader(test_dataset, sampler=prediction_sampler, batch_size=batch_size)"
   ]
  },
  {
   "cell_type": "markdown",
   "id": "fcd81eed",
   "metadata": {
    "papermill": {
     "duration": 0.021253,
     "end_time": "2025-05-16T07:40:37.811798",
     "exception": false,
     "start_time": "2025-05-16T07:40:37.790545",
     "status": "completed"
    },
    "tags": []
   },
   "source": [
    "## Evaluate on Test Set"
   ]
  },
  {
   "cell_type": "code",
   "execution_count": 25,
   "id": "580e0325",
   "metadata": {
    "execution": {
     "iopub.execute_input": "2025-05-16T07:40:37.855150Z",
     "iopub.status.busy": "2025-05-16T07:40:37.854816Z",
     "iopub.status.idle": "2025-05-16T07:41:11.995874Z",
     "shell.execute_reply": "2025-05-16T07:41:11.995133Z"
    },
    "papermill": {
     "duration": 34.185377,
     "end_time": "2025-05-16T07:41:12.018025",
     "exception": false,
     "start_time": "2025-05-16T07:40:37.832648",
     "status": "completed"
    },
    "tags": []
   },
   "outputs": [
    {
     "name": "stdout",
     "output_type": "stream",
     "text": [
      "Predicting labels for 37 test sentences...\n",
      "    DONE.\n"
     ]
    }
   ],
   "source": [
    "# Prediction on test set\n",
    "\n",
    "print('Predicting labels for {:,} test sentences...'.format(len(input_ids)))\n",
    "\n",
    "# Put model in evaluation mode\n",
    "model.eval()\n",
    "\n",
    "# Tracking variables\n",
    "predictions , true_labels = [], []\n",
    "\n",
    "# Predict\n",
    "for batch in prediction_dataloader:\n",
    "  # Add batch to GPU\n",
    "  batch = tuple(t.to(device) for t in batch)\n",
    "\n",
    "  # Unpack the inputs from our dataloader\n",
    "  # b_input_ids, b_input_mask, b_labels = batch\n",
    "  b_input_ids, b_input_mask = batch\n",
    "\n",
    "  # Telling the model not to compute or store gradients, saving memory and\n",
    "  # speeding up prediction\n",
    "  with torch.no_grad():\n",
    "      # Forward pass, calculate logit predictions.\n",
    "      result = model(b_input_ids,\n",
    "                     # token_type_ids=None,\n",
    "                     attention_mask=b_input_mask,\n",
    "                     return_dict=True)\n",
    "\n",
    "  logits = result.logits\n",
    "\n",
    "  # Move logits and labels to CPU\n",
    "  logits = logits.detach().cpu().numpy()\n",
    "  # label_ids = b_labels.to('cpu').numpy()\n",
    "\n",
    "  # Store predictions and true labels\n",
    "  predictions.append(logits)\n",
    "  # true_labels.append(label_ids)\n",
    "\n",
    "print('    DONE.')"
   ]
  },
  {
   "cell_type": "code",
   "execution_count": 26,
   "id": "ec767be2",
   "metadata": {
    "execution": {
     "iopub.execute_input": "2025-05-16T07:41:12.060792Z",
     "iopub.status.busy": "2025-05-16T07:41:12.060549Z",
     "iopub.status.idle": "2025-05-16T07:41:12.065483Z",
     "shell.execute_reply": "2025-05-16T07:41:12.064938Z"
    },
    "papermill": {
     "duration": 0.027458,
     "end_time": "2025-05-16T07:41:12.066597",
     "exception": false,
     "start_time": "2025-05-16T07:41:12.039139",
     "status": "completed"
    },
    "tags": []
   },
   "outputs": [],
   "source": [
    "# Flatten predictions and true labels\n",
    "flat_predictions = np.concatenate(predictions, axis=0)\n",
    "flat_predictions = np.argmax(flat_predictions, axis=1).flatten()"
   ]
  },
  {
   "cell_type": "markdown",
   "id": "3bed2ea2",
   "metadata": {
    "papermill": {
     "duration": 0.021048,
     "end_time": "2025-05-16T07:41:12.108757",
     "exception": false,
     "start_time": "2025-05-16T07:41:12.087709",
     "status": "completed"
    },
    "tags": []
   },
   "source": [
    "# Submission"
   ]
  },
  {
   "cell_type": "code",
   "execution_count": 27,
   "id": "1945f1ca",
   "metadata": {
    "execution": {
     "iopub.execute_input": "2025-05-16T07:41:12.150978Z",
     "iopub.status.busy": "2025-05-16T07:41:12.150792Z",
     "iopub.status.idle": "2025-05-16T07:41:12.172861Z",
     "shell.execute_reply": "2025-05-16T07:41:12.172342Z"
    },
    "papermill": {
     "duration": 0.044409,
     "end_time": "2025-05-16T07:41:12.173952",
     "exception": false,
     "start_time": "2025-05-16T07:41:12.129543",
     "status": "completed"
    },
    "tags": []
   },
   "outputs": [],
   "source": [
    "submission = pd.DataFrame({\n",
    "    'ID': df_test_preprocessed['ID'],\n",
    "    'Label': flat_predictions\n",
    "})\n",
    "\n",
    "submission.to_csv(\"/kaggle/working/submission.csv\", index=False)"
   ]
  },
  {
   "cell_type": "markdown",
   "id": "6d4b454d",
   "metadata": {
    "papermill": {
     "duration": 0.020823,
     "end_time": "2025-05-16T07:41:12.215444",
     "exception": false,
     "start_time": "2025-05-16T07:41:12.194621",
     "status": "completed"
    },
    "tags": []
   },
   "source": [
    "# Appendix"
   ]
  },
  {
   "cell_type": "markdown",
   "id": "a417b28f",
   "metadata": {
    "papermill": {
     "duration": 0.020501,
     "end_time": "2025-05-16T07:41:12.256452",
     "exception": false,
     "start_time": "2025-05-16T07:41:12.235951",
     "status": "completed"
    },
    "tags": []
   },
   "source": [
    "## Experiment 1 - Try BERT's fine-tuned parameters"
   ]
  },
  {
   "cell_type": "code",
   "execution_count": 28,
   "id": "bda09a38",
   "metadata": {
    "execution": {
     "iopub.execute_input": "2025-05-16T07:41:12.298923Z",
     "iopub.status.busy": "2025-05-16T07:41:12.298317Z",
     "iopub.status.idle": "2025-05-16T07:41:12.301555Z",
     "shell.execute_reply": "2025-05-16T07:41:12.301004Z"
    },
    "papermill": {
     "duration": 0.025664,
     "end_time": "2025-05-16T07:41:12.302564",
     "exception": false,
     "start_time": "2025-05-16T07:41:12.276900",
     "status": "completed"
    },
    "tags": []
   },
   "outputs": [],
   "source": [
    "# # Get train dataset\n",
    "# train_dataset = tokenize_dataset(sentences_train, labels_train)\n",
    "# # sample_size = 0.2 # Run the study for 20% of the training dataset \n",
    "# # train_dataset = get_sample_from_dataset(train_dataset, sample_size)\n",
    "# print(\"Generated Train Dataset\")\n",
    "\n",
    "# # Get validation dataset\n",
    "# val_dataset = tokenize_dataset(sentences_val, labels_val)\n",
    "# print(\"Generated Validation Dataset\")\n",
    "\n",
    "# # Get dataloaders\n",
    "# batch_size = 32\n",
    "# train_dataloader, validation_dataloader = get_dataloaders(batch_size)\n",
    "# print(\"Generated Dataloaders\")"
   ]
  },
  {
   "cell_type": "code",
   "execution_count": 29,
   "id": "043c87bc",
   "metadata": {
    "execution": {
     "iopub.execute_input": "2025-05-16T07:41:12.344466Z",
     "iopub.status.busy": "2025-05-16T07:41:12.344265Z",
     "iopub.status.idle": "2025-05-16T07:41:12.347504Z",
     "shell.execute_reply": "2025-05-16T07:41:12.346955Z"
    },
    "papermill": {
     "duration": 0.025281,
     "end_time": "2025-05-16T07:41:12.348501",
     "exception": false,
     "start_time": "2025-05-16T07:41:12.323220",
     "status": "completed"
    },
    "tags": []
   },
   "outputs": [],
   "source": [
    "# # Configure Hyper Parameters\n",
    "# epochs = 2\n",
    "# total_steps = len(train_dataloader) * epochs\n",
    "# learning_rate = 3e-5\n",
    "# eps = 1e-8\n",
    "# num_warmup_steps = 0\n",
    "# hidden_dropouts = 0.1\n",
    "# attention_dropout = 0.3\n",
    "# weight_decay = 0.3\n",
    "\n",
    "# # Train\n",
    "# results = train_and_evaluate_model(epochs, total_steps, learning_rate, eps, num_warmup_steps, \n",
    "#                                    hidden_dropouts, attention_dropout, weight_decay)\n",
    "# final_labels, final_preds, final_probs, training_stats, model, avg_val_loss = results"
   ]
  },
  {
   "cell_type": "code",
   "execution_count": 30,
   "id": "cc376390",
   "metadata": {
    "execution": {
     "iopub.execute_input": "2025-05-16T07:41:12.390565Z",
     "iopub.status.busy": "2025-05-16T07:41:12.390368Z",
     "iopub.status.idle": "2025-05-16T07:41:12.393167Z",
     "shell.execute_reply": "2025-05-16T07:41:12.392649Z"
    },
    "papermill": {
     "duration": 0.024937,
     "end_time": "2025-05-16T07:41:12.394251",
     "exception": false,
     "start_time": "2025-05-16T07:41:12.369314",
     "status": "completed"
    },
    "tags": []
   },
   "outputs": [],
   "source": [
    "# # Evaluation\n",
    "# print_evaluate(final_labels, final_preds, final_probs, training_stats)"
   ]
  },
  {
   "cell_type": "markdown",
   "id": "98fe5597",
   "metadata": {
    "papermill": {
     "duration": 0.020697,
     "end_time": "2025-05-16T07:41:12.436021",
     "exception": false,
     "start_time": "2025-05-16T07:41:12.415324",
     "status": "completed"
    },
    "tags": []
   },
   "source": [
    "## Experiment 2 - Optuna (20% of training dataset, batch_size = 32)"
   ]
  },
  {
   "cell_type": "code",
   "execution_count": 31,
   "id": "d978c119",
   "metadata": {
    "execution": {
     "iopub.execute_input": "2025-05-16T07:41:12.478471Z",
     "iopub.status.busy": "2025-05-16T07:41:12.478224Z",
     "iopub.status.idle": "2025-05-16T07:41:12.481398Z",
     "shell.execute_reply": "2025-05-16T07:41:12.480853Z"
    },
    "papermill": {
     "duration": 0.025696,
     "end_time": "2025-05-16T07:41:12.482403",
     "exception": false,
     "start_time": "2025-05-16T07:41:12.456707",
     "status": "completed"
    },
    "tags": []
   },
   "outputs": [],
   "source": [
    "# # Get train dataset\n",
    "# train_dataset = tokenize_dataset(sentences_train, labels_train)\n",
    "# sample_size = 0.2 # Run the study for 20% of the training dataset \n",
    "# train_dataset = get_sample_from_dataset(train_dataset, sample_size)\n",
    "# print(\"Generated Train Dataset\")\n",
    "\n",
    "# # Get validation dataset\n",
    "# val_dataset = tokenize_dataset(sentences_val, labels_val)\n",
    "# print(\"Generated Validation Dataset\")\n",
    "\n",
    "# # Get dataloaders\n",
    "# batch_size = 32\n",
    "# train_dataloader, validation_dataloader = get_dataloaders(batch_size)\n",
    "# print(\"Generated Dataloaders\")"
   ]
  },
  {
   "cell_type": "code",
   "execution_count": 32,
   "id": "67230f08",
   "metadata": {
    "execution": {
     "iopub.execute_input": "2025-05-16T07:41:12.524923Z",
     "iopub.status.busy": "2025-05-16T07:41:12.524730Z",
     "iopub.status.idle": "2025-05-16T07:41:12.528220Z",
     "shell.execute_reply": "2025-05-16T07:41:12.527718Z"
    },
    "papermill": {
     "duration": 0.025822,
     "end_time": "2025-05-16T07:41:12.529253",
     "exception": false,
     "start_time": "2025-05-16T07:41:12.503431",
     "status": "completed"
    },
    "tags": []
   },
   "outputs": [],
   "source": [
    "# # Suggest Hyper Parameters\n",
    "# def suggest_hyperparameters(trial):\n",
    "\n",
    "#     # Suggest epochs\n",
    "#     epochs = trial.suggest_categorical('epoch', [2, 3])\n",
    "    \n",
    "#     # Suggest learning rate\n",
    "#     learning_rate = trial.suggest_categorical('learning_rate', [5e-5, 3e-5, 2e-5])\n",
    "\n",
    "#     # Suggest hidden dropout\n",
    "#     hidden_dropout = trial.suggest_categorical('hidden_dropout', [0.1, 0.2, 0.3])\n",
    "\n",
    "#     # Suggest attention dropout\n",
    "#     attention_dropout = trial.suggest_categorical('attention_dropout', [0.1, 0.2, 0.3])\n",
    "\n",
    "#     # Suggest weight decay\n",
    "#     weight_decay = trial.suggest_categorical('weight_decay', [0.0, 0.1, 0.2, 0.3])\n",
    "    \n",
    "#     return epochs, learning_rate, hidden_dropout, attention_dropout, weight_decay\n",
    "\n",
    "# # Objective Function\n",
    "# def objective(trial):\n",
    "\n",
    "#     # Sample hyperparameters\n",
    "#     epochs, learning_rate, hidden_dropout, attention_dropout, weight_decay = suggest_hyperparameters(trial)\n",
    "\n",
    "#     # Total number of training steps is [number of batches] x [number of epochs].\n",
    "#     # (Note that this is not the same as the number of training samples).\n",
    "#     total_steps = len(train_dataloader) * epochs\n",
    "\n",
    "#     # Set num_warmup_steps to zero (default value in run_glue.py)\n",
    "#     num_warmup_steps = 0\n",
    "    \n",
    "#     # Set eps\n",
    "#     eps = 1e-8\n",
    "\n",
    "#     # Do the training and evaluation\n",
    "#     results = train_and_evaluate_model(\n",
    "#         epochs, total_steps, learning_rate, eps, num_warmup_steps, \n",
    "#         hidden_dropout, attention_dropout, weight_decay\n",
    "#     )\n",
    "#     final_labels, final_preds, final_probs, training_stats, model, avg_val_loss = results\n",
    "\n",
    "#     return avg_val_loss  # minimize average validation loss"
   ]
  },
  {
   "cell_type": "code",
   "execution_count": 33,
   "id": "8b720441",
   "metadata": {
    "execution": {
     "iopub.execute_input": "2025-05-16T07:41:12.572616Z",
     "iopub.status.busy": "2025-05-16T07:41:12.572415Z",
     "iopub.status.idle": "2025-05-16T07:41:12.575733Z",
     "shell.execute_reply": "2025-05-16T07:41:12.575245Z"
    },
    "papermill": {
     "duration": 0.025342,
     "end_time": "2025-05-16T07:41:12.576635",
     "exception": false,
     "start_time": "2025-05-16T07:41:12.551293",
     "status": "completed"
    },
    "tags": []
   },
   "outputs": [],
   "source": [
    "# # Run optuna study\n",
    "\n",
    "# # Get the start time of the study\n",
    "# study_start_time = time.time()\n",
    "\n",
    "# sampler = optuna.samplers.RandomSampler(seed=42)\n",
    "\n",
    "# study = optuna.create_study(direction = 'minimize', sampler = sampler, study_name = 'optimize_bert')\n",
    "\n",
    "# study.optimize(objective, n_trials = 20)\n",
    "\n",
    "# # Print study results\n",
    "# print(\"The study took {:} (h:mm:ss)\".format(format_time(time.time()-study_start_time)))\n",
    "# print(\"\")\n",
    "\n",
    "# print('Number of finished trials:' , len(study.trials))\n",
    "# print(\"\")\n",
    "\n",
    "# best_trial = study.best_trial\n",
    "# print(\"Best Trial:\")\n",
    "# print(f\"  Trial Number       : {best_trial.number}\")\n",
    "# print(f\"  Value (avg_val_loss)  : {best_trial.value:.4f}\")\n",
    "# print(\"  Parameters:\")\n",
    "# for key, value in best_trial.params.items():\n",
    "#     print(f\"    {key:<18}: {value}\")\n",
    "# print(f\"  Start Time         : {best_trial.datetime_start}\")\n",
    "# print(f\"  Completion Time    : {best_trial.datetime_complete}\")"
   ]
  },
  {
   "cell_type": "code",
   "execution_count": 34,
   "id": "5fc0415a",
   "metadata": {
    "execution": {
     "iopub.execute_input": "2025-05-16T07:41:12.619994Z",
     "iopub.status.busy": "2025-05-16T07:41:12.619781Z",
     "iopub.status.idle": "2025-05-16T07:41:12.622966Z",
     "shell.execute_reply": "2025-05-16T07:41:12.622420Z"
    },
    "papermill": {
     "duration": 0.026208,
     "end_time": "2025-05-16T07:41:12.624079",
     "exception": false,
     "start_time": "2025-05-16T07:41:12.597871",
     "status": "completed"
    },
    "tags": []
   },
   "outputs": [],
   "source": [
    "# # Print the results in a table\n",
    "\n",
    "# # Create a DataFrame from trials\n",
    "# df_results = study.trials_dataframe(attrs=('number', 'value', 'params'))\n",
    "\n",
    "# # Rename columns for clarity\n",
    "# df_results = df_results.rename(columns={\n",
    "#     'number': 'Trial',\n",
    "#     'value': 'Validation Loss'\n",
    "# })\n",
    "\n",
    "# # Move 'Validation Loss' to front\n",
    "# cols = ['Trial', 'Validation Loss'] + [col for col in df_results.columns if col not in ['Trial', 'Validation Loss']]\n",
    "# df_results = df_results[cols]\n",
    "\n",
    "# # Display the table\n",
    "# display(df_results)"
   ]
  },
  {
   "cell_type": "markdown",
   "id": "677defb8",
   "metadata": {
    "papermill": {
     "duration": 0.021032,
     "end_time": "2025-05-16T07:41:12.666100",
     "exception": false,
     "start_time": "2025-05-16T07:41:12.645068",
     "status": "completed"
    },
    "tags": []
   },
   "source": [
    "## Experiment 3 - Run Optuna Results"
   ]
  },
  {
   "cell_type": "code",
   "execution_count": 35,
   "id": "01edd0b9",
   "metadata": {
    "execution": {
     "iopub.execute_input": "2025-05-16T07:41:12.709990Z",
     "iopub.status.busy": "2025-05-16T07:41:12.709771Z",
     "iopub.status.idle": "2025-05-16T07:41:12.712677Z",
     "shell.execute_reply": "2025-05-16T07:41:12.712209Z"
    },
    "papermill": {
     "duration": 0.026308,
     "end_time": "2025-05-16T07:41:12.713747",
     "exception": false,
     "start_time": "2025-05-16T07:41:12.687439",
     "status": "completed"
    },
    "tags": []
   },
   "outputs": [],
   "source": [
    "# # Get train dataset\n",
    "# train_dataset = tokenize_dataset(sentences_train, labels_train)\n",
    "# # sample_size = 0.2 # Run the study for 20% of the training dataset \n",
    "# # train_dataset = get_sample_from_dataset(train_dataset, sample_size)\n",
    "# print(\"Generated Train Dataset\")\n",
    "\n",
    "# # Get validation dataset\n",
    "# val_dataset = tokenize_dataset(sentences_val, labels_val)\n",
    "# print(\"Generated Validation Dataset\")\n",
    "\n",
    "# # Get dataloaders\n",
    "# batch_size = 32\n",
    "# train_dataloader, validation_dataloader = get_dataloaders(batch_size)\n",
    "# print(\"Generated Dataloaders\")"
   ]
  },
  {
   "cell_type": "code",
   "execution_count": 36,
   "id": "7d35d4cb",
   "metadata": {
    "execution": {
     "iopub.execute_input": "2025-05-16T07:41:12.757592Z",
     "iopub.status.busy": "2025-05-16T07:41:12.757391Z",
     "iopub.status.idle": "2025-05-16T07:41:12.760685Z",
     "shell.execute_reply": "2025-05-16T07:41:12.759999Z"
    },
    "papermill": {
     "duration": 0.027106,
     "end_time": "2025-05-16T07:41:12.761699",
     "exception": false,
     "start_time": "2025-05-16T07:41:12.734593",
     "status": "completed"
    },
    "tags": []
   },
   "outputs": [],
   "source": [
    "# # Configure Hyper Parameters\n",
    "# epochs = 2\n",
    "# total_steps = len(train_dataloader) * epochs\n",
    "# learning_rate = 2e-5\n",
    "# eps = 1e-8\n",
    "# num_warmup_steps = 0\n",
    "# hidden_dropouts = 0.1\n",
    "# attention_dropout = 0.2\n",
    "# weight_decay = 0.2\n",
    "\n",
    "# # Train\n",
    "# results = train_and_evaluate_model(epochs, total_steps, learning_rate, eps, num_warmup_steps, \n",
    "#                                    hidden_dropouts, attention_dropout, weight_decay)\n",
    "# final_labels, final_preds, final_probs, training_stats, model, avg_val_loss = results"
   ]
  },
  {
   "cell_type": "code",
   "execution_count": 37,
   "id": "89575db0",
   "metadata": {
    "execution": {
     "iopub.execute_input": "2025-05-16T07:41:12.805238Z",
     "iopub.status.busy": "2025-05-16T07:41:12.804991Z",
     "iopub.status.idle": "2025-05-16T07:41:12.807691Z",
     "shell.execute_reply": "2025-05-16T07:41:12.807214Z"
    },
    "papermill": {
     "duration": 0.025928,
     "end_time": "2025-05-16T07:41:12.808718",
     "exception": false,
     "start_time": "2025-05-16T07:41:12.782790",
     "status": "completed"
    },
    "tags": []
   },
   "outputs": [],
   "source": [
    "# # Evaluation\n",
    "# print_evaluate(final_labels, final_preds, final_probs, training_stats)"
   ]
  },
  {
   "cell_type": "markdown",
   "id": "127dec90",
   "metadata": {
    "papermill": {
     "duration": 0.021587,
     "end_time": "2025-05-16T07:41:12.851602",
     "exception": false,
     "start_time": "2025-05-16T07:41:12.830015",
     "status": "completed"
    },
    "tags": []
   },
   "source": [
    "## Experiment 4 - Experiment 3 with smaller batch size"
   ]
  },
  {
   "cell_type": "code",
   "execution_count": 38,
   "id": "0e5101cd",
   "metadata": {
    "execution": {
     "iopub.execute_input": "2025-05-16T07:41:12.894493Z",
     "iopub.status.busy": "2025-05-16T07:41:12.894267Z",
     "iopub.status.idle": "2025-05-16T07:41:12.897395Z",
     "shell.execute_reply": "2025-05-16T07:41:12.896847Z"
    },
    "papermill": {
     "duration": 0.02587,
     "end_time": "2025-05-16T07:41:12.898377",
     "exception": false,
     "start_time": "2025-05-16T07:41:12.872507",
     "status": "completed"
    },
    "tags": []
   },
   "outputs": [],
   "source": [
    "# # Get train dataset\n",
    "# train_dataset = tokenize_dataset(sentences_train, labels_train)\n",
    "# # sample_size = 0.2 # Run the study for 20% of the training dataset \n",
    "# # train_dataset = get_sample_from_dataset(train_dataset, sample_size)\n",
    "# print(\"Generated Train Dataset\")\n",
    "\n",
    "# # Get validation dataset\n",
    "# val_dataset = tokenize_dataset(sentences_val, labels_val)\n",
    "# print(\"Generated Validation Dataset\")\n",
    "\n",
    "# # Get dataloaders\n",
    "# batch_size = 16\n",
    "# train_dataloader, validation_dataloader = get_dataloaders(batch_size)\n",
    "# print(\"Generated Dataloaders\")"
   ]
  },
  {
   "cell_type": "code",
   "execution_count": 39,
   "id": "54e984ad",
   "metadata": {
    "execution": {
     "iopub.execute_input": "2025-05-16T07:41:12.940863Z",
     "iopub.status.busy": "2025-05-16T07:41:12.940661Z",
     "iopub.status.idle": "2025-05-16T07:41:12.943696Z",
     "shell.execute_reply": "2025-05-16T07:41:12.943205Z"
    },
    "papermill": {
     "duration": 0.025438,
     "end_time": "2025-05-16T07:41:12.944649",
     "exception": false,
     "start_time": "2025-05-16T07:41:12.919211",
     "status": "completed"
    },
    "tags": []
   },
   "outputs": [],
   "source": [
    "# # Configure Hyper Parameters\n",
    "# epochs = 3\n",
    "# total_steps = len(train_dataloader) * epochs\n",
    "# learning_rate = 2e-5\n",
    "# eps = 1e-8\n",
    "# num_warmup_steps = 0\n",
    "# hidden_dropouts = 0.1\n",
    "# attention_dropout = 0.2\n",
    "# weight_decay = 0.2\n",
    "\n",
    "# # Train\n",
    "# results = train_and_evaluate_model(epochs, total_steps, learning_rate, eps, num_warmup_steps, \n",
    "#                                    hidden_dropouts, attention_dropout, weight_decay)\n",
    "# final_labels, final_preds, final_probs, training_stats, model, avg_val_loss = results"
   ]
  },
  {
   "cell_type": "code",
   "execution_count": 40,
   "id": "d70c1945",
   "metadata": {
    "execution": {
     "iopub.execute_input": "2025-05-16T07:41:12.987169Z",
     "iopub.status.busy": "2025-05-16T07:41:12.986945Z",
     "iopub.status.idle": "2025-05-16T07:41:12.989546Z",
     "shell.execute_reply": "2025-05-16T07:41:12.989077Z"
    },
    "papermill": {
     "duration": 0.025186,
     "end_time": "2025-05-16T07:41:12.990582",
     "exception": false,
     "start_time": "2025-05-16T07:41:12.965396",
     "status": "completed"
    },
    "tags": []
   },
   "outputs": [],
   "source": [
    "# # Evaluation\n",
    "# print_evaluate(final_labels, final_preds, final_probs, training_stats)"
   ]
  },
  {
   "cell_type": "markdown",
   "id": "1128fb37",
   "metadata": {
    "papermill": {
     "duration": 0.020559,
     "end_time": "2025-05-16T07:41:13.032002",
     "exception": false,
     "start_time": "2025-05-16T07:41:13.011443",
     "status": "completed"
    },
    "tags": []
   },
   "source": [
    "## Experiment 5 - Try warmup steps"
   ]
  },
  {
   "cell_type": "markdown",
   "id": "daeaf223",
   "metadata": {
    "papermill": {
     "duration": 0.020704,
     "end_time": "2025-05-16T07:41:13.073559",
     "exception": false,
     "start_time": "2025-05-16T07:41:13.052855",
     "status": "completed"
    },
    "tags": []
   },
   "source": [
    "`Bert models are pretrained, so jumping in with full learning rate right away can destabilize fine-tuning. A small warm-up (e.g. 0–10% of total steps) helps make training smoother and more effective. This works by linearly increasing the learning rate from 0 → target learning rate for the first num_warmup_steps`"
   ]
  },
  {
   "cell_type": "code",
   "execution_count": 41,
   "id": "f6cd1f8b",
   "metadata": {
    "execution": {
     "iopub.execute_input": "2025-05-16T07:41:13.116090Z",
     "iopub.status.busy": "2025-05-16T07:41:13.115822Z",
     "iopub.status.idle": "2025-05-16T07:41:13.118930Z",
     "shell.execute_reply": "2025-05-16T07:41:13.118417Z"
    },
    "papermill": {
     "duration": 0.025773,
     "end_time": "2025-05-16T07:41:13.120125",
     "exception": false,
     "start_time": "2025-05-16T07:41:13.094352",
     "status": "completed"
    },
    "tags": []
   },
   "outputs": [],
   "source": [
    "# # Get train dataset\n",
    "# train_dataset = tokenize_dataset(sentences_train, labels_train)\n",
    "# # sample_size = 0.2 # Run the study for 20% of the training dataset \n",
    "# # train_dataset = get_sample_from_dataset(train_dataset, sample_size)\n",
    "# print(\"Generated Train Dataset\")\n",
    "\n",
    "# # Get validation dataset\n",
    "# val_dataset = tokenize_dataset(sentences_val, labels_val)\n",
    "# print(\"Generated Validation Dataset\")\n",
    "\n",
    "# # Get dataloaders\n",
    "# batch_size = 32\n",
    "# train_dataloader, validation_dataloader = get_dataloaders(batch_size)\n",
    "# print(\"Generated Dataloaders\")"
   ]
  },
  {
   "cell_type": "code",
   "execution_count": 42,
   "id": "3a79ef62",
   "metadata": {
    "execution": {
     "iopub.execute_input": "2025-05-16T07:41:13.162980Z",
     "iopub.status.busy": "2025-05-16T07:41:13.162780Z",
     "iopub.status.idle": "2025-05-16T07:41:13.165819Z",
     "shell.execute_reply": "2025-05-16T07:41:13.165303Z"
    },
    "papermill": {
     "duration": 0.025364,
     "end_time": "2025-05-16T07:41:13.166748",
     "exception": false,
     "start_time": "2025-05-16T07:41:13.141384",
     "status": "completed"
    },
    "tags": []
   },
   "outputs": [],
   "source": [
    "# # Configure Hyper Parameters\n",
    "# epochs = 2\n",
    "# total_steps = len(train_dataloader) * epochs\n",
    "# learning_rate = 2e-5\n",
    "# eps = 1e-8\n",
    "# num_warmup_steps = int(0.05 * total_steps) # Try a warm up of 5% of total steps\n",
    "# hidden_dropouts = 0.1\n",
    "# attention_dropout = 0.2\n",
    "# weight_decay = 0.2\n",
    "\n",
    "# # Train\n",
    "# results = train_and_evaluate_model(epochs, total_steps, learning_rate, eps, num_warmup_steps, \n",
    "#                                    hidden_dropouts, attention_dropout, weight_decay)\n",
    "# final_labels, final_preds, final_probs, training_stats, model, avg_val_loss = results"
   ]
  },
  {
   "cell_type": "code",
   "execution_count": 43,
   "id": "a06962e3",
   "metadata": {
    "execution": {
     "iopub.execute_input": "2025-05-16T07:41:13.209666Z",
     "iopub.status.busy": "2025-05-16T07:41:13.209473Z",
     "iopub.status.idle": "2025-05-16T07:41:13.212240Z",
     "shell.execute_reply": "2025-05-16T07:41:13.211729Z"
    },
    "papermill": {
     "duration": 0.025469,
     "end_time": "2025-05-16T07:41:13.213323",
     "exception": false,
     "start_time": "2025-05-16T07:41:13.187854",
     "status": "completed"
    },
    "tags": []
   },
   "outputs": [],
   "source": [
    "# # Evaluation\n",
    "# print_evaluate(final_labels, final_preds, final_probs, training_stats)"
   ]
  }
 ],
 "metadata": {
  "kaggle": {
   "accelerator": "gpu",
   "dataSources": [
    {
     "databundleVersionId": 11783285,
     "sourceId": 98732,
     "sourceType": "competition"
    }
   ],
   "dockerImageVersionId": 31012,
   "isGpuEnabled": true,
   "isInternetEnabled": true,
   "language": "python",
   "sourceType": "notebook"
  },
  "kernelspec": {
   "display_name": "Python 3",
   "language": "python",
   "name": "python3"
  },
  "language_info": {
   "codemirror_mode": {
    "name": "ipython",
    "version": 3
   },
   "file_extension": ".py",
   "mimetype": "text/x-python",
   "name": "python",
   "nbconvert_exporter": "python",
   "pygments_lexer": "ipython3",
   "version": "3.11.11"
  },
  "papermill": {
   "default_parameters": {},
   "duration": 2115.054946,
   "end_time": "2025-05-16T07:41:16.756085",
   "environment_variables": {},
   "exception": null,
   "input_path": "__notebook__.ipynb",
   "output_path": "__notebook__.ipynb",
   "parameters": {},
   "start_time": "2025-05-16T07:06:01.701139",
   "version": "2.6.0"
  },
  "widgets": {
   "application/vnd.jupyter.widget-state+json": {
    "state": {
     "093f2a93a4a2449d809cc9b2e019dd52": {
      "model_module": "@jupyter-widgets/controls",
      "model_module_version": "2.0.0",
      "model_name": "ProgressStyleModel",
      "state": {
       "_model_module": "@jupyter-widgets/controls",
       "_model_module_version": "2.0.0",
       "_model_name": "ProgressStyleModel",
       "_view_count": null,
       "_view_module": "@jupyter-widgets/base",
       "_view_module_version": "2.0.0",
       "_view_name": "StyleView",
       "bar_color": null,
       "description_width": ""
      }
     },
     "0dd33073959f4ee7b4775da759ef4cfd": {
      "model_module": "@jupyter-widgets/controls",
      "model_module_version": "2.0.0",
      "model_name": "FloatProgressModel",
      "state": {
       "_dom_classes": [],
       "_model_module": "@jupyter-widgets/controls",
       "_model_module_version": "2.0.0",
       "_model_name": "FloatProgressModel",
       "_view_count": null,
       "_view_module": "@jupyter-widgets/controls",
       "_view_module_version": "2.0.0",
       "_view_name": "ProgressView",
       "bar_style": "success",
       "description": "",
       "description_allow_html": false,
       "layout": "IPY_MODEL_887d6eeef20f4510b4d1fc7e36e9685c",
       "max": 48.0,
       "min": 0.0,
       "orientation": "horizontal",
       "style": "IPY_MODEL_093f2a93a4a2449d809cc9b2e019dd52",
       "tabbable": null,
       "tooltip": null,
       "value": 48.0
      }
     },
     "155c46cf97f748228b8bffd0baa14e3d": {
      "model_module": "@jupyter-widgets/controls",
      "model_module_version": "2.0.0",
      "model_name": "HTMLModel",
      "state": {
       "_dom_classes": [],
       "_model_module": "@jupyter-widgets/controls",
       "_model_module_version": "2.0.0",
       "_model_name": "HTMLModel",
       "_view_count": null,
       "_view_module": "@jupyter-widgets/controls",
       "_view_module_version": "2.0.0",
       "_view_name": "HTMLView",
       "description": "",
       "description_allow_html": false,
       "layout": "IPY_MODEL_f65195de7a3140769decba3112fcd9a3",
       "placeholder": "​",
       "style": "IPY_MODEL_477e6bf32309482cad1f4199ee010b72",
       "tabbable": null,
       "tooltip": null,
       "value": "tokenizer_config.json: 100%"
      }
     },
     "15ecac71c727466598d46935cfefd571": {
      "model_module": "@jupyter-widgets/base",
      "model_module_version": "2.0.0",
      "model_name": "LayoutModel",
      "state": {
       "_model_module": "@jupyter-widgets/base",
       "_model_module_version": "2.0.0",
       "_model_name": "LayoutModel",
       "_view_count": null,
       "_view_module": "@jupyter-widgets/base",
       "_view_module_version": "2.0.0",
       "_view_name": "LayoutView",
       "align_content": null,
       "align_items": null,
       "align_self": null,
       "border_bottom": null,
       "border_left": null,
       "border_right": null,
       "border_top": null,
       "bottom": null,
       "display": null,
       "flex": null,
       "flex_flow": null,
       "grid_area": null,
       "grid_auto_columns": null,
       "grid_auto_flow": null,
       "grid_auto_rows": null,
       "grid_column": null,
       "grid_gap": null,
       "grid_row": null,
       "grid_template_areas": null,
       "grid_template_columns": null,
       "grid_template_rows": null,
       "height": null,
       "justify_content": null,
       "justify_items": null,
       "left": null,
       "margin": null,
       "max_height": null,
       "max_width": null,
       "min_height": null,
       "min_width": null,
       "object_fit": null,
       "object_position": null,
       "order": null,
       "overflow": null,
       "padding": null,
       "right": null,
       "top": null,
       "visibility": null,
       "width": null
      }
     },
     "19dd415ff69f45d7849f232ba853fd27": {
      "model_module": "@jupyter-widgets/controls",
      "model_module_version": "2.0.0",
      "model_name": "HBoxModel",
      "state": {
       "_dom_classes": [],
       "_model_module": "@jupyter-widgets/controls",
       "_model_module_version": "2.0.0",
       "_model_name": "HBoxModel",
       "_view_count": null,
       "_view_module": "@jupyter-widgets/controls",
       "_view_module_version": "2.0.0",
       "_view_name": "HBoxView",
       "box_style": "",
       "children": [
        "IPY_MODEL_155c46cf97f748228b8bffd0baa14e3d",
        "IPY_MODEL_0dd33073959f4ee7b4775da759ef4cfd",
        "IPY_MODEL_ab1120c291834be390d9d9af673dd20e"
       ],
       "layout": "IPY_MODEL_5bbe59a31828400da55fe0cc60f6dca7",
       "tabbable": null,
       "tooltip": null
      }
     },
     "1d535b97213e48a3bc6fb12b1e6fb153": {
      "model_module": "@jupyter-widgets/base",
      "model_module_version": "2.0.0",
      "model_name": "LayoutModel",
      "state": {
       "_model_module": "@jupyter-widgets/base",
       "_model_module_version": "2.0.0",
       "_model_name": "LayoutModel",
       "_view_count": null,
       "_view_module": "@jupyter-widgets/base",
       "_view_module_version": "2.0.0",
       "_view_name": "LayoutView",
       "align_content": null,
       "align_items": null,
       "align_self": null,
       "border_bottom": null,
       "border_left": null,
       "border_right": null,
       "border_top": null,
       "bottom": null,
       "display": null,
       "flex": null,
       "flex_flow": null,
       "grid_area": null,
       "grid_auto_columns": null,
       "grid_auto_flow": null,
       "grid_auto_rows": null,
       "grid_column": null,
       "grid_gap": null,
       "grid_row": null,
       "grid_template_areas": null,
       "grid_template_columns": null,
       "grid_template_rows": null,
       "height": null,
       "justify_content": null,
       "justify_items": null,
       "left": null,
       "margin": null,
       "max_height": null,
       "max_width": null,
       "min_height": null,
       "min_width": null,
       "object_fit": null,
       "object_position": null,
       "order": null,
       "overflow": null,
       "padding": null,
       "right": null,
       "top": null,
       "visibility": null,
       "width": null
      }
     },
     "23028b84e5a241e9a0ab167b8dbdff71": {
      "model_module": "@jupyter-widgets/base",
      "model_module_version": "2.0.0",
      "model_name": "LayoutModel",
      "state": {
       "_model_module": "@jupyter-widgets/base",
       "_model_module_version": "2.0.0",
       "_model_name": "LayoutModel",
       "_view_count": null,
       "_view_module": "@jupyter-widgets/base",
       "_view_module_version": "2.0.0",
       "_view_name": "LayoutView",
       "align_content": null,
       "align_items": null,
       "align_self": null,
       "border_bottom": null,
       "border_left": null,
       "border_right": null,
       "border_top": null,
       "bottom": null,
       "display": null,
       "flex": null,
       "flex_flow": null,
       "grid_area": null,
       "grid_auto_columns": null,
       "grid_auto_flow": null,
       "grid_auto_rows": null,
       "grid_column": null,
       "grid_gap": null,
       "grid_row": null,
       "grid_template_areas": null,
       "grid_template_columns": null,
       "grid_template_rows": null,
       "height": null,
       "justify_content": null,
       "justify_items": null,
       "left": null,
       "margin": null,
       "max_height": null,
       "max_width": null,
       "min_height": null,
       "min_width": null,
       "object_fit": null,
       "object_position": null,
       "order": null,
       "overflow": null,
       "padding": null,
       "right": null,
       "top": null,
       "visibility": null,
       "width": null
      }
     },
     "262c6ceb60274d738dc6cbbd25c53380": {
      "model_module": "@jupyter-widgets/controls",
      "model_module_version": "2.0.0",
      "model_name": "ProgressStyleModel",
      "state": {
       "_model_module": "@jupyter-widgets/controls",
       "_model_module_version": "2.0.0",
       "_model_name": "ProgressStyleModel",
       "_view_count": null,
       "_view_module": "@jupyter-widgets/base",
       "_view_module_version": "2.0.0",
       "_view_name": "StyleView",
       "bar_color": null,
       "description_width": ""
      }
     },
     "26396a4f49044a96a8545cdbff79e55f": {
      "model_module": "@jupyter-widgets/base",
      "model_module_version": "2.0.0",
      "model_name": "LayoutModel",
      "state": {
       "_model_module": "@jupyter-widgets/base",
       "_model_module_version": "2.0.0",
       "_model_name": "LayoutModel",
       "_view_count": null,
       "_view_module": "@jupyter-widgets/base",
       "_view_module_version": "2.0.0",
       "_view_name": "LayoutView",
       "align_content": null,
       "align_items": null,
       "align_self": null,
       "border_bottom": null,
       "border_left": null,
       "border_right": null,
       "border_top": null,
       "bottom": null,
       "display": null,
       "flex": null,
       "flex_flow": null,
       "grid_area": null,
       "grid_auto_columns": null,
       "grid_auto_flow": null,
       "grid_auto_rows": null,
       "grid_column": null,
       "grid_gap": null,
       "grid_row": null,
       "grid_template_areas": null,
       "grid_template_columns": null,
       "grid_template_rows": null,
       "height": null,
       "justify_content": null,
       "justify_items": null,
       "left": null,
       "margin": null,
       "max_height": null,
       "max_width": null,
       "min_height": null,
       "min_width": null,
       "object_fit": null,
       "object_position": null,
       "order": null,
       "overflow": null,
       "padding": null,
       "right": null,
       "top": null,
       "visibility": null,
       "width": null
      }
     },
     "2ef5ba87058348dd8c72df8c77954fce": {
      "model_module": "@jupyter-widgets/base",
      "model_module_version": "2.0.0",
      "model_name": "LayoutModel",
      "state": {
       "_model_module": "@jupyter-widgets/base",
       "_model_module_version": "2.0.0",
       "_model_name": "LayoutModel",
       "_view_count": null,
       "_view_module": "@jupyter-widgets/base",
       "_view_module_version": "2.0.0",
       "_view_name": "LayoutView",
       "align_content": null,
       "align_items": null,
       "align_self": null,
       "border_bottom": null,
       "border_left": null,
       "border_right": null,
       "border_top": null,
       "bottom": null,
       "display": null,
       "flex": null,
       "flex_flow": null,
       "grid_area": null,
       "grid_auto_columns": null,
       "grid_auto_flow": null,
       "grid_auto_rows": null,
       "grid_column": null,
       "grid_gap": null,
       "grid_row": null,
       "grid_template_areas": null,
       "grid_template_columns": null,
       "grid_template_rows": null,
       "height": null,
       "justify_content": null,
       "justify_items": null,
       "left": null,
       "margin": null,
       "max_height": null,
       "max_width": null,
       "min_height": null,
       "min_width": null,
       "object_fit": null,
       "object_position": null,
       "order": null,
       "overflow": null,
       "padding": null,
       "right": null,
       "top": null,
       "visibility": null,
       "width": null
      }
     },
     "315b0fcd2aac44d9b3db5781444cdb22": {
      "model_module": "@jupyter-widgets/controls",
      "model_module_version": "2.0.0",
      "model_name": "HTMLModel",
      "state": {
       "_dom_classes": [],
       "_model_module": "@jupyter-widgets/controls",
       "_model_module_version": "2.0.0",
       "_model_name": "HTMLModel",
       "_view_count": null,
       "_view_module": "@jupyter-widgets/controls",
       "_view_module_version": "2.0.0",
       "_view_name": "HTMLView",
       "description": "",
       "description_allow_html": false,
       "layout": "IPY_MODEL_4e2a2272004e411d831c6b82af1e5a51",
       "placeholder": "​",
       "style": "IPY_MODEL_7903e46b469a46f7bace373b829db6d1",
       "tabbable": null,
       "tooltip": null,
       "value": "config.json: 100%"
      }
     },
     "31656923cbce4b279055428413788a77": {
      "model_module": "@jupyter-widgets/controls",
      "model_module_version": "2.0.0",
      "model_name": "HTMLStyleModel",
      "state": {
       "_model_module": "@jupyter-widgets/controls",
       "_model_module_version": "2.0.0",
       "_model_name": "HTMLStyleModel",
       "_view_count": null,
       "_view_module": "@jupyter-widgets/base",
       "_view_module_version": "2.0.0",
       "_view_name": "StyleView",
       "background": null,
       "description_width": "",
       "font_size": null,
       "text_color": null
      }
     },
     "3b619e964ff143ec8cb56ee9db0830b9": {
      "model_module": "@jupyter-widgets/controls",
      "model_module_version": "2.0.0",
      "model_name": "FloatProgressModel",
      "state": {
       "_dom_classes": [],
       "_model_module": "@jupyter-widgets/controls",
       "_model_module_version": "2.0.0",
       "_model_name": "FloatProgressModel",
       "_view_count": null,
       "_view_module": "@jupyter-widgets/controls",
       "_view_module_version": "2.0.0",
       "_view_name": "ProgressView",
       "bar_style": "success",
       "description": "",
       "description_allow_html": false,
       "layout": "IPY_MODEL_ff2c1429c6bf4e1397bf8b179aa516c9",
       "max": 267954768.0,
       "min": 0.0,
       "orientation": "horizontal",
       "style": "IPY_MODEL_6068a3bca3f14b9ab95218b4fe994336",
       "tabbable": null,
       "tooltip": null,
       "value": 267954768.0
      }
     },
     "3f5ef3998a8e4302a3998c4ca1337e3a": {
      "model_module": "@jupyter-widgets/base",
      "model_module_version": "2.0.0",
      "model_name": "LayoutModel",
      "state": {
       "_model_module": "@jupyter-widgets/base",
       "_model_module_version": "2.0.0",
       "_model_name": "LayoutModel",
       "_view_count": null,
       "_view_module": "@jupyter-widgets/base",
       "_view_module_version": "2.0.0",
       "_view_name": "LayoutView",
       "align_content": null,
       "align_items": null,
       "align_self": null,
       "border_bottom": null,
       "border_left": null,
       "border_right": null,
       "border_top": null,
       "bottom": null,
       "display": null,
       "flex": null,
       "flex_flow": null,
       "grid_area": null,
       "grid_auto_columns": null,
       "grid_auto_flow": null,
       "grid_auto_rows": null,
       "grid_column": null,
       "grid_gap": null,
       "grid_row": null,
       "grid_template_areas": null,
       "grid_template_columns": null,
       "grid_template_rows": null,
       "height": null,
       "justify_content": null,
       "justify_items": null,
       "left": null,
       "margin": null,
       "max_height": null,
       "max_width": null,
       "min_height": null,
       "min_width": null,
       "object_fit": null,
       "object_position": null,
       "order": null,
       "overflow": null,
       "padding": null,
       "right": null,
       "top": null,
       "visibility": null,
       "width": null
      }
     },
     "477e6bf32309482cad1f4199ee010b72": {
      "model_module": "@jupyter-widgets/controls",
      "model_module_version": "2.0.0",
      "model_name": "HTMLStyleModel",
      "state": {
       "_model_module": "@jupyter-widgets/controls",
       "_model_module_version": "2.0.0",
       "_model_name": "HTMLStyleModel",
       "_view_count": null,
       "_view_module": "@jupyter-widgets/base",
       "_view_module_version": "2.0.0",
       "_view_name": "StyleView",
       "background": null,
       "description_width": "",
       "font_size": null,
       "text_color": null
      }
     },
     "49b236ac836040859d89200c71b525c5": {
      "model_module": "@jupyter-widgets/controls",
      "model_module_version": "2.0.0",
      "model_name": "HTMLModel",
      "state": {
       "_dom_classes": [],
       "_model_module": "@jupyter-widgets/controls",
       "_model_module_version": "2.0.0",
       "_model_name": "HTMLModel",
       "_view_count": null,
       "_view_module": "@jupyter-widgets/controls",
       "_view_module_version": "2.0.0",
       "_view_name": "HTMLView",
       "description": "",
       "description_allow_html": false,
       "layout": "IPY_MODEL_3f5ef3998a8e4302a3998c4ca1337e3a",
       "placeholder": "​",
       "style": "IPY_MODEL_c01b7808ccba4c10ad6537b8d97a1934",
       "tabbable": null,
       "tooltip": null,
       "value": " 483/483 [00:00&lt;00:00, 63.1kB/s]"
      }
     },
     "4ddc57af88864532851f22f3cb45761c": {
      "model_module": "@jupyter-widgets/base",
      "model_module_version": "2.0.0",
      "model_name": "LayoutModel",
      "state": {
       "_model_module": "@jupyter-widgets/base",
       "_model_module_version": "2.0.0",
       "_model_name": "LayoutModel",
       "_view_count": null,
       "_view_module": "@jupyter-widgets/base",
       "_view_module_version": "2.0.0",
       "_view_name": "LayoutView",
       "align_content": null,
       "align_items": null,
       "align_self": null,
       "border_bottom": null,
       "border_left": null,
       "border_right": null,
       "border_top": null,
       "bottom": null,
       "display": null,
       "flex": null,
       "flex_flow": null,
       "grid_area": null,
       "grid_auto_columns": null,
       "grid_auto_flow": null,
       "grid_auto_rows": null,
       "grid_column": null,
       "grid_gap": null,
       "grid_row": null,
       "grid_template_areas": null,
       "grid_template_columns": null,
       "grid_template_rows": null,
       "height": null,
       "justify_content": null,
       "justify_items": null,
       "left": null,
       "margin": null,
       "max_height": null,
       "max_width": null,
       "min_height": null,
       "min_width": null,
       "object_fit": null,
       "object_position": null,
       "order": null,
       "overflow": null,
       "padding": null,
       "right": null,
       "top": null,
       "visibility": null,
       "width": null
      }
     },
     "4e2a2272004e411d831c6b82af1e5a51": {
      "model_module": "@jupyter-widgets/base",
      "model_module_version": "2.0.0",
      "model_name": "LayoutModel",
      "state": {
       "_model_module": "@jupyter-widgets/base",
       "_model_module_version": "2.0.0",
       "_model_name": "LayoutModel",
       "_view_count": null,
       "_view_module": "@jupyter-widgets/base",
       "_view_module_version": "2.0.0",
       "_view_name": "LayoutView",
       "align_content": null,
       "align_items": null,
       "align_self": null,
       "border_bottom": null,
       "border_left": null,
       "border_right": null,
       "border_top": null,
       "bottom": null,
       "display": null,
       "flex": null,
       "flex_flow": null,
       "grid_area": null,
       "grid_auto_columns": null,
       "grid_auto_flow": null,
       "grid_auto_rows": null,
       "grid_column": null,
       "grid_gap": null,
       "grid_row": null,
       "grid_template_areas": null,
       "grid_template_columns": null,
       "grid_template_rows": null,
       "height": null,
       "justify_content": null,
       "justify_items": null,
       "left": null,
       "margin": null,
       "max_height": null,
       "max_width": null,
       "min_height": null,
       "min_width": null,
       "object_fit": null,
       "object_position": null,
       "order": null,
       "overflow": null,
       "padding": null,
       "right": null,
       "top": null,
       "visibility": null,
       "width": null
      }
     },
     "4e5a60355a5d4bfabd39951e067c3731": {
      "model_module": "@jupyter-widgets/controls",
      "model_module_version": "2.0.0",
      "model_name": "HTMLModel",
      "state": {
       "_dom_classes": [],
       "_model_module": "@jupyter-widgets/controls",
       "_model_module_version": "2.0.0",
       "_model_name": "HTMLModel",
       "_view_count": null,
       "_view_module": "@jupyter-widgets/controls",
       "_view_module_version": "2.0.0",
       "_view_name": "HTMLView",
       "description": "",
       "description_allow_html": false,
       "layout": "IPY_MODEL_bf8703bfa78140c19b5606d1edf53498",
       "placeholder": "​",
       "style": "IPY_MODEL_31656923cbce4b279055428413788a77",
       "tabbable": null,
       "tooltip": null,
       "value": " 268M/268M [00:00&lt;00:00, 471MB/s]"
      }
     },
     "4e962831658a4a868f53ce166b41b114": {
      "model_module": "@jupyter-widgets/controls",
      "model_module_version": "2.0.0",
      "model_name": "HBoxModel",
      "state": {
       "_dom_classes": [],
       "_model_module": "@jupyter-widgets/controls",
       "_model_module_version": "2.0.0",
       "_model_name": "HBoxModel",
       "_view_count": null,
       "_view_module": "@jupyter-widgets/controls",
       "_view_module_version": "2.0.0",
       "_view_name": "HBoxView",
       "box_style": "",
       "children": [
        "IPY_MODEL_e8dfd8357e244e1ebbd9fdd9fa3d32a4",
        "IPY_MODEL_d1d4d100dc0347fe91e263f84d516bbb",
        "IPY_MODEL_73eb1970ebbe42d89713747334866556"
       ],
       "layout": "IPY_MODEL_e78bad2d7443494b95f11d6a86aa3d16",
       "tabbable": null,
       "tooltip": null
      }
     },
     "56fb815343bf4de892271335d7d70051": {
      "model_module": "@jupyter-widgets/controls",
      "model_module_version": "2.0.0",
      "model_name": "FloatProgressModel",
      "state": {
       "_dom_classes": [],
       "_model_module": "@jupyter-widgets/controls",
       "_model_module_version": "2.0.0",
       "_model_name": "FloatProgressModel",
       "_view_count": null,
       "_view_module": "@jupyter-widgets/controls",
       "_view_module_version": "2.0.0",
       "_view_name": "ProgressView",
       "bar_style": "success",
       "description": "",
       "description_allow_html": false,
       "layout": "IPY_MODEL_8ba6f162bd6f41ef9e74d39449317951",
       "max": 466062.0,
       "min": 0.0,
       "orientation": "horizontal",
       "style": "IPY_MODEL_866e797969a643e18b2fd33808ffd531",
       "tabbable": null,
       "tooltip": null,
       "value": 466062.0
      }
     },
     "5bbe59a31828400da55fe0cc60f6dca7": {
      "model_module": "@jupyter-widgets/base",
      "model_module_version": "2.0.0",
      "model_name": "LayoutModel",
      "state": {
       "_model_module": "@jupyter-widgets/base",
       "_model_module_version": "2.0.0",
       "_model_name": "LayoutModel",
       "_view_count": null,
       "_view_module": "@jupyter-widgets/base",
       "_view_module_version": "2.0.0",
       "_view_name": "LayoutView",
       "align_content": null,
       "align_items": null,
       "align_self": null,
       "border_bottom": null,
       "border_left": null,
       "border_right": null,
       "border_top": null,
       "bottom": null,
       "display": null,
       "flex": null,
       "flex_flow": null,
       "grid_area": null,
       "grid_auto_columns": null,
       "grid_auto_flow": null,
       "grid_auto_rows": null,
       "grid_column": null,
       "grid_gap": null,
       "grid_row": null,
       "grid_template_areas": null,
       "grid_template_columns": null,
       "grid_template_rows": null,
       "height": null,
       "justify_content": null,
       "justify_items": null,
       "left": null,
       "margin": null,
       "max_height": null,
       "max_width": null,
       "min_height": null,
       "min_width": null,
       "object_fit": null,
       "object_position": null,
       "order": null,
       "overflow": null,
       "padding": null,
       "right": null,
       "top": null,
       "visibility": null,
       "width": null
      }
     },
     "6068a3bca3f14b9ab95218b4fe994336": {
      "model_module": "@jupyter-widgets/controls",
      "model_module_version": "2.0.0",
      "model_name": "ProgressStyleModel",
      "state": {
       "_model_module": "@jupyter-widgets/controls",
       "_model_module_version": "2.0.0",
       "_model_name": "ProgressStyleModel",
       "_view_count": null,
       "_view_module": "@jupyter-widgets/base",
       "_view_module_version": "2.0.0",
       "_view_name": "StyleView",
       "bar_color": null,
       "description_width": ""
      }
     },
     "6c179c139452469680159c4fbfa68021": {
      "model_module": "@jupyter-widgets/controls",
      "model_module_version": "2.0.0",
      "model_name": "HTMLStyleModel",
      "state": {
       "_model_module": "@jupyter-widgets/controls",
       "_model_module_version": "2.0.0",
       "_model_name": "HTMLStyleModel",
       "_view_count": null,
       "_view_module": "@jupyter-widgets/base",
       "_view_module_version": "2.0.0",
       "_view_name": "StyleView",
       "background": null,
       "description_width": "",
       "font_size": null,
       "text_color": null
      }
     },
     "73eb1970ebbe42d89713747334866556": {
      "model_module": "@jupyter-widgets/controls",
      "model_module_version": "2.0.0",
      "model_name": "HTMLModel",
      "state": {
       "_dom_classes": [],
       "_model_module": "@jupyter-widgets/controls",
       "_model_module_version": "2.0.0",
       "_model_name": "HTMLModel",
       "_view_count": null,
       "_view_module": "@jupyter-widgets/controls",
       "_view_module_version": "2.0.0",
       "_view_name": "HTMLView",
       "description": "",
       "description_allow_html": false,
       "layout": "IPY_MODEL_a8d1159bbb794170b7b32243a70be0ae",
       "placeholder": "​",
       "style": "IPY_MODEL_ec63e0bccf344ff7aa9aedb20bfa205c",
       "tabbable": null,
       "tooltip": null,
       "value": " 232k/232k [00:00&lt;00:00, 22.1MB/s]"
      }
     },
     "7903e46b469a46f7bace373b829db6d1": {
      "model_module": "@jupyter-widgets/controls",
      "model_module_version": "2.0.0",
      "model_name": "HTMLStyleModel",
      "state": {
       "_model_module": "@jupyter-widgets/controls",
       "_model_module_version": "2.0.0",
       "_model_name": "HTMLStyleModel",
       "_view_count": null,
       "_view_module": "@jupyter-widgets/base",
       "_view_module_version": "2.0.0",
       "_view_name": "StyleView",
       "background": null,
       "description_width": "",
       "font_size": null,
       "text_color": null
      }
     },
     "7a250feeae7b474f918d17f146de8c22": {
      "model_module": "@jupyter-widgets/controls",
      "model_module_version": "2.0.0",
      "model_name": "HTMLStyleModel",
      "state": {
       "_model_module": "@jupyter-widgets/controls",
       "_model_module_version": "2.0.0",
       "_model_name": "HTMLStyleModel",
       "_view_count": null,
       "_view_module": "@jupyter-widgets/base",
       "_view_module_version": "2.0.0",
       "_view_name": "StyleView",
       "background": null,
       "description_width": "",
       "font_size": null,
       "text_color": null
      }
     },
     "8613e47e1e00451ba5362b5c99d833ca": {
      "model_module": "@jupyter-widgets/controls",
      "model_module_version": "2.0.0",
      "model_name": "HTMLModel",
      "state": {
       "_dom_classes": [],
       "_model_module": "@jupyter-widgets/controls",
       "_model_module_version": "2.0.0",
       "_model_name": "HTMLModel",
       "_view_count": null,
       "_view_module": "@jupyter-widgets/controls",
       "_view_module_version": "2.0.0",
       "_view_name": "HTMLView",
       "description": "",
       "description_allow_html": false,
       "layout": "IPY_MODEL_1d535b97213e48a3bc6fb12b1e6fb153",
       "placeholder": "​",
       "style": "IPY_MODEL_b8ead496a7b7410eb2be14f6947b4ea7",
       "tabbable": null,
       "tooltip": null,
       "value": " 466k/466k [00:00&lt;00:00, 2.30MB/s]"
      }
     },
     "866e797969a643e18b2fd33808ffd531": {
      "model_module": "@jupyter-widgets/controls",
      "model_module_version": "2.0.0",
      "model_name": "ProgressStyleModel",
      "state": {
       "_model_module": "@jupyter-widgets/controls",
       "_model_module_version": "2.0.0",
       "_model_name": "ProgressStyleModel",
       "_view_count": null,
       "_view_module": "@jupyter-widgets/base",
       "_view_module_version": "2.0.0",
       "_view_name": "StyleView",
       "bar_color": null,
       "description_width": ""
      }
     },
     "887d6eeef20f4510b4d1fc7e36e9685c": {
      "model_module": "@jupyter-widgets/base",
      "model_module_version": "2.0.0",
      "model_name": "LayoutModel",
      "state": {
       "_model_module": "@jupyter-widgets/base",
       "_model_module_version": "2.0.0",
       "_model_name": "LayoutModel",
       "_view_count": null,
       "_view_module": "@jupyter-widgets/base",
       "_view_module_version": "2.0.0",
       "_view_name": "LayoutView",
       "align_content": null,
       "align_items": null,
       "align_self": null,
       "border_bottom": null,
       "border_left": null,
       "border_right": null,
       "border_top": null,
       "bottom": null,
       "display": null,
       "flex": null,
       "flex_flow": null,
       "grid_area": null,
       "grid_auto_columns": null,
       "grid_auto_flow": null,
       "grid_auto_rows": null,
       "grid_column": null,
       "grid_gap": null,
       "grid_row": null,
       "grid_template_areas": null,
       "grid_template_columns": null,
       "grid_template_rows": null,
       "height": null,
       "justify_content": null,
       "justify_items": null,
       "left": null,
       "margin": null,
       "max_height": null,
       "max_width": null,
       "min_height": null,
       "min_width": null,
       "object_fit": null,
       "object_position": null,
       "order": null,
       "overflow": null,
       "padding": null,
       "right": null,
       "top": null,
       "visibility": null,
       "width": null
      }
     },
     "8ba6f162bd6f41ef9e74d39449317951": {
      "model_module": "@jupyter-widgets/base",
      "model_module_version": "2.0.0",
      "model_name": "LayoutModel",
      "state": {
       "_model_module": "@jupyter-widgets/base",
       "_model_module_version": "2.0.0",
       "_model_name": "LayoutModel",
       "_view_count": null,
       "_view_module": "@jupyter-widgets/base",
       "_view_module_version": "2.0.0",
       "_view_name": "LayoutView",
       "align_content": null,
       "align_items": null,
       "align_self": null,
       "border_bottom": null,
       "border_left": null,
       "border_right": null,
       "border_top": null,
       "bottom": null,
       "display": null,
       "flex": null,
       "flex_flow": null,
       "grid_area": null,
       "grid_auto_columns": null,
       "grid_auto_flow": null,
       "grid_auto_rows": null,
       "grid_column": null,
       "grid_gap": null,
       "grid_row": null,
       "grid_template_areas": null,
       "grid_template_columns": null,
       "grid_template_rows": null,
       "height": null,
       "justify_content": null,
       "justify_items": null,
       "left": null,
       "margin": null,
       "max_height": null,
       "max_width": null,
       "min_height": null,
       "min_width": null,
       "object_fit": null,
       "object_position": null,
       "order": null,
       "overflow": null,
       "padding": null,
       "right": null,
       "top": null,
       "visibility": null,
       "width": null
      }
     },
     "8fbbff83c956406faa365fadea30f784": {
      "model_module": "@jupyter-widgets/base",
      "model_module_version": "2.0.0",
      "model_name": "LayoutModel",
      "state": {
       "_model_module": "@jupyter-widgets/base",
       "_model_module_version": "2.0.0",
       "_model_name": "LayoutModel",
       "_view_count": null,
       "_view_module": "@jupyter-widgets/base",
       "_view_module_version": "2.0.0",
       "_view_name": "LayoutView",
       "align_content": null,
       "align_items": null,
       "align_self": null,
       "border_bottom": null,
       "border_left": null,
       "border_right": null,
       "border_top": null,
       "bottom": null,
       "display": null,
       "flex": null,
       "flex_flow": null,
       "grid_area": null,
       "grid_auto_columns": null,
       "grid_auto_flow": null,
       "grid_auto_rows": null,
       "grid_column": null,
       "grid_gap": null,
       "grid_row": null,
       "grid_template_areas": null,
       "grid_template_columns": null,
       "grid_template_rows": null,
       "height": null,
       "justify_content": null,
       "justify_items": null,
       "left": null,
       "margin": null,
       "max_height": null,
       "max_width": null,
       "min_height": null,
       "min_width": null,
       "object_fit": null,
       "object_position": null,
       "order": null,
       "overflow": null,
       "padding": null,
       "right": null,
       "top": null,
       "visibility": null,
       "width": null
      }
     },
     "925a5a5548e04f0980e99232ce236bdc": {
      "model_module": "@jupyter-widgets/controls",
      "model_module_version": "2.0.0",
      "model_name": "HTMLStyleModel",
      "state": {
       "_model_module": "@jupyter-widgets/controls",
       "_model_module_version": "2.0.0",
       "_model_name": "HTMLStyleModel",
       "_view_count": null,
       "_view_module": "@jupyter-widgets/base",
       "_view_module_version": "2.0.0",
       "_view_name": "StyleView",
       "background": null,
       "description_width": "",
       "font_size": null,
       "text_color": null
      }
     },
     "9ca191c7501e4d49b43bc003c46882bc": {
      "model_module": "@jupyter-widgets/base",
      "model_module_version": "2.0.0",
      "model_name": "LayoutModel",
      "state": {
       "_model_module": "@jupyter-widgets/base",
       "_model_module_version": "2.0.0",
       "_model_name": "LayoutModel",
       "_view_count": null,
       "_view_module": "@jupyter-widgets/base",
       "_view_module_version": "2.0.0",
       "_view_name": "LayoutView",
       "align_content": null,
       "align_items": null,
       "align_self": null,
       "border_bottom": null,
       "border_left": null,
       "border_right": null,
       "border_top": null,
       "bottom": null,
       "display": null,
       "flex": null,
       "flex_flow": null,
       "grid_area": null,
       "grid_auto_columns": null,
       "grid_auto_flow": null,
       "grid_auto_rows": null,
       "grid_column": null,
       "grid_gap": null,
       "grid_row": null,
       "grid_template_areas": null,
       "grid_template_columns": null,
       "grid_template_rows": null,
       "height": null,
       "justify_content": null,
       "justify_items": null,
       "left": null,
       "margin": null,
       "max_height": null,
       "max_width": null,
       "min_height": null,
       "min_width": null,
       "object_fit": null,
       "object_position": null,
       "order": null,
       "overflow": null,
       "padding": null,
       "right": null,
       "top": null,
       "visibility": null,
       "width": null
      }
     },
     "a8d1159bbb794170b7b32243a70be0ae": {
      "model_module": "@jupyter-widgets/base",
      "model_module_version": "2.0.0",
      "model_name": "LayoutModel",
      "state": {
       "_model_module": "@jupyter-widgets/base",
       "_model_module_version": "2.0.0",
       "_model_name": "LayoutModel",
       "_view_count": null,
       "_view_module": "@jupyter-widgets/base",
       "_view_module_version": "2.0.0",
       "_view_name": "LayoutView",
       "align_content": null,
       "align_items": null,
       "align_self": null,
       "border_bottom": null,
       "border_left": null,
       "border_right": null,
       "border_top": null,
       "bottom": null,
       "display": null,
       "flex": null,
       "flex_flow": null,
       "grid_area": null,
       "grid_auto_columns": null,
       "grid_auto_flow": null,
       "grid_auto_rows": null,
       "grid_column": null,
       "grid_gap": null,
       "grid_row": null,
       "grid_template_areas": null,
       "grid_template_columns": null,
       "grid_template_rows": null,
       "height": null,
       "justify_content": null,
       "justify_items": null,
       "left": null,
       "margin": null,
       "max_height": null,
       "max_width": null,
       "min_height": null,
       "min_width": null,
       "object_fit": null,
       "object_position": null,
       "order": null,
       "overflow": null,
       "padding": null,
       "right": null,
       "top": null,
       "visibility": null,
       "width": null
      }
     },
     "ab1120c291834be390d9d9af673dd20e": {
      "model_module": "@jupyter-widgets/controls",
      "model_module_version": "2.0.0",
      "model_name": "HTMLModel",
      "state": {
       "_dom_classes": [],
       "_model_module": "@jupyter-widgets/controls",
       "_model_module_version": "2.0.0",
       "_model_name": "HTMLModel",
       "_view_count": null,
       "_view_module": "@jupyter-widgets/controls",
       "_view_module_version": "2.0.0",
       "_view_name": "HTMLView",
       "description": "",
       "description_allow_html": false,
       "layout": "IPY_MODEL_15ecac71c727466598d46935cfefd571",
       "placeholder": "​",
       "style": "IPY_MODEL_f9ab46d7deac4135958eb40e7cf0eea6",
       "tabbable": null,
       "tooltip": null,
       "value": " 48.0/48.0 [00:00&lt;00:00, 5.09kB/s]"
      }
     },
     "b0505fa34508418fa4571c9ebb975fe0": {
      "model_module": "@jupyter-widgets/controls",
      "model_module_version": "2.0.0",
      "model_name": "ProgressStyleModel",
      "state": {
       "_model_module": "@jupyter-widgets/controls",
       "_model_module_version": "2.0.0",
       "_model_name": "ProgressStyleModel",
       "_view_count": null,
       "_view_module": "@jupyter-widgets/base",
       "_view_module_version": "2.0.0",
       "_view_name": "StyleView",
       "bar_color": null,
       "description_width": ""
      }
     },
     "b484c41854f04bf9a5f9b967ca641ff4": {
      "model_module": "@jupyter-widgets/controls",
      "model_module_version": "2.0.0",
      "model_name": "HBoxModel",
      "state": {
       "_dom_classes": [],
       "_model_module": "@jupyter-widgets/controls",
       "_model_module_version": "2.0.0",
       "_model_name": "HBoxModel",
       "_view_count": null,
       "_view_module": "@jupyter-widgets/controls",
       "_view_module_version": "2.0.0",
       "_view_name": "HBoxView",
       "box_style": "",
       "children": [
        "IPY_MODEL_f49bd77725ac4c3a8115318b23aebc06",
        "IPY_MODEL_56fb815343bf4de892271335d7d70051",
        "IPY_MODEL_8613e47e1e00451ba5362b5c99d833ca"
       ],
       "layout": "IPY_MODEL_bc958648b6e84bb6a97fb0509fa9b616",
       "tabbable": null,
       "tooltip": null
      }
     },
     "b8ead496a7b7410eb2be14f6947b4ea7": {
      "model_module": "@jupyter-widgets/controls",
      "model_module_version": "2.0.0",
      "model_name": "HTMLStyleModel",
      "state": {
       "_model_module": "@jupyter-widgets/controls",
       "_model_module_version": "2.0.0",
       "_model_name": "HTMLStyleModel",
       "_view_count": null,
       "_view_module": "@jupyter-widgets/base",
       "_view_module_version": "2.0.0",
       "_view_name": "StyleView",
       "background": null,
       "description_width": "",
       "font_size": null,
       "text_color": null
      }
     },
     "bc958648b6e84bb6a97fb0509fa9b616": {
      "model_module": "@jupyter-widgets/base",
      "model_module_version": "2.0.0",
      "model_name": "LayoutModel",
      "state": {
       "_model_module": "@jupyter-widgets/base",
       "_model_module_version": "2.0.0",
       "_model_name": "LayoutModel",
       "_view_count": null,
       "_view_module": "@jupyter-widgets/base",
       "_view_module_version": "2.0.0",
       "_view_name": "LayoutView",
       "align_content": null,
       "align_items": null,
       "align_self": null,
       "border_bottom": null,
       "border_left": null,
       "border_right": null,
       "border_top": null,
       "bottom": null,
       "display": null,
       "flex": null,
       "flex_flow": null,
       "grid_area": null,
       "grid_auto_columns": null,
       "grid_auto_flow": null,
       "grid_auto_rows": null,
       "grid_column": null,
       "grid_gap": null,
       "grid_row": null,
       "grid_template_areas": null,
       "grid_template_columns": null,
       "grid_template_rows": null,
       "height": null,
       "justify_content": null,
       "justify_items": null,
       "left": null,
       "margin": null,
       "max_height": null,
       "max_width": null,
       "min_height": null,
       "min_width": null,
       "object_fit": null,
       "object_position": null,
       "order": null,
       "overflow": null,
       "padding": null,
       "right": null,
       "top": null,
       "visibility": null,
       "width": null
      }
     },
     "bf8703bfa78140c19b5606d1edf53498": {
      "model_module": "@jupyter-widgets/base",
      "model_module_version": "2.0.0",
      "model_name": "LayoutModel",
      "state": {
       "_model_module": "@jupyter-widgets/base",
       "_model_module_version": "2.0.0",
       "_model_name": "LayoutModel",
       "_view_count": null,
       "_view_module": "@jupyter-widgets/base",
       "_view_module_version": "2.0.0",
       "_view_name": "LayoutView",
       "align_content": null,
       "align_items": null,
       "align_self": null,
       "border_bottom": null,
       "border_left": null,
       "border_right": null,
       "border_top": null,
       "bottom": null,
       "display": null,
       "flex": null,
       "flex_flow": null,
       "grid_area": null,
       "grid_auto_columns": null,
       "grid_auto_flow": null,
       "grid_auto_rows": null,
       "grid_column": null,
       "grid_gap": null,
       "grid_row": null,
       "grid_template_areas": null,
       "grid_template_columns": null,
       "grid_template_rows": null,
       "height": null,
       "justify_content": null,
       "justify_items": null,
       "left": null,
       "margin": null,
       "max_height": null,
       "max_width": null,
       "min_height": null,
       "min_width": null,
       "object_fit": null,
       "object_position": null,
       "order": null,
       "overflow": null,
       "padding": null,
       "right": null,
       "top": null,
       "visibility": null,
       "width": null
      }
     },
     "c01b7808ccba4c10ad6537b8d97a1934": {
      "model_module": "@jupyter-widgets/controls",
      "model_module_version": "2.0.0",
      "model_name": "HTMLStyleModel",
      "state": {
       "_model_module": "@jupyter-widgets/controls",
       "_model_module_version": "2.0.0",
       "_model_name": "HTMLStyleModel",
       "_view_count": null,
       "_view_module": "@jupyter-widgets/base",
       "_view_module_version": "2.0.0",
       "_view_name": "StyleView",
       "background": null,
       "description_width": "",
       "font_size": null,
       "text_color": null
      }
     },
     "c97a2b9e00b2479fb678afb9b3273b95": {
      "model_module": "@jupyter-widgets/controls",
      "model_module_version": "2.0.0",
      "model_name": "HTMLModel",
      "state": {
       "_dom_classes": [],
       "_model_module": "@jupyter-widgets/controls",
       "_model_module_version": "2.0.0",
       "_model_name": "HTMLModel",
       "_view_count": null,
       "_view_module": "@jupyter-widgets/controls",
       "_view_module_version": "2.0.0",
       "_view_name": "HTMLView",
       "description": "",
       "description_allow_html": false,
       "layout": "IPY_MODEL_8fbbff83c956406faa365fadea30f784",
       "placeholder": "​",
       "style": "IPY_MODEL_925a5a5548e04f0980e99232ce236bdc",
       "tabbable": null,
       "tooltip": null,
       "value": "model.safetensors: 100%"
      }
     },
     "cc399696f9e34b4b80149a4b9472f972": {
      "model_module": "@jupyter-widgets/controls",
      "model_module_version": "2.0.0",
      "model_name": "HBoxModel",
      "state": {
       "_dom_classes": [],
       "_model_module": "@jupyter-widgets/controls",
       "_model_module_version": "2.0.0",
       "_model_name": "HBoxModel",
       "_view_count": null,
       "_view_module": "@jupyter-widgets/controls",
       "_view_module_version": "2.0.0",
       "_view_name": "HBoxView",
       "box_style": "",
       "children": [
        "IPY_MODEL_c97a2b9e00b2479fb678afb9b3273b95",
        "IPY_MODEL_3b619e964ff143ec8cb56ee9db0830b9",
        "IPY_MODEL_4e5a60355a5d4bfabd39951e067c3731"
       ],
       "layout": "IPY_MODEL_2ef5ba87058348dd8c72df8c77954fce",
       "tabbable": null,
       "tooltip": null
      }
     },
     "cc6919f449574a529dae020f6d28402f": {
      "model_module": "@jupyter-widgets/controls",
      "model_module_version": "2.0.0",
      "model_name": "FloatProgressModel",
      "state": {
       "_dom_classes": [],
       "_model_module": "@jupyter-widgets/controls",
       "_model_module_version": "2.0.0",
       "_model_name": "FloatProgressModel",
       "_view_count": null,
       "_view_module": "@jupyter-widgets/controls",
       "_view_module_version": "2.0.0",
       "_view_name": "ProgressView",
       "bar_style": "success",
       "description": "",
       "description_allow_html": false,
       "layout": "IPY_MODEL_26396a4f49044a96a8545cdbff79e55f",
       "max": 483.0,
       "min": 0.0,
       "orientation": "horizontal",
       "style": "IPY_MODEL_b0505fa34508418fa4571c9ebb975fe0",
       "tabbable": null,
       "tooltip": null,
       "value": 483.0
      }
     },
     "d1d4d100dc0347fe91e263f84d516bbb": {
      "model_module": "@jupyter-widgets/controls",
      "model_module_version": "2.0.0",
      "model_name": "FloatProgressModel",
      "state": {
       "_dom_classes": [],
       "_model_module": "@jupyter-widgets/controls",
       "_model_module_version": "2.0.0",
       "_model_name": "FloatProgressModel",
       "_view_count": null,
       "_view_module": "@jupyter-widgets/controls",
       "_view_module_version": "2.0.0",
       "_view_name": "ProgressView",
       "bar_style": "success",
       "description": "",
       "description_allow_html": false,
       "layout": "IPY_MODEL_9ca191c7501e4d49b43bc003c46882bc",
       "max": 231508.0,
       "min": 0.0,
       "orientation": "horizontal",
       "style": "IPY_MODEL_262c6ceb60274d738dc6cbbd25c53380",
       "tabbable": null,
       "tooltip": null,
       "value": 231508.0
      }
     },
     "d2e020691962436f8ebdebfe59e7fa66": {
      "model_module": "@jupyter-widgets/base",
      "model_module_version": "2.0.0",
      "model_name": "LayoutModel",
      "state": {
       "_model_module": "@jupyter-widgets/base",
       "_model_module_version": "2.0.0",
       "_model_name": "LayoutModel",
       "_view_count": null,
       "_view_module": "@jupyter-widgets/base",
       "_view_module_version": "2.0.0",
       "_view_name": "LayoutView",
       "align_content": null,
       "align_items": null,
       "align_self": null,
       "border_bottom": null,
       "border_left": null,
       "border_right": null,
       "border_top": null,
       "bottom": null,
       "display": null,
       "flex": null,
       "flex_flow": null,
       "grid_area": null,
       "grid_auto_columns": null,
       "grid_auto_flow": null,
       "grid_auto_rows": null,
       "grid_column": null,
       "grid_gap": null,
       "grid_row": null,
       "grid_template_areas": null,
       "grid_template_columns": null,
       "grid_template_rows": null,
       "height": null,
       "justify_content": null,
       "justify_items": null,
       "left": null,
       "margin": null,
       "max_height": null,
       "max_width": null,
       "min_height": null,
       "min_width": null,
       "object_fit": null,
       "object_position": null,
       "order": null,
       "overflow": null,
       "padding": null,
       "right": null,
       "top": null,
       "visibility": null,
       "width": null
      }
     },
     "d42081d0b20f44a88d3448395065d87e": {
      "model_module": "@jupyter-widgets/controls",
      "model_module_version": "2.0.0",
      "model_name": "HBoxModel",
      "state": {
       "_dom_classes": [],
       "_model_module": "@jupyter-widgets/controls",
       "_model_module_version": "2.0.0",
       "_model_name": "HBoxModel",
       "_view_count": null,
       "_view_module": "@jupyter-widgets/controls",
       "_view_module_version": "2.0.0",
       "_view_name": "HBoxView",
       "box_style": "",
       "children": [
        "IPY_MODEL_315b0fcd2aac44d9b3db5781444cdb22",
        "IPY_MODEL_cc6919f449574a529dae020f6d28402f",
        "IPY_MODEL_49b236ac836040859d89200c71b525c5"
       ],
       "layout": "IPY_MODEL_23028b84e5a241e9a0ab167b8dbdff71",
       "tabbable": null,
       "tooltip": null
      }
     },
     "e78bad2d7443494b95f11d6a86aa3d16": {
      "model_module": "@jupyter-widgets/base",
      "model_module_version": "2.0.0",
      "model_name": "LayoutModel",
      "state": {
       "_model_module": "@jupyter-widgets/base",
       "_model_module_version": "2.0.0",
       "_model_name": "LayoutModel",
       "_view_count": null,
       "_view_module": "@jupyter-widgets/base",
       "_view_module_version": "2.0.0",
       "_view_name": "LayoutView",
       "align_content": null,
       "align_items": null,
       "align_self": null,
       "border_bottom": null,
       "border_left": null,
       "border_right": null,
       "border_top": null,
       "bottom": null,
       "display": null,
       "flex": null,
       "flex_flow": null,
       "grid_area": null,
       "grid_auto_columns": null,
       "grid_auto_flow": null,
       "grid_auto_rows": null,
       "grid_column": null,
       "grid_gap": null,
       "grid_row": null,
       "grid_template_areas": null,
       "grid_template_columns": null,
       "grid_template_rows": null,
       "height": null,
       "justify_content": null,
       "justify_items": null,
       "left": null,
       "margin": null,
       "max_height": null,
       "max_width": null,
       "min_height": null,
       "min_width": null,
       "object_fit": null,
       "object_position": null,
       "order": null,
       "overflow": null,
       "padding": null,
       "right": null,
       "top": null,
       "visibility": null,
       "width": null
      }
     },
     "e8dfd8357e244e1ebbd9fdd9fa3d32a4": {
      "model_module": "@jupyter-widgets/controls",
      "model_module_version": "2.0.0",
      "model_name": "HTMLModel",
      "state": {
       "_dom_classes": [],
       "_model_module": "@jupyter-widgets/controls",
       "_model_module_version": "2.0.0",
       "_model_name": "HTMLModel",
       "_view_count": null,
       "_view_module": "@jupyter-widgets/controls",
       "_view_module_version": "2.0.0",
       "_view_name": "HTMLView",
       "description": "",
       "description_allow_html": false,
       "layout": "IPY_MODEL_4ddc57af88864532851f22f3cb45761c",
       "placeholder": "​",
       "style": "IPY_MODEL_6c179c139452469680159c4fbfa68021",
       "tabbable": null,
       "tooltip": null,
       "value": "vocab.txt: 100%"
      }
     },
     "ec63e0bccf344ff7aa9aedb20bfa205c": {
      "model_module": "@jupyter-widgets/controls",
      "model_module_version": "2.0.0",
      "model_name": "HTMLStyleModel",
      "state": {
       "_model_module": "@jupyter-widgets/controls",
       "_model_module_version": "2.0.0",
       "_model_name": "HTMLStyleModel",
       "_view_count": null,
       "_view_module": "@jupyter-widgets/base",
       "_view_module_version": "2.0.0",
       "_view_name": "StyleView",
       "background": null,
       "description_width": "",
       "font_size": null,
       "text_color": null
      }
     },
     "f49bd77725ac4c3a8115318b23aebc06": {
      "model_module": "@jupyter-widgets/controls",
      "model_module_version": "2.0.0",
      "model_name": "HTMLModel",
      "state": {
       "_dom_classes": [],
       "_model_module": "@jupyter-widgets/controls",
       "_model_module_version": "2.0.0",
       "_model_name": "HTMLModel",
       "_view_count": null,
       "_view_module": "@jupyter-widgets/controls",
       "_view_module_version": "2.0.0",
       "_view_name": "HTMLView",
       "description": "",
       "description_allow_html": false,
       "layout": "IPY_MODEL_d2e020691962436f8ebdebfe59e7fa66",
       "placeholder": "​",
       "style": "IPY_MODEL_7a250feeae7b474f918d17f146de8c22",
       "tabbable": null,
       "tooltip": null,
       "value": "tokenizer.json: 100%"
      }
     },
     "f65195de7a3140769decba3112fcd9a3": {
      "model_module": "@jupyter-widgets/base",
      "model_module_version": "2.0.0",
      "model_name": "LayoutModel",
      "state": {
       "_model_module": "@jupyter-widgets/base",
       "_model_module_version": "2.0.0",
       "_model_name": "LayoutModel",
       "_view_count": null,
       "_view_module": "@jupyter-widgets/base",
       "_view_module_version": "2.0.0",
       "_view_name": "LayoutView",
       "align_content": null,
       "align_items": null,
       "align_self": null,
       "border_bottom": null,
       "border_left": null,
       "border_right": null,
       "border_top": null,
       "bottom": null,
       "display": null,
       "flex": null,
       "flex_flow": null,
       "grid_area": null,
       "grid_auto_columns": null,
       "grid_auto_flow": null,
       "grid_auto_rows": null,
       "grid_column": null,
       "grid_gap": null,
       "grid_row": null,
       "grid_template_areas": null,
       "grid_template_columns": null,
       "grid_template_rows": null,
       "height": null,
       "justify_content": null,
       "justify_items": null,
       "left": null,
       "margin": null,
       "max_height": null,
       "max_width": null,
       "min_height": null,
       "min_width": null,
       "object_fit": null,
       "object_position": null,
       "order": null,
       "overflow": null,
       "padding": null,
       "right": null,
       "top": null,
       "visibility": null,
       "width": null
      }
     },
     "f9ab46d7deac4135958eb40e7cf0eea6": {
      "model_module": "@jupyter-widgets/controls",
      "model_module_version": "2.0.0",
      "model_name": "HTMLStyleModel",
      "state": {
       "_model_module": "@jupyter-widgets/controls",
       "_model_module_version": "2.0.0",
       "_model_name": "HTMLStyleModel",
       "_view_count": null,
       "_view_module": "@jupyter-widgets/base",
       "_view_module_version": "2.0.0",
       "_view_name": "StyleView",
       "background": null,
       "description_width": "",
       "font_size": null,
       "text_color": null
      }
     },
     "ff2c1429c6bf4e1397bf8b179aa516c9": {
      "model_module": "@jupyter-widgets/base",
      "model_module_version": "2.0.0",
      "model_name": "LayoutModel",
      "state": {
       "_model_module": "@jupyter-widgets/base",
       "_model_module_version": "2.0.0",
       "_model_name": "LayoutModel",
       "_view_count": null,
       "_view_module": "@jupyter-widgets/base",
       "_view_module_version": "2.0.0",
       "_view_name": "LayoutView",
       "align_content": null,
       "align_items": null,
       "align_self": null,
       "border_bottom": null,
       "border_left": null,
       "border_right": null,
       "border_top": null,
       "bottom": null,
       "display": null,
       "flex": null,
       "flex_flow": null,
       "grid_area": null,
       "grid_auto_columns": null,
       "grid_auto_flow": null,
       "grid_auto_rows": null,
       "grid_column": null,
       "grid_gap": null,
       "grid_row": null,
       "grid_template_areas": null,
       "grid_template_columns": null,
       "grid_template_rows": null,
       "height": null,
       "justify_content": null,
       "justify_items": null,
       "left": null,
       "margin": null,
       "max_height": null,
       "max_width": null,
       "min_height": null,
       "min_width": null,
       "object_fit": null,
       "object_position": null,
       "order": null,
       "overflow": null,
       "padding": null,
       "right": null,
       "top": null,
       "visibility": null,
       "width": null
      }
     }
    },
    "version_major": 2,
    "version_minor": 0
   }
  }
 },
 "nbformat": 4,
 "nbformat_minor": 5
}
